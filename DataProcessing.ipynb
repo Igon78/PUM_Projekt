{
  "cells": [
    {
      "cell_type": "markdown",
      "source": [
        "#Przygotowanie danych"
      ],
      "metadata": {
        "id": "GA6S6VTiRled"
      }
    },
    {
      "cell_type": "markdown",
      "metadata": {
        "id": "vHSmolULq9OC"
      },
      "source": [
        "Importy\n"
      ]
    },
    {
      "cell_type": "code",
      "execution_count": 289,
      "metadata": {
        "id": "c7hRGQEPrB-u"
      },
      "outputs": [],
      "source": [
        "import pandas as pd\n",
        "import numpy as np\n",
        "import csv\n",
        "import matplotlib.pyplot as plt\n",
        "import seaborn as sns\n",
        "from sklearn.preprocessing import LabelEncoder\n",
        "import math\n",
        "from sklearn.preprocessing import MinMaxScaler\n",
        "from sklearn.preprocessing import StandardScaler\n",
        "from sklearn.model_selection import train_test_split\n",
        "import matplotlib.pyplot as plt\n",
        "\n",
        "from imblearn.over_sampling import RandomOverSampler\n",
        "from sklearn.impute import SimpleImputer\n",
        "from sklearn.svm import SVC\n",
        "from sklearn.linear_model import LogisticRegression\n",
        "from sklearn.metrics import ConfusionMatrixDisplay , classification_report ,f1_score, accuracy_score,confusion_matrix\n",
        "from sklearn.model_selection import train_test_split , GridSearchCV\n",
        "from sklearn.pipeline import make_pipeline\n",
        "from sklearn import metrics\n",
        "from xgboost import XGBClassifier\n",
        "from sklearn.metrics import recall_score\n",
        "from sklearn.metrics import precision_score\n",
        "\n",
        "from sklearn.decomposition import PCA"
      ]
    },
    {
      "cell_type": "markdown",
      "metadata": {
        "id": "VOZeTg-xrOKg"
      },
      "source": [
        "Wczytanie danych\n"
      ]
    },
    {
      "cell_type": "code",
      "execution_count": 290,
      "metadata": {
        "id": "k1mv5wUMrWZy"
      },
      "outputs": [],
      "source": [
        "data_bankructwo = pd.read_csv('data_bankructwo.csv')"
      ]
    },
    {
      "cell_type": "markdown",
      "source": [
        "Usunięcie spacji z początków nazw kolumn"
      ],
      "metadata": {
        "id": "RPnrzyWpFnSo"
      }
    },
    {
      "cell_type": "code",
      "source": [
        "data_bankructwo.columns = data_bankructwo.columns.str.lstrip()"
      ],
      "metadata": {
        "id": "rd5pottiFs4o"
      },
      "execution_count": 291,
      "outputs": []
    },
    {
      "cell_type": "markdown",
      "metadata": {
        "id": "Qh2qx-yZroWD"
      },
      "source": [
        "**Data Prcoessing**\n",
        "\n",
        "---\n",
        "\n"
      ]
    },
    {
      "cell_type": "markdown",
      "metadata": {
        "id": "UwJUe8kzMiqS"
      },
      "source": [
        "Sprawdzenie typów kolumn-numeric"
      ]
    },
    {
      "cell_type": "code",
      "execution_count": 292,
      "metadata": {
        "colab": {
          "base_uri": "https://localhost:8080/"
        },
        "id": "3VmcwWE_MmJW",
        "outputId": "77b6ce36-c467-42d0-9bb6-c5c351bdc272"
      },
      "outputs": [
        {
          "output_type": "execute_result",
          "data": {
            "text/plain": [
              "Bankrupt?                                                    int64\n",
              "ROA(C) before interest and depreciation before interest    float64\n",
              "ROA(B) before interest and depreciation after tax          float64\n",
              "Operating Gross Margin                                     float64\n",
              "Realized Sales Gross Margin                                float64\n",
              "Operating Profit Rate                                      float64\n",
              "Non-industry income and expenditure/revenue                float64\n",
              "Operating Expense Rate                                     float64\n",
              "Research and development expense rate                      float64\n",
              "Cash flow rate                                             float64\n",
              "Net Value Per Share (B)                                    float64\n",
              "Net Value Per Share (A)                                    float64\n",
              "Net Value Per Share (C)                                    float64\n",
              "Revenue Per Share (Yuan ¥)                                 float64\n",
              "Operating Profit Per Share (Yuan ¥)                        float64\n",
              "Per Share Net profit before tax (Yuan ¥)                   float64\n",
              "Realized Sales Gross Profit Growth Rate                    float64\n",
              "Operating Profit Growth Rate                               float64\n",
              "Total Asset Growth Rate                                    float64\n",
              "Total Asset Return Growth Rate Ratio                       float64\n",
              "Cash Reinvestment %                                        float64\n",
              "Total debt/Total net worth                                 float64\n",
              "Contingent liabilities/Net worth                           float64\n",
              "Total Asset Turnover                                       float64\n",
              "Revenue per person                                         float64\n",
              "Operating profit per person                                float64\n",
              "Allocation rate per person                                 float64\n",
              "Quick Assets/Total Assets                                  float64\n",
              "Current Assets/Total Assets                                float64\n",
              "Cash/Total Assets                                          float64\n",
              "Quick Assets/Current Liability                             float64\n",
              "Cash/Current Liability                                     float64\n",
              "Current Liability to Assets                                float64\n",
              "Operating Funds to Liability                               float64\n",
              "Long-term Liability to Current Assets                      float64\n",
              "Retained Earnings to Total Assets                          float64\n",
              "Total income/Total expense                                 float64\n",
              "Current Asset Turnover Rate                                float64\n",
              "Quick Asset Turnover Rate                                  float64\n",
              "Working capitcal Turnover Rate                             float64\n",
              "Cash Turnover Rate                                         float64\n",
              "Current Liability to Liability                             float64\n",
              "Equity to Long-term Liability                              float64\n",
              "Cash Flow to Total Assets                                  float64\n",
              "Cash Flow to Liability                                     float64\n",
              "Net Income to Total Assets                                 float64\n",
              "Total assets to GNP price                                  float64\n",
              "Gross Profit to Sales                                      float64\n",
              "dtype: object"
            ]
          },
          "metadata": {},
          "execution_count": 292
        }
      ],
      "source": [
        "data_bankructwo.dtypes"
      ]
    },
    {
      "cell_type": "markdown",
      "metadata": {
        "id": "OdOS_onCsaa3"
      },
      "source": [
        "Zbdanie brakujących wartości\n",
        "\n",
        "-Zsumowanie brakujących wartości\n"
      ]
    },
    {
      "cell_type": "code",
      "execution_count": 293,
      "metadata": {
        "colab": {
          "base_uri": "https://localhost:8080/"
        },
        "id": "0jYrtrXxr-_O",
        "outputId": "88ef8fe0-d6ac-4f82-8bc4-7f9bc31a0b45"
      },
      "outputs": [
        {
          "output_type": "execute_result",
          "data": {
            "text/plain": [
              "Bankrupt?                                                  0\n",
              "ROA(C) before interest and depreciation before interest    1\n",
              "ROA(B) before interest and depreciation after tax          1\n",
              "Operating Gross Margin                                     2\n",
              "Realized Sales Gross Margin                                0\n",
              "Operating Profit Rate                                      2\n",
              "Non-industry income and expenditure/revenue                1\n",
              "Operating Expense Rate                                     0\n",
              "Research and development expense rate                      0\n",
              "Cash flow rate                                             0\n",
              "Net Value Per Share (B)                                    0\n",
              "Net Value Per Share (A)                                    0\n",
              "Net Value Per Share (C)                                    0\n",
              "Revenue Per Share (Yuan ¥)                                 0\n",
              "Operating Profit Per Share (Yuan ¥)                        0\n",
              "Per Share Net profit before tax (Yuan ¥)                   0\n",
              "Realized Sales Gross Profit Growth Rate                    0\n",
              "Operating Profit Growth Rate                               1\n",
              "Total Asset Growth Rate                                    0\n",
              "Total Asset Return Growth Rate Ratio                       0\n",
              "Cash Reinvestment %                                        0\n",
              "Total debt/Total net worth                                 0\n",
              "Contingent liabilities/Net worth                           1\n",
              "Total Asset Turnover                                       0\n",
              "Revenue per person                                         0\n",
              "Operating profit per person                                0\n",
              "Allocation rate per person                                 0\n",
              "Quick Assets/Total Assets                                  0\n",
              "Current Assets/Total Assets                                0\n",
              "Cash/Total Assets                                          0\n",
              "Quick Assets/Current Liability                             2\n",
              "Cash/Current Liability                                     0\n",
              "Current Liability to Assets                                0\n",
              "Operating Funds to Liability                               0\n",
              "Long-term Liability to Current Assets                      1\n",
              "Retained Earnings to Total Assets                          1\n",
              "Total income/Total expense                                 0\n",
              "Current Asset Turnover Rate                                0\n",
              "Quick Asset Turnover Rate                                  8\n",
              "Working capitcal Turnover Rate                             0\n",
              "Cash Turnover Rate                                         0\n",
              "Current Liability to Liability                             0\n",
              "Equity to Long-term Liability                              0\n",
              "Cash Flow to Total Assets                                  0\n",
              "Cash Flow to Liability                                     0\n",
              "Net Income to Total Assets                                 0\n",
              "Total assets to GNP price                                  2\n",
              "Gross Profit to Sales                                      0\n",
              "dtype: int64"
            ]
          },
          "metadata": {},
          "execution_count": 293
        }
      ],
      "source": [
        "data_bankructwo.isna().sum()"
      ]
    },
    {
      "cell_type": "markdown",
      "metadata": {
        "id": "r8dYLc0HtHAT"
      },
      "source": [
        "Usunięcie brakujących wartości --z 518 otrzymujemy 498 wierszy jest to niewielka różnica możemy pozwolić na usunięcie tych kolumn"
      ]
    },
    {
      "cell_type": "code",
      "execution_count": 294,
      "metadata": {
        "id": "Tm4uhukgszi_",
        "colab": {
          "base_uri": "https://localhost:8080/",
          "height": 574
        },
        "outputId": "bb7b007c-2872-4f37-c9b4-34056b38fa8e"
      },
      "outputs": [
        {
          "output_type": "execute_result",
          "data": {
            "text/plain": [
              "     Bankrupt?  ROA(C) before interest and depreciation before interest  \\\n",
              "0            1                                           0.370594         \n",
              "1            1                                           0.464291         \n",
              "2            1                                           0.426071         \n",
              "3            1                                           0.399844         \n",
              "4            1                                           0.465022         \n",
              "..         ...                                                ...         \n",
              "493          0                                           0.455467         \n",
              "494          0                                           0.505631         \n",
              "495          0                                           0.520645         \n",
              "496          0                                           0.466046         \n",
              "497          0                                           0.446692         \n",
              "\n",
              "     ROA(B) before interest and depreciation after tax  \\\n",
              "0                                             0.405750   \n",
              "1                                             0.516730   \n",
              "2                                             0.472295   \n",
              "3                                             0.457733   \n",
              "4                                             0.522298   \n",
              "..                                                 ...   \n",
              "493                                           0.507629   \n",
              "494                                           0.555544   \n",
              "495                                           0.573211   \n",
              "496                                           0.519942   \n",
              "497                                           0.498207   \n",
              "\n",
              "     Operating Gross Margin  Realized Sales Gross Margin  \\\n",
              "0                  0.601457                     0.601457   \n",
              "1                  0.610235                     0.610235   \n",
              "2                  0.601450                     0.601364   \n",
              "3                  0.583541                     0.583541   \n",
              "4                  0.598783                     0.598783   \n",
              "..                      ...                          ...   \n",
              "493                0.603547                     0.603425   \n",
              "494                0.605861                     0.605861   \n",
              "495                0.601630                     0.601630   \n",
              "496                0.596167                     0.596167   \n",
              "497                0.593760                     0.593760   \n",
              "\n",
              "     Operating Profit Rate  Non-industry income and expenditure/revenue  \\\n",
              "0                 0.998969                                     0.302646   \n",
              "1                 0.998946                                     0.303556   \n",
              "2                 0.998857                                     0.302035   \n",
              "3                 0.998700                                     0.303350   \n",
              "4                 0.998973                                     0.303475   \n",
              "..                     ...                                          ...   \n",
              "493               0.998935                                     0.303126   \n",
              "494               0.999027                                     0.303471   \n",
              "495               0.999043                                     0.303517   \n",
              "496               0.998926                                     0.303549   \n",
              "497               0.998855                                     0.303290   \n",
              "\n",
              "     Operating Expense Rate  Research and development expense rate  \\\n",
              "0              1.256969e-04                           0.000000e+00   \n",
              "1              2.897851e-04                           0.000000e+00   \n",
              "2              2.361297e-04                           2.550000e+07   \n",
              "3              1.078888e-04                           0.000000e+00   \n",
              "4              7.890000e+09                           0.000000e+00   \n",
              "..                      ...                                    ...   \n",
              "493            1.918409e-04                           3.240000e+09   \n",
              "494            1.385325e-04                           1.380000e+09   \n",
              "495            5.480000e+09                           3.740000e+08   \n",
              "496            8.450000e+09                           7.300000e+08   \n",
              "497            1.169085e-04                           0.000000e+00   \n",
              "\n",
              "     Cash flow rate  ...  Quick Asset Turnover Rate  \\\n",
              "0          0.458143  ...               6.550000e+09   \n",
              "1          0.461867  ...               7.700000e+09   \n",
              "2          0.458521  ...               1.022676e-03   \n",
              "3          0.465705  ...               6.050000e+09   \n",
              "4          0.462746  ...               5.050000e+09   \n",
              "..              ...  ...                        ...   \n",
              "493        0.462325  ...               5.030000e+09   \n",
              "494        0.463877  ...               3.760000e+09   \n",
              "495        0.470252  ...               7.180000e+09   \n",
              "496        0.468628  ...               7.060000e+09   \n",
              "497        0.463974  ...               4.130000e+09   \n",
              "\n",
              "     Working capitcal Turnover Rate  Cash Turnover Rate  \\\n",
              "0                          0.593831        4.580000e+08   \n",
              "1                          0.593916        2.490000e+09   \n",
              "2                          0.594502        7.610000e+08   \n",
              "3                          0.593889        2.030000e+09   \n",
              "4                          0.593915        8.240000e+08   \n",
              "..                              ...                 ...   \n",
              "493                        0.593873        9.930000e+08   \n",
              "494                        0.593929        2.110000e+08   \n",
              "495                        0.593929        5.880000e+09   \n",
              "496                        0.593961        1.950000e+09   \n",
              "497                        0.593796        1.380000e+09   \n",
              "\n",
              "     Current Liability to Liability  Equity to Long-term Liability  \\\n",
              "0                          0.676269                       0.126549   \n",
              "1                          0.308589                       0.120916   \n",
              "2                          0.446027                       0.117922   \n",
              "3                          0.615848                       0.120760   \n",
              "4                          0.975007                       0.110933   \n",
              "..                              ...                            ...   \n",
              "493                        0.868627                       0.117120   \n",
              "494                        0.794287                       0.114702   \n",
              "495                        0.609860                       0.120099   \n",
              "496                        0.709289                       0.110933   \n",
              "497                        0.553170                       0.113723   \n",
              "\n",
              "     Cash Flow to Total Assets  Cash Flow to Liability  \\\n",
              "0                     0.637555                0.458609   \n",
              "1                     0.641100                0.459001   \n",
              "2                     0.642765                0.459254   \n",
              "3                     0.579039                0.448518   \n",
              "4                     0.622374                0.454411   \n",
              "..                         ...                     ...   \n",
              "493                   0.643432                0.459345   \n",
              "494                   0.651624                0.460991   \n",
              "495                   0.655090                0.461324   \n",
              "496                   0.648276                0.461536   \n",
              "497                   0.637222                0.458182   \n",
              "\n",
              "     Net Income to Total Assets  Total assets to GNP price  \\\n",
              "0                      0.716845                   0.009219   \n",
              "1                      0.795297                   0.008323   \n",
              "2                      0.774670                   0.040003   \n",
              "3                      0.739555                   0.003252   \n",
              "4                      0.795016                   0.003878   \n",
              "..                          ...                        ...   \n",
              "493                    0.767086                   0.002173   \n",
              "494                    0.808229                   0.002755   \n",
              "495                    0.811158                   0.003503   \n",
              "496                    0.788567                   0.000855   \n",
              "497                    0.780433                   0.001568   \n",
              "\n",
              "     Gross Profit to Sales  \n",
              "0                 0.601453  \n",
              "1                 0.610237  \n",
              "2                 0.601449  \n",
              "3                 0.583538  \n",
              "4                 0.598782  \n",
              "..                     ...  \n",
              "493               0.603549  \n",
              "494               0.605860  \n",
              "495               0.601631  \n",
              "496               0.596167  \n",
              "497               0.593759  \n",
              "\n",
              "[498 rows x 48 columns]"
            ],
            "text/html": [
              "\n",
              "  <div id=\"df-3bdbfb68-6863-4d1b-b251-df5723026be3\">\n",
              "    <div class=\"colab-df-container\">\n",
              "      <div>\n",
              "<style scoped>\n",
              "    .dataframe tbody tr th:only-of-type {\n",
              "        vertical-align: middle;\n",
              "    }\n",
              "\n",
              "    .dataframe tbody tr th {\n",
              "        vertical-align: top;\n",
              "    }\n",
              "\n",
              "    .dataframe thead th {\n",
              "        text-align: right;\n",
              "    }\n",
              "</style>\n",
              "<table border=\"1\" class=\"dataframe\">\n",
              "  <thead>\n",
              "    <tr style=\"text-align: right;\">\n",
              "      <th></th>\n",
              "      <th>Bankrupt?</th>\n",
              "      <th>ROA(C) before interest and depreciation before interest</th>\n",
              "      <th>ROA(B) before interest and depreciation after tax</th>\n",
              "      <th>Operating Gross Margin</th>\n",
              "      <th>Realized Sales Gross Margin</th>\n",
              "      <th>Operating Profit Rate</th>\n",
              "      <th>Non-industry income and expenditure/revenue</th>\n",
              "      <th>Operating Expense Rate</th>\n",
              "      <th>Research and development expense rate</th>\n",
              "      <th>Cash flow rate</th>\n",
              "      <th>...</th>\n",
              "      <th>Quick Asset Turnover Rate</th>\n",
              "      <th>Working capitcal Turnover Rate</th>\n",
              "      <th>Cash Turnover Rate</th>\n",
              "      <th>Current Liability to Liability</th>\n",
              "      <th>Equity to Long-term Liability</th>\n",
              "      <th>Cash Flow to Total Assets</th>\n",
              "      <th>Cash Flow to Liability</th>\n",
              "      <th>Net Income to Total Assets</th>\n",
              "      <th>Total assets to GNP price</th>\n",
              "      <th>Gross Profit to Sales</th>\n",
              "    </tr>\n",
              "  </thead>\n",
              "  <tbody>\n",
              "    <tr>\n",
              "      <th>0</th>\n",
              "      <td>1</td>\n",
              "      <td>0.370594</td>\n",
              "      <td>0.405750</td>\n",
              "      <td>0.601457</td>\n",
              "      <td>0.601457</td>\n",
              "      <td>0.998969</td>\n",
              "      <td>0.302646</td>\n",
              "      <td>1.256969e-04</td>\n",
              "      <td>0.000000e+00</td>\n",
              "      <td>0.458143</td>\n",
              "      <td>...</td>\n",
              "      <td>6.550000e+09</td>\n",
              "      <td>0.593831</td>\n",
              "      <td>4.580000e+08</td>\n",
              "      <td>0.676269</td>\n",
              "      <td>0.126549</td>\n",
              "      <td>0.637555</td>\n",
              "      <td>0.458609</td>\n",
              "      <td>0.716845</td>\n",
              "      <td>0.009219</td>\n",
              "      <td>0.601453</td>\n",
              "    </tr>\n",
              "    <tr>\n",
              "      <th>1</th>\n",
              "      <td>1</td>\n",
              "      <td>0.464291</td>\n",
              "      <td>0.516730</td>\n",
              "      <td>0.610235</td>\n",
              "      <td>0.610235</td>\n",
              "      <td>0.998946</td>\n",
              "      <td>0.303556</td>\n",
              "      <td>2.897851e-04</td>\n",
              "      <td>0.000000e+00</td>\n",
              "      <td>0.461867</td>\n",
              "      <td>...</td>\n",
              "      <td>7.700000e+09</td>\n",
              "      <td>0.593916</td>\n",
              "      <td>2.490000e+09</td>\n",
              "      <td>0.308589</td>\n",
              "      <td>0.120916</td>\n",
              "      <td>0.641100</td>\n",
              "      <td>0.459001</td>\n",
              "      <td>0.795297</td>\n",
              "      <td>0.008323</td>\n",
              "      <td>0.610237</td>\n",
              "    </tr>\n",
              "    <tr>\n",
              "      <th>2</th>\n",
              "      <td>1</td>\n",
              "      <td>0.426071</td>\n",
              "      <td>0.472295</td>\n",
              "      <td>0.601450</td>\n",
              "      <td>0.601364</td>\n",
              "      <td>0.998857</td>\n",
              "      <td>0.302035</td>\n",
              "      <td>2.361297e-04</td>\n",
              "      <td>2.550000e+07</td>\n",
              "      <td>0.458521</td>\n",
              "      <td>...</td>\n",
              "      <td>1.022676e-03</td>\n",
              "      <td>0.594502</td>\n",
              "      <td>7.610000e+08</td>\n",
              "      <td>0.446027</td>\n",
              "      <td>0.117922</td>\n",
              "      <td>0.642765</td>\n",
              "      <td>0.459254</td>\n",
              "      <td>0.774670</td>\n",
              "      <td>0.040003</td>\n",
              "      <td>0.601449</td>\n",
              "    </tr>\n",
              "    <tr>\n",
              "      <th>3</th>\n",
              "      <td>1</td>\n",
              "      <td>0.399844</td>\n",
              "      <td>0.457733</td>\n",
              "      <td>0.583541</td>\n",
              "      <td>0.583541</td>\n",
              "      <td>0.998700</td>\n",
              "      <td>0.303350</td>\n",
              "      <td>1.078888e-04</td>\n",
              "      <td>0.000000e+00</td>\n",
              "      <td>0.465705</td>\n",
              "      <td>...</td>\n",
              "      <td>6.050000e+09</td>\n",
              "      <td>0.593889</td>\n",
              "      <td>2.030000e+09</td>\n",
              "      <td>0.615848</td>\n",
              "      <td>0.120760</td>\n",
              "      <td>0.579039</td>\n",
              "      <td>0.448518</td>\n",
              "      <td>0.739555</td>\n",
              "      <td>0.003252</td>\n",
              "      <td>0.583538</td>\n",
              "    </tr>\n",
              "    <tr>\n",
              "      <th>4</th>\n",
              "      <td>1</td>\n",
              "      <td>0.465022</td>\n",
              "      <td>0.522298</td>\n",
              "      <td>0.598783</td>\n",
              "      <td>0.598783</td>\n",
              "      <td>0.998973</td>\n",
              "      <td>0.303475</td>\n",
              "      <td>7.890000e+09</td>\n",
              "      <td>0.000000e+00</td>\n",
              "      <td>0.462746</td>\n",
              "      <td>...</td>\n",
              "      <td>5.050000e+09</td>\n",
              "      <td>0.593915</td>\n",
              "      <td>8.240000e+08</td>\n",
              "      <td>0.975007</td>\n",
              "      <td>0.110933</td>\n",
              "      <td>0.622374</td>\n",
              "      <td>0.454411</td>\n",
              "      <td>0.795016</td>\n",
              "      <td>0.003878</td>\n",
              "      <td>0.598782</td>\n",
              "    </tr>\n",
              "    <tr>\n",
              "      <th>...</th>\n",
              "      <td>...</td>\n",
              "      <td>...</td>\n",
              "      <td>...</td>\n",
              "      <td>...</td>\n",
              "      <td>...</td>\n",
              "      <td>...</td>\n",
              "      <td>...</td>\n",
              "      <td>...</td>\n",
              "      <td>...</td>\n",
              "      <td>...</td>\n",
              "      <td>...</td>\n",
              "      <td>...</td>\n",
              "      <td>...</td>\n",
              "      <td>...</td>\n",
              "      <td>...</td>\n",
              "      <td>...</td>\n",
              "      <td>...</td>\n",
              "      <td>...</td>\n",
              "      <td>...</td>\n",
              "      <td>...</td>\n",
              "      <td>...</td>\n",
              "    </tr>\n",
              "    <tr>\n",
              "      <th>493</th>\n",
              "      <td>0</td>\n",
              "      <td>0.455467</td>\n",
              "      <td>0.507629</td>\n",
              "      <td>0.603547</td>\n",
              "      <td>0.603425</td>\n",
              "      <td>0.998935</td>\n",
              "      <td>0.303126</td>\n",
              "      <td>1.918409e-04</td>\n",
              "      <td>3.240000e+09</td>\n",
              "      <td>0.462325</td>\n",
              "      <td>...</td>\n",
              "      <td>5.030000e+09</td>\n",
              "      <td>0.593873</td>\n",
              "      <td>9.930000e+08</td>\n",
              "      <td>0.868627</td>\n",
              "      <td>0.117120</td>\n",
              "      <td>0.643432</td>\n",
              "      <td>0.459345</td>\n",
              "      <td>0.767086</td>\n",
              "      <td>0.002173</td>\n",
              "      <td>0.603549</td>\n",
              "    </tr>\n",
              "    <tr>\n",
              "      <th>494</th>\n",
              "      <td>0</td>\n",
              "      <td>0.505631</td>\n",
              "      <td>0.555544</td>\n",
              "      <td>0.605861</td>\n",
              "      <td>0.605861</td>\n",
              "      <td>0.999027</td>\n",
              "      <td>0.303471</td>\n",
              "      <td>1.385325e-04</td>\n",
              "      <td>1.380000e+09</td>\n",
              "      <td>0.463877</td>\n",
              "      <td>...</td>\n",
              "      <td>3.760000e+09</td>\n",
              "      <td>0.593929</td>\n",
              "      <td>2.110000e+08</td>\n",
              "      <td>0.794287</td>\n",
              "      <td>0.114702</td>\n",
              "      <td>0.651624</td>\n",
              "      <td>0.460991</td>\n",
              "      <td>0.808229</td>\n",
              "      <td>0.002755</td>\n",
              "      <td>0.605860</td>\n",
              "    </tr>\n",
              "    <tr>\n",
              "      <th>495</th>\n",
              "      <td>0</td>\n",
              "      <td>0.520645</td>\n",
              "      <td>0.573211</td>\n",
              "      <td>0.601630</td>\n",
              "      <td>0.601630</td>\n",
              "      <td>0.999043</td>\n",
              "      <td>0.303517</td>\n",
              "      <td>5.480000e+09</td>\n",
              "      <td>3.740000e+08</td>\n",
              "      <td>0.470252</td>\n",
              "      <td>...</td>\n",
              "      <td>7.180000e+09</td>\n",
              "      <td>0.593929</td>\n",
              "      <td>5.880000e+09</td>\n",
              "      <td>0.609860</td>\n",
              "      <td>0.120099</td>\n",
              "      <td>0.655090</td>\n",
              "      <td>0.461324</td>\n",
              "      <td>0.811158</td>\n",
              "      <td>0.003503</td>\n",
              "      <td>0.601631</td>\n",
              "    </tr>\n",
              "    <tr>\n",
              "      <th>496</th>\n",
              "      <td>0</td>\n",
              "      <td>0.466046</td>\n",
              "      <td>0.519942</td>\n",
              "      <td>0.596167</td>\n",
              "      <td>0.596167</td>\n",
              "      <td>0.998926</td>\n",
              "      <td>0.303549</td>\n",
              "      <td>8.450000e+09</td>\n",
              "      <td>7.300000e+08</td>\n",
              "      <td>0.468628</td>\n",
              "      <td>...</td>\n",
              "      <td>7.060000e+09</td>\n",
              "      <td>0.593961</td>\n",
              "      <td>1.950000e+09</td>\n",
              "      <td>0.709289</td>\n",
              "      <td>0.110933</td>\n",
              "      <td>0.648276</td>\n",
              "      <td>0.461536</td>\n",
              "      <td>0.788567</td>\n",
              "      <td>0.000855</td>\n",
              "      <td>0.596167</td>\n",
              "    </tr>\n",
              "    <tr>\n",
              "      <th>497</th>\n",
              "      <td>0</td>\n",
              "      <td>0.446692</td>\n",
              "      <td>0.498207</td>\n",
              "      <td>0.593760</td>\n",
              "      <td>0.593760</td>\n",
              "      <td>0.998855</td>\n",
              "      <td>0.303290</td>\n",
              "      <td>1.169085e-04</td>\n",
              "      <td>0.000000e+00</td>\n",
              "      <td>0.463974</td>\n",
              "      <td>...</td>\n",
              "      <td>4.130000e+09</td>\n",
              "      <td>0.593796</td>\n",
              "      <td>1.380000e+09</td>\n",
              "      <td>0.553170</td>\n",
              "      <td>0.113723</td>\n",
              "      <td>0.637222</td>\n",
              "      <td>0.458182</td>\n",
              "      <td>0.780433</td>\n",
              "      <td>0.001568</td>\n",
              "      <td>0.593759</td>\n",
              "    </tr>\n",
              "  </tbody>\n",
              "</table>\n",
              "<p>498 rows × 48 columns</p>\n",
              "</div>\n",
              "      <button class=\"colab-df-convert\" onclick=\"convertToInteractive('df-3bdbfb68-6863-4d1b-b251-df5723026be3')\"\n",
              "              title=\"Convert this dataframe to an interactive table.\"\n",
              "              style=\"display:none;\">\n",
              "        \n",
              "  <svg xmlns=\"http://www.w3.org/2000/svg\" height=\"24px\"viewBox=\"0 0 24 24\"\n",
              "       width=\"24px\">\n",
              "    <path d=\"M0 0h24v24H0V0z\" fill=\"none\"/>\n",
              "    <path d=\"M18.56 5.44l.94 2.06.94-2.06 2.06-.94-2.06-.94-.94-2.06-.94 2.06-2.06.94zm-11 1L8.5 8.5l.94-2.06 2.06-.94-2.06-.94L8.5 2.5l-.94 2.06-2.06.94zm10 10l.94 2.06.94-2.06 2.06-.94-2.06-.94-.94-2.06-.94 2.06-2.06.94z\"/><path d=\"M17.41 7.96l-1.37-1.37c-.4-.4-.92-.59-1.43-.59-.52 0-1.04.2-1.43.59L10.3 9.45l-7.72 7.72c-.78.78-.78 2.05 0 2.83L4 21.41c.39.39.9.59 1.41.59.51 0 1.02-.2 1.41-.59l7.78-7.78 2.81-2.81c.8-.78.8-2.07 0-2.86zM5.41 20L4 18.59l7.72-7.72 1.47 1.35L5.41 20z\"/>\n",
              "  </svg>\n",
              "      </button>\n",
              "      \n",
              "  <style>\n",
              "    .colab-df-container {\n",
              "      display:flex;\n",
              "      flex-wrap:wrap;\n",
              "      gap: 12px;\n",
              "    }\n",
              "\n",
              "    .colab-df-convert {\n",
              "      background-color: #E8F0FE;\n",
              "      border: none;\n",
              "      border-radius: 50%;\n",
              "      cursor: pointer;\n",
              "      display: none;\n",
              "      fill: #1967D2;\n",
              "      height: 32px;\n",
              "      padding: 0 0 0 0;\n",
              "      width: 32px;\n",
              "    }\n",
              "\n",
              "    .colab-df-convert:hover {\n",
              "      background-color: #E2EBFA;\n",
              "      box-shadow: 0px 1px 2px rgba(60, 64, 67, 0.3), 0px 1px 3px 1px rgba(60, 64, 67, 0.15);\n",
              "      fill: #174EA6;\n",
              "    }\n",
              "\n",
              "    [theme=dark] .colab-df-convert {\n",
              "      background-color: #3B4455;\n",
              "      fill: #D2E3FC;\n",
              "    }\n",
              "\n",
              "    [theme=dark] .colab-df-convert:hover {\n",
              "      background-color: #434B5C;\n",
              "      box-shadow: 0px 1px 3px 1px rgba(0, 0, 0, 0.15);\n",
              "      filter: drop-shadow(0px 1px 2px rgba(0, 0, 0, 0.3));\n",
              "      fill: #FFFFFF;\n",
              "    }\n",
              "  </style>\n",
              "\n",
              "      <script>\n",
              "        const buttonEl =\n",
              "          document.querySelector('#df-3bdbfb68-6863-4d1b-b251-df5723026be3 button.colab-df-convert');\n",
              "        buttonEl.style.display =\n",
              "          google.colab.kernel.accessAllowed ? 'block' : 'none';\n",
              "\n",
              "        async function convertToInteractive(key) {\n",
              "          const element = document.querySelector('#df-3bdbfb68-6863-4d1b-b251-df5723026be3');\n",
              "          const dataTable =\n",
              "            await google.colab.kernel.invokeFunction('convertToInteractive',\n",
              "                                                     [key], {});\n",
              "          if (!dataTable) return;\n",
              "\n",
              "          const docLinkHtml = 'Like what you see? Visit the ' +\n",
              "            '<a target=\"_blank\" href=https://colab.research.google.com/notebooks/data_table.ipynb>data table notebook</a>'\n",
              "            + ' to learn more about interactive tables.';\n",
              "          element.innerHTML = '';\n",
              "          dataTable['output_type'] = 'display_data';\n",
              "          await google.colab.output.renderOutput(dataTable, element);\n",
              "          const docLink = document.createElement('div');\n",
              "          docLink.innerHTML = docLinkHtml;\n",
              "          element.appendChild(docLink);\n",
              "        }\n",
              "      </script>\n",
              "    </div>\n",
              "  </div>\n",
              "  "
            ]
          },
          "metadata": {},
          "execution_count": 294
        }
      ],
      "source": [
        "data_bankructwo=data_bankructwo.dropna()\n",
        "data_bankructwo.reset_index(inplace=True, drop=True)\n",
        "data_bankructwo"
      ]
    },
    {
      "cell_type": "markdown",
      "source": [
        "Szukanie wartości odstających - patrzymy na maksymalną wartość i średnią, zbyt duża róznica między nimi sugeruję występowanie zmiennych odtsających"
      ],
      "metadata": {
        "id": "lP4y0UiTFQie"
      }
    },
    {
      "cell_type": "code",
      "source": [
        "data_bankructwo.describe()"
      ],
      "metadata": {
        "colab": {
          "base_uri": "https://localhost:8080/",
          "height": 480
        },
        "id": "A4HDOSQ8FZ45",
        "outputId": "011af4b3-9078-4bbd-aec2-d52a3b1e2298"
      },
      "execution_count": 295,
      "outputs": [
        {
          "output_type": "execute_result",
          "data": {
            "text/plain": [
              "        Bankrupt?  ROA(C) before interest and depreciation before interest  \\\n",
              "count  498.000000                                         498.000000         \n",
              "mean     0.437751                                           0.459373         \n",
              "std      0.496609                                           0.068715         \n",
              "min      0.000000                                           0.024277         \n",
              "25%      0.000000                                           0.441878         \n",
              "50%      0.000000                                           0.476040         \n",
              "75%      1.000000                                           0.496539         \n",
              "max      1.000000                                           0.589139         \n",
              "\n",
              "       ROA(B) before interest and depreciation after tax  \\\n",
              "count                                         498.000000   \n",
              "mean                                            0.506949   \n",
              "std                                             0.076315   \n",
              "min                                             0.033514   \n",
              "25%                                             0.492411   \n",
              "50%                                             0.528535   \n",
              "75%                                             0.548745   \n",
              "max                                             0.632743   \n",
              "\n",
              "       Operating Gross Margin  Realized Sales Gross Margin  \\\n",
              "count              498.000000                   498.000000   \n",
              "mean                 0.601942                     0.601963   \n",
              "std                  0.012022                     0.012007   \n",
              "min                  0.532906                     0.532906   \n",
              "25%                  0.596704                     0.596726   \n",
              "50%                  0.601407                     0.601364   \n",
              "75%                  0.605985                     0.605985   \n",
              "max                  0.665151                     0.665151   \n",
              "\n",
              "       Operating Profit Rate  Non-industry income and expenditure/revenue  \\\n",
              "count             498.000000                                   498.000000   \n",
              "mean                0.998885                                     0.303116   \n",
              "std                 0.000491                                     0.003419   \n",
              "min                 0.991888                                     0.235090   \n",
              "25%                 0.998891                                     0.303295   \n",
              "50%                 0.998973                                     0.303466   \n",
              "75%                 0.999029                                     0.303541   \n",
              "max                 0.999254                                     0.305396   \n",
              "\n",
              "       Operating Expense Rate  Research and development expense rate  \\\n",
              "count            4.980000e+02                           4.980000e+02   \n",
              "mean             2.408321e+09                           1.158767e+09   \n",
              "std              3.491129e+09                           1.965044e+09   \n",
              "min              1.011819e-04                           0.000000e+00   \n",
              "25%              1.571500e-04                           0.000000e+00   \n",
              "50%              3.591091e-04                           2.175000e+08   \n",
              "75%              5.625000e+09                           1.360000e+09   \n",
              "max              9.960000e+09                           9.920000e+09   \n",
              "\n",
              "       Cash flow rate  ...  Quick Asset Turnover Rate  \\\n",
              "count      498.000000  ...               4.980000e+02   \n",
              "mean         0.464614  ...               3.605773e+09   \n",
              "std          0.010459  ...               3.528867e+09   \n",
              "min          0.343818  ...               0.000000e+00   \n",
              "25%          0.460881  ...               1.779228e-04   \n",
              "50%          0.463302  ...               3.620000e+09   \n",
              "75%          0.467335  ...               6.987500e+09   \n",
              "max          0.545963  ...               9.980000e+09   \n",
              "\n",
              "       Working capitcal Turnover Rate  Cash Turnover Rate  \\\n",
              "count                      498.000000        4.980000e+02   \n",
              "mean                         0.593907        2.508790e+09   \n",
              "std                          0.000975        2.539394e+09   \n",
              "min                          0.572892        1.009574e-04   \n",
              "25%                          0.593899        4.045000e+08   \n",
              "50%                          0.593933        1.675000e+09   \n",
              "75%                          0.593966        3.865000e+09   \n",
              "max                          0.598485        9.740000e+09   \n",
              "\n",
              "       Current Liability to Liability  Equity to Long-term Liability  \\\n",
              "count                      498.000000                     498.000000   \n",
              "mean                         0.661306                       0.122612   \n",
              "std                          0.221581                       0.053730   \n",
              "min                          0.049582                       0.000000   \n",
              "25%                          0.503891                       0.111410   \n",
              "50%                          0.689096                       0.116187   \n",
              "75%                          0.841693                       0.121713   \n",
              "max                          1.000000                       0.922128   \n",
              "\n",
              "       Cash Flow to Total Assets  Cash Flow to Liability  \\\n",
              "count                 498.000000              498.000000   \n",
              "mean                    0.638215                0.457165   \n",
              "std                     0.036249                0.023424   \n",
              "min                     0.167678                0.073969   \n",
              "25%                     0.633667                0.457728   \n",
              "50%                     0.641814                0.459082   \n",
              "75%                     0.648643                0.460342   \n",
              "max                     0.751791                0.497084   \n",
              "\n",
              "       Net Income to Total Assets  Total assets to GNP price  \\\n",
              "count                  498.000000               4.980000e+02   \n",
              "mean                     0.774551               4.020080e+07   \n",
              "std                      0.064375               5.618448e+08   \n",
              "min                      0.411809               1.323021e-04   \n",
              "25%                      0.767692               1.598433e-03   \n",
              "50%                      0.796086               4.262058e-03   \n",
              "75%                      0.807155               9.864242e-03   \n",
              "max                      0.874452               9.170000e+09   \n",
              "\n",
              "       Gross Profit to Sales  \n",
              "count             498.000000  \n",
              "mean                0.601940  \n",
              "std                 0.012022  \n",
              "min                 0.532907  \n",
              "25%                 0.596702  \n",
              "50%                 0.601407  \n",
              "75%                 0.605980  \n",
              "max                 0.665149  \n",
              "\n",
              "[8 rows x 48 columns]"
            ],
            "text/html": [
              "\n",
              "  <div id=\"df-5caf25ee-45db-4fd5-b61b-43985186fd5c\">\n",
              "    <div class=\"colab-df-container\">\n",
              "      <div>\n",
              "<style scoped>\n",
              "    .dataframe tbody tr th:only-of-type {\n",
              "        vertical-align: middle;\n",
              "    }\n",
              "\n",
              "    .dataframe tbody tr th {\n",
              "        vertical-align: top;\n",
              "    }\n",
              "\n",
              "    .dataframe thead th {\n",
              "        text-align: right;\n",
              "    }\n",
              "</style>\n",
              "<table border=\"1\" class=\"dataframe\">\n",
              "  <thead>\n",
              "    <tr style=\"text-align: right;\">\n",
              "      <th></th>\n",
              "      <th>Bankrupt?</th>\n",
              "      <th>ROA(C) before interest and depreciation before interest</th>\n",
              "      <th>ROA(B) before interest and depreciation after tax</th>\n",
              "      <th>Operating Gross Margin</th>\n",
              "      <th>Realized Sales Gross Margin</th>\n",
              "      <th>Operating Profit Rate</th>\n",
              "      <th>Non-industry income and expenditure/revenue</th>\n",
              "      <th>Operating Expense Rate</th>\n",
              "      <th>Research and development expense rate</th>\n",
              "      <th>Cash flow rate</th>\n",
              "      <th>...</th>\n",
              "      <th>Quick Asset Turnover Rate</th>\n",
              "      <th>Working capitcal Turnover Rate</th>\n",
              "      <th>Cash Turnover Rate</th>\n",
              "      <th>Current Liability to Liability</th>\n",
              "      <th>Equity to Long-term Liability</th>\n",
              "      <th>Cash Flow to Total Assets</th>\n",
              "      <th>Cash Flow to Liability</th>\n",
              "      <th>Net Income to Total Assets</th>\n",
              "      <th>Total assets to GNP price</th>\n",
              "      <th>Gross Profit to Sales</th>\n",
              "    </tr>\n",
              "  </thead>\n",
              "  <tbody>\n",
              "    <tr>\n",
              "      <th>count</th>\n",
              "      <td>498.000000</td>\n",
              "      <td>498.000000</td>\n",
              "      <td>498.000000</td>\n",
              "      <td>498.000000</td>\n",
              "      <td>498.000000</td>\n",
              "      <td>498.000000</td>\n",
              "      <td>498.000000</td>\n",
              "      <td>4.980000e+02</td>\n",
              "      <td>4.980000e+02</td>\n",
              "      <td>498.000000</td>\n",
              "      <td>...</td>\n",
              "      <td>4.980000e+02</td>\n",
              "      <td>498.000000</td>\n",
              "      <td>4.980000e+02</td>\n",
              "      <td>498.000000</td>\n",
              "      <td>498.000000</td>\n",
              "      <td>498.000000</td>\n",
              "      <td>498.000000</td>\n",
              "      <td>498.000000</td>\n",
              "      <td>4.980000e+02</td>\n",
              "      <td>498.000000</td>\n",
              "    </tr>\n",
              "    <tr>\n",
              "      <th>mean</th>\n",
              "      <td>0.437751</td>\n",
              "      <td>0.459373</td>\n",
              "      <td>0.506949</td>\n",
              "      <td>0.601942</td>\n",
              "      <td>0.601963</td>\n",
              "      <td>0.998885</td>\n",
              "      <td>0.303116</td>\n",
              "      <td>2.408321e+09</td>\n",
              "      <td>1.158767e+09</td>\n",
              "      <td>0.464614</td>\n",
              "      <td>...</td>\n",
              "      <td>3.605773e+09</td>\n",
              "      <td>0.593907</td>\n",
              "      <td>2.508790e+09</td>\n",
              "      <td>0.661306</td>\n",
              "      <td>0.122612</td>\n",
              "      <td>0.638215</td>\n",
              "      <td>0.457165</td>\n",
              "      <td>0.774551</td>\n",
              "      <td>4.020080e+07</td>\n",
              "      <td>0.601940</td>\n",
              "    </tr>\n",
              "    <tr>\n",
              "      <th>std</th>\n",
              "      <td>0.496609</td>\n",
              "      <td>0.068715</td>\n",
              "      <td>0.076315</td>\n",
              "      <td>0.012022</td>\n",
              "      <td>0.012007</td>\n",
              "      <td>0.000491</td>\n",
              "      <td>0.003419</td>\n",
              "      <td>3.491129e+09</td>\n",
              "      <td>1.965044e+09</td>\n",
              "      <td>0.010459</td>\n",
              "      <td>...</td>\n",
              "      <td>3.528867e+09</td>\n",
              "      <td>0.000975</td>\n",
              "      <td>2.539394e+09</td>\n",
              "      <td>0.221581</td>\n",
              "      <td>0.053730</td>\n",
              "      <td>0.036249</td>\n",
              "      <td>0.023424</td>\n",
              "      <td>0.064375</td>\n",
              "      <td>5.618448e+08</td>\n",
              "      <td>0.012022</td>\n",
              "    </tr>\n",
              "    <tr>\n",
              "      <th>min</th>\n",
              "      <td>0.000000</td>\n",
              "      <td>0.024277</td>\n",
              "      <td>0.033514</td>\n",
              "      <td>0.532906</td>\n",
              "      <td>0.532906</td>\n",
              "      <td>0.991888</td>\n",
              "      <td>0.235090</td>\n",
              "      <td>1.011819e-04</td>\n",
              "      <td>0.000000e+00</td>\n",
              "      <td>0.343818</td>\n",
              "      <td>...</td>\n",
              "      <td>0.000000e+00</td>\n",
              "      <td>0.572892</td>\n",
              "      <td>1.009574e-04</td>\n",
              "      <td>0.049582</td>\n",
              "      <td>0.000000</td>\n",
              "      <td>0.167678</td>\n",
              "      <td>0.073969</td>\n",
              "      <td>0.411809</td>\n",
              "      <td>1.323021e-04</td>\n",
              "      <td>0.532907</td>\n",
              "    </tr>\n",
              "    <tr>\n",
              "      <th>25%</th>\n",
              "      <td>0.000000</td>\n",
              "      <td>0.441878</td>\n",
              "      <td>0.492411</td>\n",
              "      <td>0.596704</td>\n",
              "      <td>0.596726</td>\n",
              "      <td>0.998891</td>\n",
              "      <td>0.303295</td>\n",
              "      <td>1.571500e-04</td>\n",
              "      <td>0.000000e+00</td>\n",
              "      <td>0.460881</td>\n",
              "      <td>...</td>\n",
              "      <td>1.779228e-04</td>\n",
              "      <td>0.593899</td>\n",
              "      <td>4.045000e+08</td>\n",
              "      <td>0.503891</td>\n",
              "      <td>0.111410</td>\n",
              "      <td>0.633667</td>\n",
              "      <td>0.457728</td>\n",
              "      <td>0.767692</td>\n",
              "      <td>1.598433e-03</td>\n",
              "      <td>0.596702</td>\n",
              "    </tr>\n",
              "    <tr>\n",
              "      <th>50%</th>\n",
              "      <td>0.000000</td>\n",
              "      <td>0.476040</td>\n",
              "      <td>0.528535</td>\n",
              "      <td>0.601407</td>\n",
              "      <td>0.601364</td>\n",
              "      <td>0.998973</td>\n",
              "      <td>0.303466</td>\n",
              "      <td>3.591091e-04</td>\n",
              "      <td>2.175000e+08</td>\n",
              "      <td>0.463302</td>\n",
              "      <td>...</td>\n",
              "      <td>3.620000e+09</td>\n",
              "      <td>0.593933</td>\n",
              "      <td>1.675000e+09</td>\n",
              "      <td>0.689096</td>\n",
              "      <td>0.116187</td>\n",
              "      <td>0.641814</td>\n",
              "      <td>0.459082</td>\n",
              "      <td>0.796086</td>\n",
              "      <td>4.262058e-03</td>\n",
              "      <td>0.601407</td>\n",
              "    </tr>\n",
              "    <tr>\n",
              "      <th>75%</th>\n",
              "      <td>1.000000</td>\n",
              "      <td>0.496539</td>\n",
              "      <td>0.548745</td>\n",
              "      <td>0.605985</td>\n",
              "      <td>0.605985</td>\n",
              "      <td>0.999029</td>\n",
              "      <td>0.303541</td>\n",
              "      <td>5.625000e+09</td>\n",
              "      <td>1.360000e+09</td>\n",
              "      <td>0.467335</td>\n",
              "      <td>...</td>\n",
              "      <td>6.987500e+09</td>\n",
              "      <td>0.593966</td>\n",
              "      <td>3.865000e+09</td>\n",
              "      <td>0.841693</td>\n",
              "      <td>0.121713</td>\n",
              "      <td>0.648643</td>\n",
              "      <td>0.460342</td>\n",
              "      <td>0.807155</td>\n",
              "      <td>9.864242e-03</td>\n",
              "      <td>0.605980</td>\n",
              "    </tr>\n",
              "    <tr>\n",
              "      <th>max</th>\n",
              "      <td>1.000000</td>\n",
              "      <td>0.589139</td>\n",
              "      <td>0.632743</td>\n",
              "      <td>0.665151</td>\n",
              "      <td>0.665151</td>\n",
              "      <td>0.999254</td>\n",
              "      <td>0.305396</td>\n",
              "      <td>9.960000e+09</td>\n",
              "      <td>9.920000e+09</td>\n",
              "      <td>0.545963</td>\n",
              "      <td>...</td>\n",
              "      <td>9.980000e+09</td>\n",
              "      <td>0.598485</td>\n",
              "      <td>9.740000e+09</td>\n",
              "      <td>1.000000</td>\n",
              "      <td>0.922128</td>\n",
              "      <td>0.751791</td>\n",
              "      <td>0.497084</td>\n",
              "      <td>0.874452</td>\n",
              "      <td>9.170000e+09</td>\n",
              "      <td>0.665149</td>\n",
              "    </tr>\n",
              "  </tbody>\n",
              "</table>\n",
              "<p>8 rows × 48 columns</p>\n",
              "</div>\n",
              "      <button class=\"colab-df-convert\" onclick=\"convertToInteractive('df-5caf25ee-45db-4fd5-b61b-43985186fd5c')\"\n",
              "              title=\"Convert this dataframe to an interactive table.\"\n",
              "              style=\"display:none;\">\n",
              "        \n",
              "  <svg xmlns=\"http://www.w3.org/2000/svg\" height=\"24px\"viewBox=\"0 0 24 24\"\n",
              "       width=\"24px\">\n",
              "    <path d=\"M0 0h24v24H0V0z\" fill=\"none\"/>\n",
              "    <path d=\"M18.56 5.44l.94 2.06.94-2.06 2.06-.94-2.06-.94-.94-2.06-.94 2.06-2.06.94zm-11 1L8.5 8.5l.94-2.06 2.06-.94-2.06-.94L8.5 2.5l-.94 2.06-2.06.94zm10 10l.94 2.06.94-2.06 2.06-.94-2.06-.94-.94-2.06-.94 2.06-2.06.94z\"/><path d=\"M17.41 7.96l-1.37-1.37c-.4-.4-.92-.59-1.43-.59-.52 0-1.04.2-1.43.59L10.3 9.45l-7.72 7.72c-.78.78-.78 2.05 0 2.83L4 21.41c.39.39.9.59 1.41.59.51 0 1.02-.2 1.41-.59l7.78-7.78 2.81-2.81c.8-.78.8-2.07 0-2.86zM5.41 20L4 18.59l7.72-7.72 1.47 1.35L5.41 20z\"/>\n",
              "  </svg>\n",
              "      </button>\n",
              "      \n",
              "  <style>\n",
              "    .colab-df-container {\n",
              "      display:flex;\n",
              "      flex-wrap:wrap;\n",
              "      gap: 12px;\n",
              "    }\n",
              "\n",
              "    .colab-df-convert {\n",
              "      background-color: #E8F0FE;\n",
              "      border: none;\n",
              "      border-radius: 50%;\n",
              "      cursor: pointer;\n",
              "      display: none;\n",
              "      fill: #1967D2;\n",
              "      height: 32px;\n",
              "      padding: 0 0 0 0;\n",
              "      width: 32px;\n",
              "    }\n",
              "\n",
              "    .colab-df-convert:hover {\n",
              "      background-color: #E2EBFA;\n",
              "      box-shadow: 0px 1px 2px rgba(60, 64, 67, 0.3), 0px 1px 3px 1px rgba(60, 64, 67, 0.15);\n",
              "      fill: #174EA6;\n",
              "    }\n",
              "\n",
              "    [theme=dark] .colab-df-convert {\n",
              "      background-color: #3B4455;\n",
              "      fill: #D2E3FC;\n",
              "    }\n",
              "\n",
              "    [theme=dark] .colab-df-convert:hover {\n",
              "      background-color: #434B5C;\n",
              "      box-shadow: 0px 1px 3px 1px rgba(0, 0, 0, 0.15);\n",
              "      filter: drop-shadow(0px 1px 2px rgba(0, 0, 0, 0.3));\n",
              "      fill: #FFFFFF;\n",
              "    }\n",
              "  </style>\n",
              "\n",
              "      <script>\n",
              "        const buttonEl =\n",
              "          document.querySelector('#df-5caf25ee-45db-4fd5-b61b-43985186fd5c button.colab-df-convert');\n",
              "        buttonEl.style.display =\n",
              "          google.colab.kernel.accessAllowed ? 'block' : 'none';\n",
              "\n",
              "        async function convertToInteractive(key) {\n",
              "          const element = document.querySelector('#df-5caf25ee-45db-4fd5-b61b-43985186fd5c');\n",
              "          const dataTable =\n",
              "            await google.colab.kernel.invokeFunction('convertToInteractive',\n",
              "                                                     [key], {});\n",
              "          if (!dataTable) return;\n",
              "\n",
              "          const docLinkHtml = 'Like what you see? Visit the ' +\n",
              "            '<a target=\"_blank\" href=https://colab.research.google.com/notebooks/data_table.ipynb>data table notebook</a>'\n",
              "            + ' to learn more about interactive tables.';\n",
              "          element.innerHTML = '';\n",
              "          dataTable['output_type'] = 'display_data';\n",
              "          await google.colab.output.renderOutput(dataTable, element);\n",
              "          const docLink = document.createElement('div');\n",
              "          docLink.innerHTML = docLinkHtml;\n",
              "          element.appendChild(docLink);\n",
              "        }\n",
              "      </script>\n",
              "    </div>\n",
              "  </div>\n",
              "  "
            ]
          },
          "metadata": {},
          "execution_count": 295
        }
      ]
    },
    {
      "cell_type": "markdown",
      "source": [
        "Funckja znajdująca wartości odstające w danych"
      ],
      "metadata": {
        "id": "FjvdISn1Fvvu"
      }
    },
    {
      "cell_type": "code",
      "source": [
        "def find_outliers_IQR(df):\n",
        "  q1=df.quantile(0.25)\n",
        "  q3=df.quantile(0.75)\n",
        "  IQR=q3-q1\n",
        "  outliers = df[((df<(q1-1.5*IQR)) | (df>(q3+1.5*IQR)))]\n",
        "  return outliers"
      ],
      "metadata": {
        "id": "o2ZXjMQQF2pG"
      },
      "execution_count": 296,
      "outputs": []
    },
    {
      "cell_type": "code",
      "source": [
        "for i in data_bankructwo.columns:\n",
        "\n",
        "  outliers = find_outliers_IQR(data_bankructwo[i])\n",
        "  display(outliers)"
      ],
      "metadata": {
        "colab": {
          "base_uri": "https://localhost:8080/",
          "height": 1000
        },
        "id": "HfCXhsU2F-Fy",
        "outputId": "d674b5f5-0f74-4f8c-85ae-101e9d069b0c"
      },
      "execution_count": 297,
      "outputs": [
        {
          "output_type": "display_data",
          "data": {
            "text/plain": [
              "Series([], Name: Bankrupt?, dtype: int64)"
            ]
          },
          "metadata": {}
        },
        {
          "output_type": "display_data",
          "data": {
            "text/plain": [
              "10     0.066933\n",
              "20     0.345781\n",
              "27     0.311315\n",
              "66     0.024277\n",
              "79     0.201969\n",
              "81     0.270365\n",
              "86     0.356701\n",
              "87     0.280310\n",
              "91     0.207722\n",
              "96     0.277726\n",
              "97     0.310974\n",
              "100    0.233852\n",
              "102    0.208161\n",
              "106    0.348608\n",
              "129    0.353678\n",
              "135    0.340175\n",
              "138    0.240579\n",
              "140    0.247502\n",
              "154    0.325793\n",
              "167    0.278214\n",
              "168    0.330181\n",
              "170    0.102325\n",
              "172    0.242822\n",
              "174    0.258665\n",
              "182    0.324477\n",
              "185    0.335543\n",
              "189    0.126456\n",
              "197    0.299810\n",
              "200    0.343977\n",
              "208    0.331595\n",
              "209    0.320626\n",
              "210    0.356018\n",
              "214    0.196802\n",
              "215    0.337640\n",
              "216    0.340028\n",
              "389    0.589139\n",
              "Name: ROA(C) before interest and depreciation before interest, dtype: float64"
            ]
          },
          "metadata": {}
        },
        {
          "output_type": "display_data",
          "data": {
            "text/plain": [
              "0      0.405750\n",
              "10     0.054821\n",
              "20     0.386584\n",
              "23     0.404144\n",
              "27     0.360887\n",
              "51     0.398094\n",
              "66     0.033514\n",
              "79     0.228652\n",
              "81     0.291397\n",
              "86     0.398576\n",
              "87     0.301354\n",
              "91     0.237272\n",
              "96     0.307351\n",
              "97     0.343220\n",
              "100    0.333423\n",
              "102    0.226725\n",
              "106    0.345950\n",
              "113    0.389528\n",
              "129    0.393918\n",
              "135    0.364420\n",
              "138    0.263451\n",
              "140    0.275015\n",
              "145    0.402056\n",
              "154    0.359441\n",
              "167    0.305530\n",
              "168    0.353445\n",
              "170    0.112212\n",
              "172    0.212966\n",
              "174    0.290219\n",
              "182    0.344237\n",
              "184    0.363778\n",
              "185    0.375395\n",
              "189    0.112426\n",
              "193    0.208362\n",
              "197    0.345147\n",
              "200    0.384603\n",
              "208    0.372183\n",
              "209    0.345415\n",
              "210    0.385674\n",
              "214    0.221425\n",
              "215    0.378446\n",
              "216    0.380213\n",
              "Name: ROA(B) before interest and depreciation after tax, dtype: float64"
            ]
          },
          "metadata": {}
        },
        {
          "output_type": "display_data",
          "data": {
            "text/plain": [
              "26     0.665151\n",
              "31     0.555939\n",
              "77     0.532906\n",
              "82     0.623013\n",
              "86     0.622213\n",
              "94     0.622595\n",
              "99     0.578648\n",
              "100    0.627106\n",
              "107    0.540776\n",
              "131    0.631992\n",
              "135    0.626414\n",
              "140    0.536812\n",
              "143    0.580702\n",
              "147    0.578165\n",
              "148    0.643105\n",
              "157    0.621564\n",
              "163    0.550282\n",
              "165    0.625074\n",
              "168    0.579909\n",
              "173    0.626436\n",
              "175    0.560905\n",
              "190    0.540891\n",
              "209    0.640388\n",
              "216    0.581466\n",
              "218    0.619950\n",
              "223    0.623712\n",
              "227    0.621773\n",
              "231    0.636259\n",
              "232    0.622177\n",
              "238    0.626544\n",
              "246    0.622703\n",
              "250    0.625326\n",
              "254    0.635718\n",
              "255    0.624317\n",
              "257    0.620944\n",
              "261    0.626414\n",
              "273    0.620397\n",
              "277    0.636785\n",
              "278    0.623986\n",
              "284    0.625600\n",
              "295    0.620454\n",
              "299    0.637606\n",
              "300    0.620526\n",
              "306    0.622919\n",
              "Name: Operating Gross Margin, dtype: float64"
            ]
          },
          "metadata": {}
        },
        {
          "output_type": "display_data",
          "data": {
            "text/plain": [
              "26     0.665151\n",
              "31     0.555939\n",
              "77     0.532906\n",
              "82     0.623013\n",
              "86     0.622213\n",
              "94     0.622595\n",
              "99     0.578648\n",
              "100    0.627106\n",
              "107    0.540776\n",
              "131    0.631992\n",
              "135    0.626414\n",
              "140    0.536812\n",
              "143    0.580702\n",
              "147    0.578165\n",
              "148    0.643105\n",
              "157    0.621579\n",
              "163    0.550282\n",
              "165    0.624454\n",
              "168    0.579909\n",
              "173    0.626436\n",
              "175    0.560861\n",
              "190    0.540891\n",
              "209    0.640388\n",
              "216    0.581466\n",
              "218    0.619950\n",
              "223    0.623712\n",
              "227    0.621773\n",
              "231    0.636252\n",
              "232    0.622256\n",
              "238    0.626544\n",
              "246    0.622530\n",
              "250    0.625326\n",
              "254    0.635718\n",
              "255    0.624288\n",
              "257    0.620944\n",
              "261    0.626414\n",
              "273    0.620397\n",
              "277    0.636785\n",
              "278    0.623906\n",
              "284    0.625600\n",
              "291    0.620058\n",
              "295    0.620454\n",
              "299    0.637606\n",
              "300    0.620382\n",
              "306    0.622919\n",
              "Name: Realized Sales Gross Margin, dtype: float64"
            ]
          },
          "metadata": {}
        },
        {
          "output_type": "display_data",
          "data": {
            "text/plain": [
              "26     0.996295\n",
              "27     0.998511\n",
              "31     0.998291\n",
              "46     0.998589\n",
              "64     0.998534\n",
              "66     0.994015\n",
              "77     0.994729\n",
              "79     0.998625\n",
              "81     0.998093\n",
              "82     0.998633\n",
              "83     0.998292\n",
              "86     0.998483\n",
              "87     0.998414\n",
              "99     0.998496\n",
              "102    0.998481\n",
              "107    0.997789\n",
              "110    0.997783\n",
              "119    0.998506\n",
              "121    0.998644\n",
              "131    0.998131\n",
              "132    0.998258\n",
              "134    0.998307\n",
              "135    0.997763\n",
              "140    0.997904\n",
              "143    0.998506\n",
              "146    0.998568\n",
              "147    0.998648\n",
              "157    0.999254\n",
              "163    0.991888\n",
              "168    0.997091\n",
              "172    0.998155\n",
              "175    0.998284\n",
              "182    0.998602\n",
              "190    0.997517\n",
              "193    0.998647\n",
              "197    0.998452\n",
              "208    0.998665\n",
              "209    0.998554\n",
              "216    0.998372\n",
              "379    0.998608\n",
              "Name: Operating Profit Rate, dtype: float64"
            ]
          },
          "metadata": {}
        },
        {
          "output_type": "display_data",
          "data": {
            "text/plain": [
              "0      0.302646\n",
              "2      0.302035\n",
              "10     0.302760\n",
              "20     0.301379\n",
              "26     0.272989\n",
              "         ...   \n",
              "418    0.302520\n",
              "424    0.302886\n",
              "431    0.302453\n",
              "466    0.304167\n",
              "476    0.303944\n",
              "Name: Non-industry income and expenditure/revenue, Length: 66, dtype: float64"
            ]
          },
          "metadata": {}
        },
        {
          "output_type": "display_data",
          "data": {
            "text/plain": [
              "Series([], Name: Operating Expense Rate, dtype: float64)"
            ]
          },
          "metadata": {}
        },
        {
          "output_type": "display_data",
          "data": {
            "text/plain": [
              "36     4.140000e+09\n",
              "38     9.850000e+09\n",
              "40     3.770000e+09\n",
              "59     7.230000e+09\n",
              "70     7.660000e+09\n",
              "71     6.860000e+09\n",
              "72     6.760000e+09\n",
              "79     5.860000e+09\n",
              "83     4.790000e+09\n",
              "87     5.690000e+09\n",
              "88     3.740000e+09\n",
              "90     6.880000e+09\n",
              "91     3.960000e+09\n",
              "94     5.010000e+09\n",
              "95     6.600000e+09\n",
              "97     6.660000e+09\n",
              "98     4.350000e+09\n",
              "103    6.960000e+09\n",
              "104    5.500000e+09\n",
              "106    8.930000e+09\n",
              "108    6.940000e+09\n",
              "109    3.530000e+09\n",
              "112    4.650000e+09\n",
              "114    3.750000e+09\n",
              "136    9.390000e+09\n",
              "138    4.310000e+09\n",
              "149    4.230000e+09\n",
              "164    8.200000e+09\n",
              "166    3.740000e+09\n",
              "177    4.010000e+09\n",
              "181    5.550000e+09\n",
              "182    9.920000e+09\n",
              "183    3.580000e+09\n",
              "184    6.790000e+09\n",
              "185    9.200000e+09\n",
              "188    7.230000e+09\n",
              "193    4.550000e+09\n",
              "197    5.330000e+09\n",
              "198    5.670000e+09\n",
              "200    4.990000e+09\n",
              "201    3.720000e+09\n",
              "202    6.320000e+09\n",
              "207    5.550000e+09\n",
              "208    6.660000e+09\n",
              "321    3.770000e+09\n",
              "323    4.820000e+09\n",
              "338    6.940000e+09\n",
              "341    7.730000e+09\n",
              "362    7.450000e+09\n",
              "363    4.180000e+09\n",
              "365    7.760000e+09\n",
              "372    3.770000e+09\n",
              "396    4.330000e+09\n",
              "399    5.310000e+09\n",
              "437    3.970000e+09\n",
              "441    7.620000e+09\n",
              "447    4.890000e+09\n",
              "484    4.620000e+09\n",
              "488    7.790000e+09\n",
              "Name: Research and development expense rate, dtype: float64"
            ]
          },
          "metadata": {}
        },
        {
          "output_type": "display_data",
          "data": {
            "text/plain": [
              "47     0.543068\n",
              "66     0.437971\n",
              "77     0.434324\n",
              "80     0.446513\n",
              "82     0.486569\n",
              "97     0.447003\n",
              "100    0.435681\n",
              "102    0.447321\n",
              "133    0.488644\n",
              "135    0.343818\n",
              "163    0.443760\n",
              "167    0.449636\n",
              "190    0.448138\n",
              "226    0.478767\n",
              "232    0.488241\n",
              "239    0.495881\n",
              "255    0.487183\n",
              "278    0.485863\n",
              "285    0.493435\n",
              "298    0.481530\n",
              "300    0.485916\n",
              "325    0.545963\n",
              "343    0.502562\n",
              "344    0.481424\n",
              "351    0.485618\n",
              "354    0.477086\n",
              "358    0.481011\n",
              "367    0.478356\n",
              "368    0.480303\n",
              "375    0.480087\n",
              "389    0.482207\n",
              "397    0.449714\n",
              "411    0.482125\n",
              "437    0.478775\n",
              "439    0.479953\n",
              "455    0.482729\n",
              "460    0.485344\n",
              "477    0.502671\n",
              "485    0.479255\n",
              "Name: Cash flow rate, dtype: float64"
            ]
          },
          "metadata": {}
        },
        {
          "output_type": "display_data",
          "data": {
            "text/plain": [
              "10     0.120012\n",
              "95     0.120180\n",
              "96     0.102398\n",
              "107    0.120602\n",
              "137    0.217606\n",
              "146    0.116599\n",
              "181    0.218659\n",
              "214    0.069656\n",
              "309    0.220303\n",
              "310    0.226244\n",
              "326    0.219923\n",
              "327    0.220766\n",
              "344    0.226581\n",
              "351    0.239476\n",
              "368    0.248704\n",
              "403    0.244364\n",
              "445    0.231722\n",
              "492    0.227171\n",
              "Name: Net Value Per Share (B), dtype: float64"
            ]
          },
          "metadata": {}
        },
        {
          "output_type": "display_data",
          "data": {
            "text/plain": [
              "10     0.120012\n",
              "95     0.120180\n",
              "96     0.102398\n",
              "107    0.120602\n",
              "137    0.217606\n",
              "146    0.116599\n",
              "147    0.113354\n",
              "181    0.218659\n",
              "214    0.069656\n",
              "309    0.220303\n",
              "310    0.226244\n",
              "326    0.219923\n",
              "327    0.220766\n",
              "344    0.226581\n",
              "351    0.239476\n",
              "368    0.248704\n",
              "403    0.244364\n",
              "445    0.231722\n",
              "492    0.227171\n",
              "Name: Net Value Per Share (A), dtype: float64"
            ]
          },
          "metadata": {}
        },
        {
          "output_type": "display_data",
          "data": {
            "text/plain": [
              "10     0.120012\n",
              "95     0.120180\n",
              "96     0.102398\n",
              "107    0.120602\n",
              "137    0.217606\n",
              "146    0.116599\n",
              "147    0.113354\n",
              "181    0.218659\n",
              "214    0.069656\n",
              "309    0.220303\n",
              "310    0.226244\n",
              "326    0.219923\n",
              "327    0.220766\n",
              "344    0.226581\n",
              "351    0.239476\n",
              "368    0.248704\n",
              "403    0.244364\n",
              "445    0.231722\n",
              "492    0.227171\n",
              "Name: Net Value Per Share (C), dtype: float64"
            ]
          },
          "metadata": {}
        },
        {
          "output_type": "display_data",
          "data": {
            "text/plain": [
              "6      0.060529\n",
              "41     0.061346\n",
              "63     0.060847\n",
              "84     0.084275\n",
              "95     0.093244\n",
              "96     0.235976\n",
              "100    0.059591\n",
              "101    0.087103\n",
              "115    0.108807\n",
              "141    0.067955\n",
              "144    0.166039\n",
              "161    0.064023\n",
              "164    0.081507\n",
              "171    0.313928\n",
              "177    0.065414\n",
              "180    0.075336\n",
              "191    0.065702\n",
              "192    0.099596\n",
              "204    0.067713\n",
              "221    0.078664\n",
              "236    0.062329\n",
              "244    0.080327\n",
              "265    0.062238\n",
              "267    0.073294\n",
              "276    0.065717\n",
              "289    0.083019\n",
              "298    0.091928\n",
              "304    0.058578\n",
              "358    0.072115\n",
              "403    0.063252\n",
              "404    0.063660\n",
              "405    0.059591\n",
              "406    0.239802\n",
              "446    0.066700\n",
              "449    0.191085\n",
              "Name: Revenue Per Share (Yuan ¥), dtype: float64"
            ]
          },
          "metadata": {}
        },
        {
          "output_type": "display_data",
          "data": {
            "text/plain": [
              "10     0.066200\n",
              "11     0.069864\n",
              "27     0.055940\n",
              "29     0.070108\n",
              "66     0.051136\n",
              "79     0.030535\n",
              "81     0.040795\n",
              "83     0.050240\n",
              "87     0.066770\n",
              "95     0.014820\n",
              "98     0.065386\n",
              "99     0.041365\n",
              "100    0.052927\n",
              "101    0.126700\n",
              "102    0.052357\n",
              "106    0.056917\n",
              "125    0.128980\n",
              "140    0.018158\n",
              "144    0.000000\n",
              "146    0.061559\n",
              "154    0.046413\n",
              "170    0.063838\n",
              "171    0.130527\n",
              "172    0.060256\n",
              "180    0.052439\n",
              "189    0.060500\n",
              "190    0.066363\n",
              "191    0.054556\n",
              "197    0.066526\n",
              "216    0.050566\n",
              "334    0.123768\n",
              "349    0.123443\n",
              "Name: Operating Profit Per Share (Yuan ¥), dtype: float64"
            ]
          },
          "metadata": {}
        },
        {
          "output_type": "display_data",
          "data": {
            "text/plain": [
              "10     0.067485\n",
              "27     0.089403\n",
              "32     0.121187\n",
              "41     0.122392\n",
              "66     0.121413\n",
              "79     0.090382\n",
              "80     0.111697\n",
              "81     0.080289\n",
              "83     0.091512\n",
              "91     0.076147\n",
              "95     0.084884\n",
              "96     0.000000\n",
              "99     0.113128\n",
              "100    0.121036\n",
              "102    0.101454\n",
              "107    0.079461\n",
              "115    0.118024\n",
              "129    0.098064\n",
              "140    0.098516\n",
              "144    0.082775\n",
              "145    0.081720\n",
              "146    0.085561\n",
              "154    0.088725\n",
              "164    0.112902\n",
              "170    0.099721\n",
              "174    0.098893\n",
              "189    0.107705\n",
              "191    0.115839\n",
              "197    0.093771\n",
              "208    0.123145\n",
              "214    0.054304\n",
              "215    0.091738\n",
              "216    0.106274\n",
              "351    0.221134\n",
              "368    0.225879\n",
              "403    0.218950\n",
              "445    0.213226\n",
              "Name: Per Share Net profit before tax (Yuan ¥), dtype: float64"
            ]
          },
          "metadata": {}
        },
        {
          "output_type": "display_data",
          "data": {
            "text/plain": [
              "2      0.022760\n",
              "5      0.021565\n",
              "7      0.022951\n",
              "8      0.022460\n",
              "14     0.024187\n",
              "         ...   \n",
              "466    0.022551\n",
              "470    0.022573\n",
              "474    0.022368\n",
              "480    0.022343\n",
              "497    0.022271\n",
              "Name: Realized Sales Gross Profit Growth Rate, Length: 65, dtype: float64"
            ]
          },
          "metadata": {}
        },
        {
          "output_type": "display_data",
          "data": {
            "text/plain": [
              "6      0.848455\n",
              "10     0.847569\n",
              "14     0.848349\n",
              "21     0.848401\n",
              "23     0.847527\n",
              "         ...   \n",
              "452    0.846860\n",
              "459    0.848402\n",
              "480    0.848988\n",
              "481    0.848390\n",
              "493    0.846852\n",
              "Name: Operating Profit Growth Rate, Length: 73, dtype: float64"
            ]
          },
          "metadata": {}
        },
        {
          "output_type": "display_data",
          "data": {
            "text/plain": [
              "5      6.080000e+08\n",
              "6      6.540000e+08\n",
              "15     1.128208e-04\n",
              "25     1.217934e-04\n",
              "27     1.800000e+08\n",
              "           ...     \n",
              "470    6.350000e+08\n",
              "479    5.640000e+08\n",
              "482    6.240000e+08\n",
              "487    8.040000e+08\n",
              "488    6.730000e+08\n",
              "Name: Total Asset Growth Rate, Length: 77, dtype: float64"
            ]
          },
          "metadata": {}
        },
        {
          "output_type": "display_data",
          "data": {
            "text/plain": [
              "4      0.265218\n",
              "10     0.256152\n",
              "20     0.261875\n",
              "22     0.265498\n",
              "23     0.261669\n",
              "         ...   \n",
              "217    0.261310\n",
              "241    0.265443\n",
              "381    0.265057\n",
              "438    0.265306\n",
              "478    0.262452\n",
              "Name: Total Asset Return Growth Rate Ratio, Length: 61, dtype: float64"
            ]
          },
          "metadata": {}
        },
        {
          "output_type": "display_data",
          "data": {
            "text/plain": [
              "10     0.327158\n",
              "12     0.337385\n",
              "15     0.335131\n",
              "32     0.356553\n",
              "34     0.344855\n",
              "         ...   \n",
              "216    0.355128\n",
              "324    0.403487\n",
              "391    0.362310\n",
              "439    0.394797\n",
              "478    0.397461\n",
              "Name: Cash Reinvestment %, Length: 65, dtype: float64"
            ]
          },
          "metadata": {}
        },
        {
          "output_type": "display_data",
          "data": {
            "text/plain": [
              "9      3.478419e-02\n",
              "10     1.265724e-01\n",
              "26     4.445052e-02\n",
              "27     6.488679e-01\n",
              "30     3.250622e-02\n",
              "32     5.811470e-02\n",
              "41     4.259842e-02\n",
              "44     3.559033e-02\n",
              "47     3.470000e+09\n",
              "81     3.761114e-02\n",
              "87     9.497442e-02\n",
              "90     3.506507e-02\n",
              "91     5.086897e-01\n",
              "95     3.786201e-01\n",
              "96     1.039978e-01\n",
              "99     3.419874e-02\n",
              "102    4.823316e-02\n",
              "107    9.012667e-02\n",
              "110    1.172252e-01\n",
              "129    1.559452e-01\n",
              "140    4.529770e-02\n",
              "144    1.000000e+00\n",
              "146    7.693942e-02\n",
              "147    1.217967e-01\n",
              "154    2.889311e-01\n",
              "175    3.298772e-02\n",
              "189    4.159440e-02\n",
              "191    4.772340e-02\n",
              "196    3.288649e-02\n",
              "208    3.448235e-02\n",
              "215    8.512753e-02\n",
              "216    8.623004e-02\n",
              "406    3.883767e-02\n",
              "Name: Total debt/Total net worth, dtype: float64"
            ]
          },
          "metadata": {}
        },
        {
          "output_type": "display_data",
          "data": {
            "text/plain": [
              "6      0.016896\n",
              "8      0.007769\n",
              "9      0.012126\n",
              "10     0.000633\n",
              "18     0.009638\n",
              "34     0.011222\n",
              "43     0.011952\n",
              "49     0.007736\n",
              "91     0.042676\n",
              "116    0.007873\n",
              "129    0.010220\n",
              "138    0.008932\n",
              "144    1.000000\n",
              "151    0.007976\n",
              "154    0.014132\n",
              "175    0.010328\n",
              "196    0.010834\n",
              "197    0.007984\n",
              "199    0.007929\n",
              "203    0.007756\n",
              "214    0.000000\n",
              "218    0.008044\n",
              "222    0.008130\n",
              "245    0.008407\n",
              "268    0.009133\n",
              "290    0.008648\n",
              "310    0.008068\n",
              "312    0.008011\n",
              "318    0.008574\n",
              "329    0.008203\n",
              "335    0.012372\n",
              "356    0.012371\n",
              "360    0.009122\n",
              "389    0.007690\n",
              "406    0.009129\n",
              "449    0.008693\n",
              "476    0.008007\n",
              "486    0.008024\n",
              "487    0.008692\n",
              "Name: Contingent liabilities/Net worth, dtype: float64"
            ]
          },
          "metadata": {}
        },
        {
          "output_type": "display_data",
          "data": {
            "text/plain": [
              "10     0.292354\n",
              "96     0.410795\n",
              "100    0.451274\n",
              "101    0.352324\n",
              "115    0.281859\n",
              "144    0.355322\n",
              "161    0.313343\n",
              "170    0.335832\n",
              "171    0.629685\n",
              "189    0.271364\n",
              "192    0.313343\n",
              "204    0.265367\n",
              "221    0.347826\n",
              "244    0.389805\n",
              "267    0.401799\n",
              "276    0.298351\n",
              "289    0.439280\n",
              "298    0.385307\n",
              "334    0.259370\n",
              "358    0.320840\n",
              "404    0.256372\n",
              "406    0.419790\n",
              "446    0.265367\n",
              "449    0.484258\n",
              "Name: Total Asset Turnover, dtype: float64"
            ]
          },
          "metadata": {}
        },
        {
          "output_type": "display_data",
          "data": {
            "text/plain": [
              "9      5.979760e-02\n",
              "26     7.050000e+09\n",
              "45     1.050747e-01\n",
              "54     6.138096e-02\n",
              "56     7.536096e-02\n",
              "60     6.084926e-02\n",
              "63     8.512551e-02\n",
              "68     7.289338e-02\n",
              "75     8.004641e-02\n",
              "80     7.081944e-02\n",
              "84     1.474406e-01\n",
              "92     7.345740e-02\n",
              "93     1.083912e-01\n",
              "95     1.185641e-01\n",
              "96     1.283345e-01\n",
              "101    1.336927e-01\n",
              "104    8.398866e-02\n",
              "115    1.629482e-01\n",
              "117    1.257260e-01\n",
              "118    1.627425e-01\n",
              "120    1.029508e-01\n",
              "125    1.777977e-01\n",
              "126    1.231438e-01\n",
              "127    1.639440e-01\n",
              "128    6.413348e-02\n",
              "130    6.142209e-02\n",
              "133    2.927897e-01\n",
              "144    9.301882e-02\n",
              "170    1.174096e-01\n",
              "171    2.916998e-01\n",
              "176    1.940837e-01\n",
              "179    1.067491e-01\n",
              "182    7.502607e-02\n",
              "192    8.208804e-02\n",
              "204    1.141372e-01\n",
              "205    1.583126e-01\n",
              "214    6.842237e-02\n",
              "230    1.049190e-01\n",
              "253    1.101508e-01\n",
              "276    1.237431e-01\n",
              "298    1.997268e-01\n",
              "316    1.147335e-01\n",
              "317    8.664424e-02\n",
              "318    6.830486e-02\n",
              "333    1.296682e-01\n",
              "334    1.355463e-01\n",
              "335    7.223830e-02\n",
              "351    7.959109e-02\n",
              "352    6.803167e-02\n",
              "355    6.048500e-02\n",
              "356    6.198904e-02\n",
              "357    1.911167e-01\n",
              "358    2.130547e-01\n",
              "359    1.041053e-01\n",
              "360    6.875138e-02\n",
              "368    7.749071e-02\n",
              "478    1.133734e-01\n",
              "Name: Revenue per person, dtype: float64"
            ]
          },
          "metadata": {}
        },
        {
          "output_type": "display_data",
          "data": {
            "text/plain": [
              "10     0.370209\n",
              "11     0.368761\n",
              "31     0.358823\n",
              "47     0.358721\n",
              "56     0.412994\n",
              "         ...   \n",
              "351    0.425906\n",
              "358    0.422379\n",
              "360    0.410642\n",
              "368    0.420931\n",
              "389    0.411049\n",
              "Name: Operating profit per person, Length: 73, dtype: float64"
            ]
          },
          "metadata": {}
        },
        {
          "output_type": "display_data",
          "data": {
            "text/plain": [
              "2      1.410163e-01\n",
              "8      5.942353e-02\n",
              "14     1.609639e-01\n",
              "17     6.601351e-02\n",
              "42     8.925203e-02\n",
              "47     6.647343e-02\n",
              "48     8.667846e-02\n",
              "49     8.459300e-02\n",
              "50     9.145687e-02\n",
              "52     7.552404e-02\n",
              "53     8.168291e-02\n",
              "54     6.133538e-02\n",
              "55     1.019641e-01\n",
              "56     9.553596e-02\n",
              "60     7.273473e-02\n",
              "117    2.968065e-01\n",
              "119    2.148332e-01\n",
              "120    5.966399e-02\n",
              "126    2.109519e-01\n",
              "131    3.540086e-01\n",
              "132    2.991163e-01\n",
              "133    1.850283e-01\n",
              "134    2.787261e-01\n",
              "142    3.480000e+09\n",
              "147    6.213767e-01\n",
              "150    7.936497e-02\n",
              "157    1.281282e-01\n",
              "162    7.862780e-02\n",
              "169    9.132513e-02\n",
              "175    1.008666e-01\n",
              "188    5.548820e-02\n",
              "230    6.665222e-02\n",
              "253    6.495093e-02\n",
              "298    5.618265e-02\n",
              "309    6.796959e-02\n",
              "318    8.225974e-02\n",
              "326    6.762428e-02\n",
              "335    7.011084e-02\n",
              "344    5.425562e-02\n",
              "351    7.191995e-02\n",
              "359    6.389347e-02\n",
              "368    6.754918e-02\n",
              "380    7.675441e-02\n",
              "435    6.127285e-02\n",
              "466    2.493918e-01\n",
              "482    5.646880e-02\n",
              "Name: Allocation rate per person, dtype: float64"
            ]
          },
          "metadata": {}
        },
        {
          "output_type": "display_data",
          "data": {
            "text/plain": [
              "96     0.806118\n",
              "102    0.722708\n",
              "103    0.831287\n",
              "113    0.728138\n",
              "116    0.748745\n",
              "135    0.775138\n",
              "140    0.689309\n",
              "161    0.719796\n",
              "200    0.690692\n",
              "213    0.700512\n",
              "324    0.686689\n",
              "Name: Quick Assets/Total Assets, dtype: float64"
            ]
          },
          "metadata": {}
        },
        {
          "output_type": "display_data",
          "data": {
            "text/plain": [
              "95     0.885585\n",
              "96     0.943633\n",
              "120    0.918246\n",
              "125    0.942712\n",
              "140    0.885368\n",
              "142    0.988767\n",
              "171    0.995453\n",
              "406    0.898424\n",
              "449    0.921918\n",
              "Name: Current Assets/Total Assets, dtype: float64"
            ]
          },
          "metadata": {}
        },
        {
          "output_type": "display_data",
          "data": {
            "text/plain": [
              "10     0.210915\n",
              "59     0.174404\n",
              "80     0.148288\n",
              "83     0.353707\n",
              "100    0.285880\n",
              "116    0.146474\n",
              "135    0.355407\n",
              "141    0.159119\n",
              "161    0.151601\n",
              "164    0.151173\n",
              "171    0.136518\n",
              "172    0.329174\n",
              "180    0.159874\n",
              "184    0.475348\n",
              "185    0.259600\n",
              "200    0.281878\n",
              "204    0.173804\n",
              "208    0.154454\n",
              "220    0.145189\n",
              "233    0.139413\n",
              "235    0.207866\n",
              "279    0.240895\n",
              "285    0.184054\n",
              "288    0.149971\n",
              "303    0.151494\n",
              "307    0.142006\n",
              "324    0.521109\n",
              "330    0.169366\n",
              "342    0.257405\n",
              "352    0.168457\n",
              "366    0.317872\n",
              "411    0.152035\n",
              "424    0.186306\n",
              "439    0.230669\n",
              "451    0.137499\n",
              "Name: Cash/Total Assets, dtype: float64"
            ]
          },
          "metadata": {}
        },
        {
          "output_type": "display_data",
          "data": {
            "text/plain": [
              "47     0.107927\n",
              "66     0.014598\n",
              "97     0.014694\n",
              "116    0.015661\n",
              "135    0.074065\n",
              "136    0.024954\n",
              "155    0.018178\n",
              "184    0.016558\n",
              "232    0.023000\n",
              "255    0.017905\n",
              "256    0.014902\n",
              "266    0.016229\n",
              "278    0.014622\n",
              "279    0.018447\n",
              "285    0.022577\n",
              "288    0.017927\n",
              "300    0.016186\n",
              "301    0.016667\n",
              "307    0.017975\n",
              "314    0.022506\n",
              "315    0.015812\n",
              "325    0.070722\n",
              "336    0.019024\n",
              "343    0.051416\n",
              "352    0.018315\n",
              "355    0.021965\n",
              "356    0.024031\n",
              "358    0.015723\n",
              "361    0.016140\n",
              "367    0.016568\n",
              "375    0.018508\n",
              "397    0.017225\n",
              "402    0.022798\n",
              "415    0.014760\n",
              "439    0.014679\n",
              "460    0.016097\n",
              "477    0.028793\n",
              "Name: Quick Assets/Current Liability, dtype: float64"
            ]
          },
          "metadata": {}
        },
        {
          "output_type": "display_data",
          "data": {
            "text/plain": [
              "2      5.340000e+09\n",
              "31     6.730000e+09\n",
              "44     3.110000e+09\n",
              "47     2.419698e-02\n",
              "51     2.480000e+08\n",
              "59     1.154531e-02\n",
              "60     7.660000e+09\n",
              "75     4.440000e+08\n",
              "77     1.409194e-02\n",
              "80     1.538614e-02\n",
              "82     4.790000e+08\n",
              "83     1.733125e-02\n",
              "100    1.403445e-02\n",
              "110    1.140000e+09\n",
              "117    3.540000e+09\n",
              "121    6.840000e+09\n",
              "126    6.960000e+08\n",
              "132    3.370000e+09\n",
              "135    9.768759e-02\n",
              "136    1.091796e-02\n",
              "142    2.090000e+09\n",
              "156    9.010000e+09\n",
              "172    2.612786e-02\n",
              "184    3.616278e-02\n",
              "190    1.221869e-02\n",
              "200    1.650374e-02\n",
              "212    5.390000e+09\n",
              "220    1.319021e-02\n",
              "232    1.303333e-02\n",
              "233    1.074440e-02\n",
              "239    1.455006e-02\n",
              "262    1.102881e-02\n",
              "266    1.356230e-02\n",
              "271    1.075769e-02\n",
              "279    2.003773e-02\n",
              "285    3.207749e-02\n",
              "288    1.905244e-02\n",
              "307    2.505294e-02\n",
              "315    1.091806e-02\n",
              "324    2.846381e-02\n",
              "325    2.945216e-02\n",
              "330    1.426803e-02\n",
              "342    1.793959e-02\n",
              "352    2.023872e-02\n",
              "358    1.086663e-02\n",
              "359    9.650000e+09\n",
              "361    1.168289e-02\n",
              "366    2.112319e-02\n",
              "367    1.164174e-02\n",
              "402    1.548123e-02\n",
              "411    1.910361e-02\n",
              "424    1.112010e-02\n",
              "429    1.221495e-02\n",
              "435    1.194853e-02\n",
              "439    2.074462e-02\n",
              "477    1.588326e-02\n",
              "485    1.267640e-02\n",
              "Name: Cash/Current Liability, dtype: float64"
            ]
          },
          "metadata": {}
        },
        {
          "output_type": "display_data",
          "data": {
            "text/plain": [
              "91     0.302765\n",
              "95     0.307686\n",
              "96     0.336844\n",
              "107    0.343143\n",
              "Name: Current Liability to Assets, dtype: float64"
            ]
          },
          "metadata": {}
        },
        {
          "output_type": "display_data",
          "data": {
            "text/plain": [
              "12     0.321583\n",
              "47     0.585877\n",
              "66     0.273004\n",
              "77     0.320634\n",
              "79     0.319743\n",
              "80     0.320819\n",
              "82     0.378054\n",
              "96     0.315183\n",
              "100    0.264321\n",
              "102    0.298432\n",
              "104    0.372701\n",
              "125    0.319095\n",
              "127    0.322662\n",
              "133    0.413579\n",
              "135    0.026274\n",
              "167    0.308195\n",
              "172    0.367748\n",
              "179    0.320294\n",
              "184    0.320433\n",
              "200    0.318597\n",
              "239    0.437756\n",
              "285    0.405179\n",
              "298    0.372728\n",
              "302    0.374417\n",
              "306    0.371139\n",
              "316    0.372268\n",
              "324    0.386272\n",
              "355    0.369800\n",
              "358    0.385649\n",
              "366    0.371310\n",
              "391    0.318798\n",
              "396    0.373713\n",
              "397    0.306490\n",
              "411    0.375240\n",
              "437    0.379350\n",
              "439    0.389112\n",
              "455    0.379238\n",
              "477    0.406086\n",
              "Name: Operating Funds to Liability, dtype: float64"
            ]
          },
          "metadata": {}
        },
        {
          "output_type": "display_data",
          "data": {
            "text/plain": [
              "8      7.271765e-02\n",
              "14     8.509660e-02\n",
              "21     5.938674e-02\n",
              "24     7.000000e+09\n",
              "27     4.755434e-02\n",
              "29     5.450000e+09\n",
              "51     4.900138e-02\n",
              "52     4.671904e-02\n",
              "71     4.342901e-02\n",
              "99     7.452524e-02\n",
              "134    5.038409e-02\n",
              "144    4.353975e-02\n",
              "146    1.230899e-01\n",
              "147    1.000000e+00\n",
              "148    2.405461e-01\n",
              "150    4.637182e-02\n",
              "157    1.294633e-01\n",
              "163    5.145545e-02\n",
              "166    5.630423e-02\n",
              "169    6.770570e-02\n",
              "175    1.378383e-01\n",
              "190    4.498449e-02\n",
              "222    6.412653e-02\n",
              "237    4.685822e-02\n",
              "245    1.016790e-01\n",
              "260    4.559511e-02\n",
              "268    8.206890e-02\n",
              "283    4.509496e-02\n",
              "290    9.091379e-02\n",
              "305    6.163285e-02\n",
              "309    6.839402e-02\n",
              "324    8.010000e+09\n",
              "327    4.508398e-02\n",
              "373    4.899938e-02\n",
              "375    8.130000e+08\n",
              "397    8.480000e+08\n",
              "412    4.962824e-02\n",
              "458    7.474033e-02\n",
              "459    4.472583e-02\n",
              "Name: Long-term Liability to Current Assets, dtype: float64"
            ]
          },
          "metadata": {}
        },
        {
          "output_type": "display_data",
          "data": {
            "text/plain": [
              "7      0.868461\n",
              "10     0.841966\n",
              "27     0.846495\n",
              "38     0.872128\n",
              "66     0.854834\n",
              "77     0.872770\n",
              "79     0.838189\n",
              "81     0.837568\n",
              "87     0.816213\n",
              "91     0.871284\n",
              "102    0.858314\n",
              "107    0.804014\n",
              "110    0.869388\n",
              "133    0.828565\n",
              "135    0.873136\n",
              "138    0.745877\n",
              "140    0.867908\n",
              "143    0.842347\n",
              "146    0.843977\n",
              "167    0.847514\n",
              "168    0.878070\n",
              "170    0.829937\n",
              "172    0.795535\n",
              "173    0.872555\n",
              "174    0.873295\n",
              "184    0.762047\n",
              "185    0.860451\n",
              "189    0.808267\n",
              "193    0.729196\n",
              "196    0.878007\n",
              "197    0.860613\n",
              "200    0.868609\n",
              "205    0.876917\n",
              "209    0.822655\n",
              "213    0.873937\n",
              "214    0.777637\n",
              "215    0.852516\n",
              "338    0.860211\n",
              "Name: Retained Earnings to Total Assets, dtype: float64"
            ]
          },
          "metadata": {}
        },
        {
          "output_type": "display_data",
          "data": {
            "text/plain": [
              "31     0.001634\n",
              "125    0.002820\n",
              "140    0.000971\n",
              "175    0.001603\n",
              "324    0.002868\n",
              "325    0.003076\n",
              "326    0.002747\n",
              "344    0.002870\n",
              "351    0.003280\n",
              "368    0.003550\n",
              "389    0.002903\n",
              "411    0.002782\n",
              "455    0.002796\n",
              "476    0.003281\n",
              "Name: Total income/Total expense, dtype: float64"
            ]
          },
          "metadata": {}
        },
        {
          "output_type": "display_data",
          "data": {
            "text/plain": [
              "Series([], Name: Current Asset Turnover Rate, dtype: float64)"
            ]
          },
          "metadata": {}
        },
        {
          "output_type": "display_data",
          "data": {
            "text/plain": [
              "Series([], Name: Quick Asset Turnover Rate, dtype: float64)"
            ]
          },
          "metadata": {}
        },
        {
          "output_type": "display_data",
          "data": {
            "text/plain": [
              "2      0.594502\n",
              "7      0.593789\n",
              "20     0.593799\n",
              "26     0.572892\n",
              "31     0.593753\n",
              "32     0.593797\n",
              "46     0.593773\n",
              "59     0.594073\n",
              "61     0.593736\n",
              "66     0.594351\n",
              "71     0.593745\n",
              "77     0.594194\n",
              "86     0.594216\n",
              "107    0.593187\n",
              "110    0.593370\n",
              "118    0.594174\n",
              "119    0.595007\n",
              "120    0.594114\n",
              "121    0.595328\n",
              "123    0.594848\n",
              "124    0.594131\n",
              "128    0.594070\n",
              "130    0.594083\n",
              "131    0.598485\n",
              "132    0.594412\n",
              "134    0.594257\n",
              "135    0.594300\n",
              "142    0.594907\n",
              "147    0.593798\n",
              "148    0.593567\n",
              "150    0.593770\n",
              "155    0.594213\n",
              "156    0.593441\n",
              "163    0.594274\n",
              "175    0.593628\n",
              "187    0.593739\n",
              "190    0.594151\n",
              "325    0.594137\n",
              "343    0.594074\n",
              "380    0.593787\n",
              "466    0.593544\n",
              "497    0.593796\n",
              "Name: Working capitcal Turnover Rate, dtype: float64"
            ]
          },
          "metadata": {}
        },
        {
          "output_type": "display_data",
          "data": {
            "text/plain": [
              "97     9.470000e+09\n",
              "119    9.390000e+09\n",
              "127    9.460000e+09\n",
              "136    9.330000e+09\n",
              "198    9.240000e+09\n",
              "262    9.670000e+09\n",
              "318    9.740000e+09\n",
              "361    9.190000e+09\n",
              "385    9.590000e+09\n",
              "428    9.270000e+09\n",
              "441    9.440000e+09\n",
              "Name: Cash Turnover Rate, dtype: float64"
            ]
          },
          "metadata": {}
        },
        {
          "output_type": "display_data",
          "data": {
            "text/plain": [
              "Series([], Name: Current Liability to Liability, dtype: float64)"
            ]
          },
          "metadata": {}
        },
        {
          "output_type": "display_data",
          "data": {
            "text/plain": [
              "8      0.149144\n",
              "10     0.025851\n",
              "14     0.140327\n",
              "27     0.922128\n",
              "40     0.142463\n",
              "50     0.144659\n",
              "60     0.137918\n",
              "76     0.137903\n",
              "87     0.176969\n",
              "90     0.146503\n",
              "99     0.191478\n",
              "110    0.217743\n",
              "129    0.168665\n",
              "134    0.145009\n",
              "144    0.862994\n",
              "146    0.000000\n",
              "147    0.480440\n",
              "148    0.155345\n",
              "154    0.276977\n",
              "157    0.137702\n",
              "175    0.159270\n",
              "186    0.141099\n",
              "190    0.149585\n",
              "191    0.147996\n",
              "198    0.138359\n",
              "208    0.143609\n",
              "214    0.090263\n",
              "215    0.144985\n",
              "216    0.216878\n",
              "412    0.137667\n",
              "Name: Equity to Long-term Liability, dtype: float64"
            ]
          },
          "metadata": {}
        },
        {
          "output_type": "display_data",
          "data": {
            "text/plain": [
              "3      0.579039\n",
              "10     0.705153\n",
              "47     0.581215\n",
              "51     0.603664\n",
              "64     0.583631\n",
              "         ...   \n",
              "449    0.677208\n",
              "451    0.701665\n",
              "455    0.604777\n",
              "489    0.603422\n",
              "490    0.594351\n",
              "Name: Cash Flow to Total Assets, Length: 70, dtype: float64"
            ]
          },
          "metadata": {}
        },
        {
          "output_type": "display_data",
          "data": {
            "text/plain": [
              "3      0.448518\n",
              "10     0.464287\n",
              "47     0.165547\n",
              "51     0.452955\n",
              "64     0.444974\n",
              "         ...   \n",
              "460    0.451084\n",
              "467    0.451638\n",
              "477    0.469027\n",
              "489    0.440958\n",
              "490    0.441847\n",
              "Name: Cash Flow to Liability, Length: 87, dtype: float64"
            ]
          },
          "metadata": {}
        },
        {
          "output_type": "display_data",
          "data": {
            "text/plain": [
              "10     0.525651\n",
              "20     0.707756\n",
              "27     0.542326\n",
              "51     0.701107\n",
              "66     0.584583\n",
              "77     0.704625\n",
              "79     0.514453\n",
              "80     0.685548\n",
              "81     0.503219\n",
              "87     0.653610\n",
              "91     0.605902\n",
              "96     0.664814\n",
              "97     0.677638\n",
              "100    0.650285\n",
              "102    0.573296\n",
              "106    0.659323\n",
              "107    0.411809\n",
              "113    0.701446\n",
              "129    0.694075\n",
              "133    0.678242\n",
              "135    0.689880\n",
              "138    0.466577\n",
              "140    0.603822\n",
              "146    0.572881\n",
              "154    0.661031\n",
              "167    0.605230\n",
              "168    0.646740\n",
              "170    0.481836\n",
              "172    0.423755\n",
              "174    0.527263\n",
              "182    0.665136\n",
              "184    0.627605\n",
              "185    0.698642\n",
              "189    0.420995\n",
              "193    0.435569\n",
              "197    0.574453\n",
              "200    0.690592\n",
              "208    0.707830\n",
              "209    0.616498\n",
              "210    0.694384\n",
              "214    0.519388\n",
              "215    0.557733\n",
              "216    0.641804\n",
              "324    0.874452\n",
              "Name: Net Income to Total Assets, dtype: float64"
            ]
          },
          "metadata": {}
        },
        {
          "output_type": "display_data",
          "data": {
            "text/plain": [
              "2      4.000285e-02\n",
              "8      4.016060e-02\n",
              "14     6.128967e-02\n",
              "16     7.496051e-02\n",
              "18     5.842008e-02\n",
              "19     2.656682e-02\n",
              "43     6.566446e-02\n",
              "45     2.589469e-02\n",
              "52     2.374694e-02\n",
              "53     3.378161e-02\n",
              "54     2.350353e-02\n",
              "56     4.529135e-02\n",
              "66     2.710000e+09\n",
              "87     8.140000e+09\n",
              "117    2.914344e-02\n",
              "118    5.388601e-02\n",
              "123    2.322021e-02\n",
              "128    5.257998e-02\n",
              "147    3.873611e-01\n",
              "151    4.023560e-02\n",
              "153    2.423556e-02\n",
              "162    2.474743e-02\n",
              "166    3.218392e-02\n",
              "169    1.570637e-01\n",
              "175    1.271680e-01\n",
              "188    1.525601e-01\n",
              "193    9.170000e+09\n",
              "222    7.697226e-02\n",
              "245    8.000579e-02\n",
              "268    8.330059e-02\n",
              "290    7.926586e-02\n",
              "309    1.816300e-01\n",
              "310    2.575840e-01\n",
              "326    2.142262e-01\n",
              "327    3.155198e-01\n",
              "344    2.182049e-01\n",
              "351    2.326693e-01\n",
              "368    2.366784e-01\n",
              "373    1.146001e-01\n",
              "374    2.719654e-02\n",
              "382    3.776071e-02\n",
              "414    1.215464e-01\n",
              "421    3.511944e-02\n",
              "423    3.446261e-02\n",
              "458    1.236416e-01\n",
              "459    3.059859e-02\n",
              "468    3.961912e-02\n",
              "470    3.530207e-02\n",
              "Name: Total assets to GNP price, dtype: float64"
            ]
          },
          "metadata": {}
        },
        {
          "output_type": "display_data",
          "data": {
            "text/plain": [
              "26     0.665149\n",
              "31     0.555936\n",
              "77     0.532907\n",
              "82     0.623009\n",
              "86     0.622211\n",
              "94     0.622592\n",
              "99     0.578644\n",
              "100    0.627103\n",
              "107    0.540775\n",
              "131    0.631990\n",
              "135    0.626412\n",
              "140    0.536813\n",
              "143    0.580698\n",
              "147    0.578164\n",
              "148    0.643104\n",
              "157    0.621565\n",
              "163    0.550282\n",
              "165    0.625071\n",
              "168    0.579905\n",
              "173    0.626436\n",
              "175    0.560899\n",
              "190    0.540890\n",
              "209    0.640389\n",
              "216    0.581461\n",
              "218    0.619949\n",
              "223    0.623709\n",
              "227    0.621769\n",
              "231    0.636256\n",
              "232    0.622177\n",
              "238    0.626543\n",
              "246    0.622698\n",
              "250    0.625327\n",
              "254    0.635718\n",
              "255    0.624318\n",
              "257    0.620941\n",
              "261    0.626413\n",
              "273    0.620394\n",
              "277    0.636781\n",
              "278    0.623983\n",
              "284    0.625596\n",
              "295    0.620450\n",
              "299    0.637605\n",
              "300    0.620526\n",
              "306    0.622916\n",
              "Name: Gross Profit to Sales, dtype: float64"
            ]
          },
          "metadata": {}
        }
      ]
    },
    {
      "cell_type": "markdown",
      "source": [
        "Zastępująca warości odstające średnią\n",
        "\n"
      ],
      "metadata": {
        "id": "RbQgTtuCGDTs"
      }
    },
    {
      "cell_type": "code",
      "source": [
        "def impute_outliers_IQR(df):\n",
        "  q1=df.quantile(0.25)\n",
        "  q3=df.quantile(0.75)\n",
        "  IQR=q3-q1\n",
        "\n",
        "  upper = df[~(df>(q3+1.5*IQR))].max()\n",
        "  lower = df[~(df<(q1-1.5*IQR))].min()\n",
        "\n",
        "  df = np.where(df > upper,\n",
        "                df.mean(),\n",
        "                np.where(df < lower,\n",
        "                         df.mean(),\n",
        "                         df)\n",
        "                )\n",
        "\n",
        "  return df"
      ],
      "metadata": {
        "id": "vMWNLHT6GGZf"
      },
      "execution_count": 298,
      "outputs": []
    },
    {
      "cell_type": "markdown",
      "source": [
        "Mimo wszytsko w niektórych przypadkach wzciąż istnieje spora różnica miedzy średnią a wartością maksymalną"
      ],
      "metadata": {
        "id": "QREqPTvuQ2xZ"
      }
    },
    {
      "cell_type": "code",
      "source": [
        "data_bankructwo_without_outliers = data_bankructwo.copy()\n",
        "\n",
        "for i in data_bankructwo_without_outliers.columns:\n",
        "  data_bankructwo_without_outliers[i] = impute_outliers_IQR(data_bankructwo_without_outliers[i])\n",
        "\n",
        "data_bankructwo_without_outliers.describe()"
      ],
      "metadata": {
        "colab": {
          "base_uri": "https://localhost:8080/",
          "height": 480
        },
        "id": "ZUQy3rzvGIyR",
        "outputId": "da2c3327-8a9b-4cd8-dff7-d6bde0fb90d8"
      },
      "execution_count": 299,
      "outputs": [
        {
          "output_type": "execute_result",
          "data": {
            "text/plain": [
              "        Bankrupt?  ROA(C) before interest and depreciation before interest  \\\n",
              "count  498.000000                                         498.000000         \n",
              "mean     0.437751                                           0.472366         \n",
              "std      0.496609                                           0.038870         \n",
              "min      0.000000                                           0.360796         \n",
              "25%      0.000000                                           0.453993         \n",
              "50%      0.000000                                           0.475991         \n",
              "75%      1.000000                                           0.496441         \n",
              "max      1.000000                                           0.576951         \n",
              "\n",
              "       ROA(B) before interest and depreciation after tax  \\\n",
              "count                                         498.000000   \n",
              "mean                                            0.523605   \n",
              "std                                             0.038537   \n",
              "min                                             0.410729   \n",
              "25%                                             0.505933   \n",
              "50%                                             0.528535   \n",
              "75%                                             0.548745   \n",
              "max                                             0.632743   \n",
              "\n",
              "       Operating Gross Margin  Realized Sales Gross Margin  \\\n",
              "count              498.000000                   498.000000   \n",
              "mean                 0.601297                     0.601286   \n",
              "std                  0.006675                     0.006603   \n",
              "min                  0.583541                     0.583541   \n",
              "25%                  0.597322                     0.597439   \n",
              "50%                  0.601745                     0.601735   \n",
              "75%                  0.604398                     0.604383   \n",
              "max                  0.619863                     0.619770   \n",
              "\n",
              "       Operating Profit Rate  Non-industry income and expenditure/revenue  \\\n",
              "count             498.000000                                   498.000000   \n",
              "mean                0.998962                                     0.303404   \n",
              "std                 0.000095                                     0.000197   \n",
              "min                 0.998684                                     0.302934   \n",
              "25%                 0.998889                                     0.303237   \n",
              "50%                 0.998973                                     0.303454   \n",
              "75%                 0.999028                                     0.303531   \n",
              "max                 0.999232                                     0.303893   \n",
              "\n",
              "       Operating Expense Rate  Research and development expense rate  \\\n",
              "count            4.980000e+02                           4.980000e+02   \n",
              "mean             2.408321e+09                           6.053682e+08   \n",
              "std              3.491129e+09                           7.737174e+08   \n",
              "min              1.011819e-04                           0.000000e+00   \n",
              "25%              1.571500e-04                           0.000000e+00   \n",
              "50%              3.591091e-04                           2.175000e+08   \n",
              "75%              5.625000e+09                           1.158767e+09   \n",
              "max              9.960000e+09                           3.380000e+09   \n",
              "\n",
              "       Cash flow rate  ...  Quick Asset Turnover Rate  \\\n",
              "count      498.000000  ...               4.980000e+02   \n",
              "mean         0.463882  ...               3.605773e+09   \n",
              "std          0.004514  ...               3.528867e+09   \n",
              "min          0.452396  ...               0.000000e+00   \n",
              "25%          0.461127  ...               1.779228e-04   \n",
              "50%          0.463525  ...               3.620000e+09   \n",
              "75%          0.466325  ...               6.987500e+09   \n",
              "max          0.476878  ...               9.980000e+09   \n",
              "\n",
              "       Working capitcal Turnover Rate  Cash Turnover Rate  \\\n",
              "count                      498.000000        4.980000e+02   \n",
              "mean                         0.593929        2.355792e+09   \n",
              "std                          0.000045        2.315715e+09   \n",
              "min                          0.593801        1.009574e-04   \n",
              "25%                          0.593907        4.045000e+08   \n",
              "50%                          0.593928        1.675000e+09   \n",
              "75%                          0.593959        3.637500e+09   \n",
              "max                          0.594052        9.030000e+09   \n",
              "\n",
              "       Current Liability to Liability  Equity to Long-term Liability  \\\n",
              "count                      498.000000                     498.000000   \n",
              "mean                         0.661306                       0.117488   \n",
              "std                          0.221581                       0.006350   \n",
              "min                          0.049582                       0.110933   \n",
              "25%                          0.503891                       0.111626   \n",
              "50%                          0.689096                       0.116235   \n",
              "75%                          0.841693                       0.122325   \n",
              "max                          1.000000                       0.136933   \n",
              "\n",
              "       Cash Flow to Total Assets  Cash Flow to Liability  \\\n",
              "count                 498.000000              498.000000   \n",
              "mean                    0.641203                0.458766   \n",
              "std                     0.010202                0.001957   \n",
              "min                     0.611322                0.453957   \n",
              "25%                     0.637460                0.457165   \n",
              "50%                     0.640905                0.458848   \n",
              "75%                     0.645980                0.459739   \n",
              "max                     0.670312                0.464235   \n",
              "\n",
              "       Net Income to Total Assets  Total assets to GNP price  \\\n",
              "count                  498.000000               4.980000e+02   \n",
              "mean                     0.789082               3.874776e+06   \n",
              "std                      0.026562               1.187596e+07   \n",
              "min                      0.709356               1.323021e-04   \n",
              "25%                      0.774551               1.598433e-03   \n",
              "50%                      0.796078               4.262058e-03   \n",
              "75%                      0.806986               9.864242e-03   \n",
              "max                      0.850888               4.020080e+07   \n",
              "\n",
              "       Gross Profit to Sales  \n",
              "count             498.000000  \n",
              "mean                0.601296  \n",
              "std                 0.006675  \n",
              "min                 0.583538  \n",
              "25%                 0.597322  \n",
              "50%                 0.601744  \n",
              "75%                 0.604398  \n",
              "max                 0.619861  \n",
              "\n",
              "[8 rows x 48 columns]"
            ],
            "text/html": [
              "\n",
              "  <div id=\"df-3c2602cf-c949-4a4b-8fa4-ca4bfacc7982\">\n",
              "    <div class=\"colab-df-container\">\n",
              "      <div>\n",
              "<style scoped>\n",
              "    .dataframe tbody tr th:only-of-type {\n",
              "        vertical-align: middle;\n",
              "    }\n",
              "\n",
              "    .dataframe tbody tr th {\n",
              "        vertical-align: top;\n",
              "    }\n",
              "\n",
              "    .dataframe thead th {\n",
              "        text-align: right;\n",
              "    }\n",
              "</style>\n",
              "<table border=\"1\" class=\"dataframe\">\n",
              "  <thead>\n",
              "    <tr style=\"text-align: right;\">\n",
              "      <th></th>\n",
              "      <th>Bankrupt?</th>\n",
              "      <th>ROA(C) before interest and depreciation before interest</th>\n",
              "      <th>ROA(B) before interest and depreciation after tax</th>\n",
              "      <th>Operating Gross Margin</th>\n",
              "      <th>Realized Sales Gross Margin</th>\n",
              "      <th>Operating Profit Rate</th>\n",
              "      <th>Non-industry income and expenditure/revenue</th>\n",
              "      <th>Operating Expense Rate</th>\n",
              "      <th>Research and development expense rate</th>\n",
              "      <th>Cash flow rate</th>\n",
              "      <th>...</th>\n",
              "      <th>Quick Asset Turnover Rate</th>\n",
              "      <th>Working capitcal Turnover Rate</th>\n",
              "      <th>Cash Turnover Rate</th>\n",
              "      <th>Current Liability to Liability</th>\n",
              "      <th>Equity to Long-term Liability</th>\n",
              "      <th>Cash Flow to Total Assets</th>\n",
              "      <th>Cash Flow to Liability</th>\n",
              "      <th>Net Income to Total Assets</th>\n",
              "      <th>Total assets to GNP price</th>\n",
              "      <th>Gross Profit to Sales</th>\n",
              "    </tr>\n",
              "  </thead>\n",
              "  <tbody>\n",
              "    <tr>\n",
              "      <th>count</th>\n",
              "      <td>498.000000</td>\n",
              "      <td>498.000000</td>\n",
              "      <td>498.000000</td>\n",
              "      <td>498.000000</td>\n",
              "      <td>498.000000</td>\n",
              "      <td>498.000000</td>\n",
              "      <td>498.000000</td>\n",
              "      <td>4.980000e+02</td>\n",
              "      <td>4.980000e+02</td>\n",
              "      <td>498.000000</td>\n",
              "      <td>...</td>\n",
              "      <td>4.980000e+02</td>\n",
              "      <td>498.000000</td>\n",
              "      <td>4.980000e+02</td>\n",
              "      <td>498.000000</td>\n",
              "      <td>498.000000</td>\n",
              "      <td>498.000000</td>\n",
              "      <td>498.000000</td>\n",
              "      <td>498.000000</td>\n",
              "      <td>4.980000e+02</td>\n",
              "      <td>498.000000</td>\n",
              "    </tr>\n",
              "    <tr>\n",
              "      <th>mean</th>\n",
              "      <td>0.437751</td>\n",
              "      <td>0.472366</td>\n",
              "      <td>0.523605</td>\n",
              "      <td>0.601297</td>\n",
              "      <td>0.601286</td>\n",
              "      <td>0.998962</td>\n",
              "      <td>0.303404</td>\n",
              "      <td>2.408321e+09</td>\n",
              "      <td>6.053682e+08</td>\n",
              "      <td>0.463882</td>\n",
              "      <td>...</td>\n",
              "      <td>3.605773e+09</td>\n",
              "      <td>0.593929</td>\n",
              "      <td>2.355792e+09</td>\n",
              "      <td>0.661306</td>\n",
              "      <td>0.117488</td>\n",
              "      <td>0.641203</td>\n",
              "      <td>0.458766</td>\n",
              "      <td>0.789082</td>\n",
              "      <td>3.874776e+06</td>\n",
              "      <td>0.601296</td>\n",
              "    </tr>\n",
              "    <tr>\n",
              "      <th>std</th>\n",
              "      <td>0.496609</td>\n",
              "      <td>0.038870</td>\n",
              "      <td>0.038537</td>\n",
              "      <td>0.006675</td>\n",
              "      <td>0.006603</td>\n",
              "      <td>0.000095</td>\n",
              "      <td>0.000197</td>\n",
              "      <td>3.491129e+09</td>\n",
              "      <td>7.737174e+08</td>\n",
              "      <td>0.004514</td>\n",
              "      <td>...</td>\n",
              "      <td>3.528867e+09</td>\n",
              "      <td>0.000045</td>\n",
              "      <td>2.315715e+09</td>\n",
              "      <td>0.221581</td>\n",
              "      <td>0.006350</td>\n",
              "      <td>0.010202</td>\n",
              "      <td>0.001957</td>\n",
              "      <td>0.026562</td>\n",
              "      <td>1.187596e+07</td>\n",
              "      <td>0.006675</td>\n",
              "    </tr>\n",
              "    <tr>\n",
              "      <th>min</th>\n",
              "      <td>0.000000</td>\n",
              "      <td>0.360796</td>\n",
              "      <td>0.410729</td>\n",
              "      <td>0.583541</td>\n",
              "      <td>0.583541</td>\n",
              "      <td>0.998684</td>\n",
              "      <td>0.302934</td>\n",
              "      <td>1.011819e-04</td>\n",
              "      <td>0.000000e+00</td>\n",
              "      <td>0.452396</td>\n",
              "      <td>...</td>\n",
              "      <td>0.000000e+00</td>\n",
              "      <td>0.593801</td>\n",
              "      <td>1.009574e-04</td>\n",
              "      <td>0.049582</td>\n",
              "      <td>0.110933</td>\n",
              "      <td>0.611322</td>\n",
              "      <td>0.453957</td>\n",
              "      <td>0.709356</td>\n",
              "      <td>1.323021e-04</td>\n",
              "      <td>0.583538</td>\n",
              "    </tr>\n",
              "    <tr>\n",
              "      <th>25%</th>\n",
              "      <td>0.000000</td>\n",
              "      <td>0.453993</td>\n",
              "      <td>0.505933</td>\n",
              "      <td>0.597322</td>\n",
              "      <td>0.597439</td>\n",
              "      <td>0.998889</td>\n",
              "      <td>0.303237</td>\n",
              "      <td>1.571500e-04</td>\n",
              "      <td>0.000000e+00</td>\n",
              "      <td>0.461127</td>\n",
              "      <td>...</td>\n",
              "      <td>1.779228e-04</td>\n",
              "      <td>0.593907</td>\n",
              "      <td>4.045000e+08</td>\n",
              "      <td>0.503891</td>\n",
              "      <td>0.111626</td>\n",
              "      <td>0.637460</td>\n",
              "      <td>0.457165</td>\n",
              "      <td>0.774551</td>\n",
              "      <td>1.598433e-03</td>\n",
              "      <td>0.597322</td>\n",
              "    </tr>\n",
              "    <tr>\n",
              "      <th>50%</th>\n",
              "      <td>0.000000</td>\n",
              "      <td>0.475991</td>\n",
              "      <td>0.528535</td>\n",
              "      <td>0.601745</td>\n",
              "      <td>0.601735</td>\n",
              "      <td>0.998973</td>\n",
              "      <td>0.303454</td>\n",
              "      <td>3.591091e-04</td>\n",
              "      <td>2.175000e+08</td>\n",
              "      <td>0.463525</td>\n",
              "      <td>...</td>\n",
              "      <td>3.620000e+09</td>\n",
              "      <td>0.593928</td>\n",
              "      <td>1.675000e+09</td>\n",
              "      <td>0.689096</td>\n",
              "      <td>0.116235</td>\n",
              "      <td>0.640905</td>\n",
              "      <td>0.458848</td>\n",
              "      <td>0.796078</td>\n",
              "      <td>4.262058e-03</td>\n",
              "      <td>0.601744</td>\n",
              "    </tr>\n",
              "    <tr>\n",
              "      <th>75%</th>\n",
              "      <td>1.000000</td>\n",
              "      <td>0.496441</td>\n",
              "      <td>0.548745</td>\n",
              "      <td>0.604398</td>\n",
              "      <td>0.604383</td>\n",
              "      <td>0.999028</td>\n",
              "      <td>0.303531</td>\n",
              "      <td>5.625000e+09</td>\n",
              "      <td>1.158767e+09</td>\n",
              "      <td>0.466325</td>\n",
              "      <td>...</td>\n",
              "      <td>6.987500e+09</td>\n",
              "      <td>0.593959</td>\n",
              "      <td>3.637500e+09</td>\n",
              "      <td>0.841693</td>\n",
              "      <td>0.122325</td>\n",
              "      <td>0.645980</td>\n",
              "      <td>0.459739</td>\n",
              "      <td>0.806986</td>\n",
              "      <td>9.864242e-03</td>\n",
              "      <td>0.604398</td>\n",
              "    </tr>\n",
              "    <tr>\n",
              "      <th>max</th>\n",
              "      <td>1.000000</td>\n",
              "      <td>0.576951</td>\n",
              "      <td>0.632743</td>\n",
              "      <td>0.619863</td>\n",
              "      <td>0.619770</td>\n",
              "      <td>0.999232</td>\n",
              "      <td>0.303893</td>\n",
              "      <td>9.960000e+09</td>\n",
              "      <td>3.380000e+09</td>\n",
              "      <td>0.476878</td>\n",
              "      <td>...</td>\n",
              "      <td>9.980000e+09</td>\n",
              "      <td>0.594052</td>\n",
              "      <td>9.030000e+09</td>\n",
              "      <td>1.000000</td>\n",
              "      <td>0.136933</td>\n",
              "      <td>0.670312</td>\n",
              "      <td>0.464235</td>\n",
              "      <td>0.850888</td>\n",
              "      <td>4.020080e+07</td>\n",
              "      <td>0.619861</td>\n",
              "    </tr>\n",
              "  </tbody>\n",
              "</table>\n",
              "<p>8 rows × 48 columns</p>\n",
              "</div>\n",
              "      <button class=\"colab-df-convert\" onclick=\"convertToInteractive('df-3c2602cf-c949-4a4b-8fa4-ca4bfacc7982')\"\n",
              "              title=\"Convert this dataframe to an interactive table.\"\n",
              "              style=\"display:none;\">\n",
              "        \n",
              "  <svg xmlns=\"http://www.w3.org/2000/svg\" height=\"24px\"viewBox=\"0 0 24 24\"\n",
              "       width=\"24px\">\n",
              "    <path d=\"M0 0h24v24H0V0z\" fill=\"none\"/>\n",
              "    <path d=\"M18.56 5.44l.94 2.06.94-2.06 2.06-.94-2.06-.94-.94-2.06-.94 2.06-2.06.94zm-11 1L8.5 8.5l.94-2.06 2.06-.94-2.06-.94L8.5 2.5l-.94 2.06-2.06.94zm10 10l.94 2.06.94-2.06 2.06-.94-2.06-.94-.94-2.06-.94 2.06-2.06.94z\"/><path d=\"M17.41 7.96l-1.37-1.37c-.4-.4-.92-.59-1.43-.59-.52 0-1.04.2-1.43.59L10.3 9.45l-7.72 7.72c-.78.78-.78 2.05 0 2.83L4 21.41c.39.39.9.59 1.41.59.51 0 1.02-.2 1.41-.59l7.78-7.78 2.81-2.81c.8-.78.8-2.07 0-2.86zM5.41 20L4 18.59l7.72-7.72 1.47 1.35L5.41 20z\"/>\n",
              "  </svg>\n",
              "      </button>\n",
              "      \n",
              "  <style>\n",
              "    .colab-df-container {\n",
              "      display:flex;\n",
              "      flex-wrap:wrap;\n",
              "      gap: 12px;\n",
              "    }\n",
              "\n",
              "    .colab-df-convert {\n",
              "      background-color: #E8F0FE;\n",
              "      border: none;\n",
              "      border-radius: 50%;\n",
              "      cursor: pointer;\n",
              "      display: none;\n",
              "      fill: #1967D2;\n",
              "      height: 32px;\n",
              "      padding: 0 0 0 0;\n",
              "      width: 32px;\n",
              "    }\n",
              "\n",
              "    .colab-df-convert:hover {\n",
              "      background-color: #E2EBFA;\n",
              "      box-shadow: 0px 1px 2px rgba(60, 64, 67, 0.3), 0px 1px 3px 1px rgba(60, 64, 67, 0.15);\n",
              "      fill: #174EA6;\n",
              "    }\n",
              "\n",
              "    [theme=dark] .colab-df-convert {\n",
              "      background-color: #3B4455;\n",
              "      fill: #D2E3FC;\n",
              "    }\n",
              "\n",
              "    [theme=dark] .colab-df-convert:hover {\n",
              "      background-color: #434B5C;\n",
              "      box-shadow: 0px 1px 3px 1px rgba(0, 0, 0, 0.15);\n",
              "      filter: drop-shadow(0px 1px 2px rgba(0, 0, 0, 0.3));\n",
              "      fill: #FFFFFF;\n",
              "    }\n",
              "  </style>\n",
              "\n",
              "      <script>\n",
              "        const buttonEl =\n",
              "          document.querySelector('#df-3c2602cf-c949-4a4b-8fa4-ca4bfacc7982 button.colab-df-convert');\n",
              "        buttonEl.style.display =\n",
              "          google.colab.kernel.accessAllowed ? 'block' : 'none';\n",
              "\n",
              "        async function convertToInteractive(key) {\n",
              "          const element = document.querySelector('#df-3c2602cf-c949-4a4b-8fa4-ca4bfacc7982');\n",
              "          const dataTable =\n",
              "            await google.colab.kernel.invokeFunction('convertToInteractive',\n",
              "                                                     [key], {});\n",
              "          if (!dataTable) return;\n",
              "\n",
              "          const docLinkHtml = 'Like what you see? Visit the ' +\n",
              "            '<a target=\"_blank\" href=https://colab.research.google.com/notebooks/data_table.ipynb>data table notebook</a>'\n",
              "            + ' to learn more about interactive tables.';\n",
              "          element.innerHTML = '';\n",
              "          dataTable['output_type'] = 'display_data';\n",
              "          await google.colab.output.renderOutput(dataTable, element);\n",
              "          const docLink = document.createElement('div');\n",
              "          docLink.innerHTML = docLinkHtml;\n",
              "          element.appendChild(docLink);\n",
              "        }\n",
              "      </script>\n",
              "    </div>\n",
              "  </div>\n",
              "  "
            ]
          },
          "metadata": {},
          "execution_count": 299
        }
      ]
    },
    {
      "cell_type": "markdown",
      "source": [
        "#Normalizacja\n",
        "https://www.geeksforgeeks.org/data-normalization-with-pandas/"
      ],
      "metadata": {
        "id": "zYNvNRdiHba7"
      }
    },
    {
      "cell_type": "markdown",
      "source": [
        "***Sprawdzamy czy zmienne mają rozkład normalny***\n",
        "\n",
        "Test Shapiro-Wilka – test służący do oceny, czy zebrane przez nas wyniki od badanych osób posiadają rozkład normalny.Hipoteza zerowa dla tego testu zakłada, że nasza próba badawcza pochodzi z populacji o normalnym rozkładzie. Jeśli test Shapiro-Wilka osiąga istotność statystyczną (p < 0,05), świadczy to o rozkładzie odbiegającym od krzywej Gaussa."
      ],
      "metadata": {
        "id": "pEesYkFc8BL_"
      }
    },
    {
      "cell_type": "code",
      "source": [
        "import math\n",
        "import numpy as np\n",
        "from scipy.stats import shapiro\n",
        "from scipy.stats import lognorm\n",
        "\n",
        "data_bankructwo_without_outliers= data_bankructwo_without_outliers.dropna()\n",
        "\n",
        "#perform Shapiro-Wilk test for normality\n",
        "for i in data_bankructwo_without_outliers.columns:\n",
        "\n",
        "  test =shapiro(data_bankructwo_without_outliers[i])\n",
        "  if test[1]<0.05:\n",
        "\n",
        "    print(test[1],\" nie ma rozkładu normalnego\")\n",
        "  else:\n",
        "    print(i,test[1], \" ma rozkład normalny\")\n",
        "\n"
      ],
      "metadata": {
        "colab": {
          "base_uri": "https://localhost:8080/"
        },
        "id": "NW9sQG588Bc3",
        "outputId": "8cd8daa3-5ac5-4a77-fdab-7ee2da001421"
      },
      "execution_count": 300,
      "outputs": [
        {
          "output_type": "stream",
          "name": "stdout",
          "text": [
            "2.6115563026116885e-31  nie ma rozkładu normalnego\n",
            "3.222570796879154e-07  nie ma rozkładu normalnego\n",
            "5.219572472014988e-07  nie ma rozkładu normalnego\n",
            "3.583949137464515e-07  nie ma rozkładu normalnego\n",
            "4.4041425439900195e-07  nie ma rozkładu normalnego\n",
            "5.229949806562217e-07  nie ma rozkładu normalnego\n",
            "1.0051898549634508e-12  nie ma rozkładu normalnego\n",
            "2.548869276560303e-29  nie ma rozkładu normalnego\n",
            "3.120634886922137e-25  nie ma rozkładu normalnego\n",
            "4.727654868474929e-06  nie ma rozkładu normalnego\n",
            "8.758865988056641e-08  nie ma rozkładu normalnego\n",
            "9.639418152573853e-08  nie ma rozkładu normalnego\n",
            "9.686070256975654e-08  nie ma rozkładu normalnego\n",
            "7.175277594306806e-10  nie ma rozkładu normalnego\n",
            "8.342751243617386e-05  nie ma rozkładu normalnego\n",
            "1.705114449634948e-08  nie ma rozkładu normalnego\n",
            "6.0109548449815975e-09  nie ma rozkładu normalnego\n",
            "1.5341655490005356e-19  nie ma rozkładu normalnego\n",
            "7.795448908609615e-08  nie ma rozkładu normalnego\n",
            "5.832317765452899e-05  nie ma rozkładu normalnego\n",
            "2.336159354854317e-07  nie ma rozkładu normalnego\n",
            "3.080460401140602e-40  nie ma rozkładu normalnego\n",
            "1.9544770409879157e-27  nie ma rozkładu normalnego\n",
            "6.31915497706359e-08  nie ma rozkładu normalnego\n",
            "3.3978245155230366e-38  nie ma rozkładu normalnego\n",
            "2.2119055476110816e-09  nie ma rozkładu normalnego\n",
            "4.457046967047051e-39  nie ma rozkładu normalnego\n",
            "5.541125826409588e-13  nie ma rozkładu normalnego\n",
            "2.956928799036085e-11  nie ma rozkładu normalnego\n",
            "1.4010257474192374e-17  nie ma rozkładu normalnego\n",
            "5.871889888382775e-13  nie ma rozkładu normalnego\n",
            "3.3978245155230366e-38  nie ma rozkładu normalnego\n",
            "1.0394092704590907e-11  nie ma rozkładu normalnego\n",
            "1.7582691725692712e-05  nie ma rozkładu normalnego\n",
            "1.1026565382048407e-39  nie ma rozkładu normalnego\n",
            "1.1400304528522143e-12  nie ma rozkładu normalnego\n",
            "0.0038041328079998493  nie ma rozkładu normalnego\n",
            "3.1192022366724895e-31  nie ma rozkładu normalnego\n",
            "8.662716996326049e-23  nie ma rozkładu normalnego\n",
            "Working capitcal Turnover Rate 0.062240760773420334  ma rozkład normalny\n",
            "2.1524454460154467e-19  nie ma rozkładu normalnego\n",
            "1.3262487774667875e-09  nie ma rozkładu normalnego\n",
            "1.0016631958328194e-18  nie ma rozkładu normalnego\n",
            "1.0176256282079521e-08  nie ma rozkładu normalnego\n",
            "4.38582015149791e-09  nie ma rozkładu normalnego\n",
            "5.94288290453604e-12  nie ma rozkładu normalnego\n",
            "6.53854411374592e-39  nie ma rozkładu normalnego\n",
            "3.5974781553704815e-07  nie ma rozkładu normalnego\n"
          ]
        }
      ]
    },
    {
      "cell_type": "markdown",
      "source": [
        "  Przeprowadzenie normalizacji"
      ],
      "metadata": {
        "id": "ssso5xjBTYPG"
      }
    },
    {
      "cell_type": "code",
      "source": [
        "data_normalized = data_bankructwo_without_outliers.copy()\n",
        "for i in data_normalized.columns:\n",
        "  if i == 'Bankrupt?':\n",
        "    pass\n",
        "  else:\n",
        "    data_normalized[i] = data_normalized[i]  / data_normalized[i].abs().max()\n",
        "\n",
        "# view normalized data\n",
        "display(data_normalized)"
      ],
      "metadata": {
        "colab": {
          "base_uri": "https://localhost:8080/",
          "height": 0
        },
        "id": "G32dWf-9HbsI",
        "outputId": "1ac105e7-6299-45da-82ac-ecb870905516"
      },
      "execution_count": 301,
      "outputs": [
        {
          "output_type": "display_data",
          "data": {
            "text/plain": [
              "     Bankrupt?  ROA(C) before interest and depreciation before interest  \\\n",
              "0          1.0                                           0.642332         \n",
              "1          1.0                                           0.804732         \n",
              "2          1.0                                           0.738488         \n",
              "3          1.0                                           0.693029         \n",
              "4          1.0                                           0.805999         \n",
              "..         ...                                                ...         \n",
              "493        0.0                                           0.789438         \n",
              "494        0.0                                           0.876384         \n",
              "495        0.0                                           0.902408         \n",
              "496        0.0                                           0.807774         \n",
              "497        0.0                                           0.774229         \n",
              "\n",
              "     ROA(B) before interest and depreciation after tax  \\\n",
              "0                                             0.801194   \n",
              "1                                             0.816651   \n",
              "2                                             0.746425   \n",
              "3                                             0.723411   \n",
              "4                                             0.825451   \n",
              "..                                                 ...   \n",
              "493                                           0.802268   \n",
              "494                                           0.877993   \n",
              "495                                           0.905914   \n",
              "496                                           0.821728   \n",
              "497                                           0.787376   \n",
              "\n",
              "     Operating Gross Margin  Realized Sales Gross Margin  \\\n",
              "0                  0.970306                     0.970453   \n",
              "1                  0.984467                     0.984616   \n",
              "2                  0.970294                     0.970302   \n",
              "3                  0.941403                     0.941545   \n",
              "4                  0.965993                     0.966139   \n",
              "..                      ...                          ...   \n",
              "493                0.973678                     0.973627   \n",
              "494                0.977410                     0.977558   \n",
              "495                0.970585                     0.970732   \n",
              "496                0.961772                     0.961918   \n",
              "497                0.957889                     0.958034   \n",
              "\n",
              "     Operating Profit Rate  Non-industry income and expenditure/revenue  \\\n",
              "0                 0.999737                                     0.997442   \n",
              "1                 0.999714                                     0.998892   \n",
              "2                 0.999625                                     0.997442   \n",
              "3                 0.999468                                     0.998211   \n",
              "4                 0.999741                                     0.998624   \n",
              "..                     ...                                          ...   \n",
              "493               0.999703                                     0.997476   \n",
              "494               0.999795                                     0.998611   \n",
              "495               0.999811                                     0.998763   \n",
              "496               0.999694                                     0.998869   \n",
              "497               0.999623                                     0.998014   \n",
              "\n",
              "     Operating Expense Rate  Research and development expense rate  \\\n",
              "0              1.262017e-14                               0.000000   \n",
              "1              2.909488e-14                               0.000000   \n",
              "2              2.370780e-14                               0.007544   \n",
              "3              1.083221e-14                               0.000000   \n",
              "4              7.921687e-01                               0.000000   \n",
              "..                      ...                                    ...   \n",
              "493            1.926114e-14                               0.958580   \n",
              "494            1.390889e-14                               0.408284   \n",
              "495            5.502008e-01                               0.110651   \n",
              "496            8.483936e-01                               0.215976   \n",
              "497            1.173780e-14                               0.000000   \n",
              "\n",
              "     Cash flow rate  ...  Quick Asset Turnover Rate  \\\n",
              "0          0.960714  ...               6.563126e-01   \n",
              "1          0.968523  ...               7.715431e-01   \n",
              "2          0.961505  ...               1.024726e-13   \n",
              "3          0.976572  ...               6.062124e-01   \n",
              "4          0.970367  ...               5.060120e-01   \n",
              "..              ...  ...                        ...   \n",
              "493        0.969484  ...               5.040080e-01   \n",
              "494        0.972738  ...               3.767535e-01   \n",
              "495        0.986105  ...               7.194389e-01   \n",
              "496        0.982700  ...               7.074148e-01   \n",
              "497        0.972942  ...               4.138277e-01   \n",
              "\n",
              "     Working capitcal Turnover Rate  Cash Turnover Rate  \\\n",
              "0                          0.999627            0.050720   \n",
              "1                          0.999770            0.275748   \n",
              "2                          0.999756            0.084275   \n",
              "3                          0.999725            0.224806   \n",
              "4                          0.999770            0.091251   \n",
              "..                              ...                 ...   \n",
              "493                        0.999698            0.109967   \n",
              "494                        0.999792            0.023367   \n",
              "495                        0.999793            0.651163   \n",
              "496                        0.999847            0.215947   \n",
              "497                        0.999756            0.152824   \n",
              "\n",
              "     Current Liability to Liability  Equity to Long-term Liability  \\\n",
              "0                          0.676269                       0.924171   \n",
              "1                          0.308589                       0.883031   \n",
              "2                          0.446027                       0.861168   \n",
              "3                          0.615848                       0.881895   \n",
              "4                          0.975007                       0.810128   \n",
              "..                              ...                            ...   \n",
              "493                        0.868627                       0.855311   \n",
              "494                        0.794287                       0.837648   \n",
              "495                        0.609860                       0.877065   \n",
              "496                        0.709289                       0.810128   \n",
              "497                        0.553170                       0.830503   \n",
              "\n",
              "     Cash Flow to Total Assets  Cash Flow to Liability  \\\n",
              "0                     0.951132                0.987881   \n",
              "1                     0.956420                0.988725   \n",
              "2                     0.958903                0.989270   \n",
              "3                     0.952116                0.984769   \n",
              "4                     0.928484                0.978838   \n",
              "..                         ...                     ...   \n",
              "493                   0.959898                0.989466   \n",
              "494                   0.972121                0.993011   \n",
              "495                   0.977290                0.993729   \n",
              "496                   0.967126                0.994186   \n",
              "497                   0.950636                0.986961   \n",
              "\n",
              "     Net Income to Total Assets  Total assets to GNP price  \\\n",
              "0                      0.842468               2.293347e-10   \n",
              "1                      0.934668               2.070432e-10   \n",
              "2                      0.910425               1.000000e+00   \n",
              "3                      0.869156               8.090573e-11   \n",
              "4                      0.934337               9.645487e-11   \n",
              "..                          ...                        ...   \n",
              "493                    0.901512               5.404814e-11   \n",
              "494                    0.949866               6.853912e-11   \n",
              "495                    0.953307               8.714628e-11   \n",
              "496                    0.926758               2.127409e-11   \n",
              "497                    0.917198               3.900546e-11   \n",
              "\n",
              "     Gross Profit to Sales  \n",
              "0                 0.970304  \n",
              "1                 0.984474  \n",
              "2                 0.970298  \n",
              "3                 0.941401  \n",
              "4                 0.965994  \n",
              "..                     ...  \n",
              "493               0.973685  \n",
              "494               0.977413  \n",
              "495               0.970590  \n",
              "496               0.961776  \n",
              "497               0.957891  \n",
              "\n",
              "[498 rows x 48 columns]"
            ],
            "text/html": [
              "\n",
              "  <div id=\"df-d088a2dc-0cbb-4d2c-8c55-88cb9c2219aa\">\n",
              "    <div class=\"colab-df-container\">\n",
              "      <div>\n",
              "<style scoped>\n",
              "    .dataframe tbody tr th:only-of-type {\n",
              "        vertical-align: middle;\n",
              "    }\n",
              "\n",
              "    .dataframe tbody tr th {\n",
              "        vertical-align: top;\n",
              "    }\n",
              "\n",
              "    .dataframe thead th {\n",
              "        text-align: right;\n",
              "    }\n",
              "</style>\n",
              "<table border=\"1\" class=\"dataframe\">\n",
              "  <thead>\n",
              "    <tr style=\"text-align: right;\">\n",
              "      <th></th>\n",
              "      <th>Bankrupt?</th>\n",
              "      <th>ROA(C) before interest and depreciation before interest</th>\n",
              "      <th>ROA(B) before interest and depreciation after tax</th>\n",
              "      <th>Operating Gross Margin</th>\n",
              "      <th>Realized Sales Gross Margin</th>\n",
              "      <th>Operating Profit Rate</th>\n",
              "      <th>Non-industry income and expenditure/revenue</th>\n",
              "      <th>Operating Expense Rate</th>\n",
              "      <th>Research and development expense rate</th>\n",
              "      <th>Cash flow rate</th>\n",
              "      <th>...</th>\n",
              "      <th>Quick Asset Turnover Rate</th>\n",
              "      <th>Working capitcal Turnover Rate</th>\n",
              "      <th>Cash Turnover Rate</th>\n",
              "      <th>Current Liability to Liability</th>\n",
              "      <th>Equity to Long-term Liability</th>\n",
              "      <th>Cash Flow to Total Assets</th>\n",
              "      <th>Cash Flow to Liability</th>\n",
              "      <th>Net Income to Total Assets</th>\n",
              "      <th>Total assets to GNP price</th>\n",
              "      <th>Gross Profit to Sales</th>\n",
              "    </tr>\n",
              "  </thead>\n",
              "  <tbody>\n",
              "    <tr>\n",
              "      <th>0</th>\n",
              "      <td>1.0</td>\n",
              "      <td>0.642332</td>\n",
              "      <td>0.801194</td>\n",
              "      <td>0.970306</td>\n",
              "      <td>0.970453</td>\n",
              "      <td>0.999737</td>\n",
              "      <td>0.997442</td>\n",
              "      <td>1.262017e-14</td>\n",
              "      <td>0.000000</td>\n",
              "      <td>0.960714</td>\n",
              "      <td>...</td>\n",
              "      <td>6.563126e-01</td>\n",
              "      <td>0.999627</td>\n",
              "      <td>0.050720</td>\n",
              "      <td>0.676269</td>\n",
              "      <td>0.924171</td>\n",
              "      <td>0.951132</td>\n",
              "      <td>0.987881</td>\n",
              "      <td>0.842468</td>\n",
              "      <td>2.293347e-10</td>\n",
              "      <td>0.970304</td>\n",
              "    </tr>\n",
              "    <tr>\n",
              "      <th>1</th>\n",
              "      <td>1.0</td>\n",
              "      <td>0.804732</td>\n",
              "      <td>0.816651</td>\n",
              "      <td>0.984467</td>\n",
              "      <td>0.984616</td>\n",
              "      <td>0.999714</td>\n",
              "      <td>0.998892</td>\n",
              "      <td>2.909488e-14</td>\n",
              "      <td>0.000000</td>\n",
              "      <td>0.968523</td>\n",
              "      <td>...</td>\n",
              "      <td>7.715431e-01</td>\n",
              "      <td>0.999770</td>\n",
              "      <td>0.275748</td>\n",
              "      <td>0.308589</td>\n",
              "      <td>0.883031</td>\n",
              "      <td>0.956420</td>\n",
              "      <td>0.988725</td>\n",
              "      <td>0.934668</td>\n",
              "      <td>2.070432e-10</td>\n",
              "      <td>0.984474</td>\n",
              "    </tr>\n",
              "    <tr>\n",
              "      <th>2</th>\n",
              "      <td>1.0</td>\n",
              "      <td>0.738488</td>\n",
              "      <td>0.746425</td>\n",
              "      <td>0.970294</td>\n",
              "      <td>0.970302</td>\n",
              "      <td>0.999625</td>\n",
              "      <td>0.997442</td>\n",
              "      <td>2.370780e-14</td>\n",
              "      <td>0.007544</td>\n",
              "      <td>0.961505</td>\n",
              "      <td>...</td>\n",
              "      <td>1.024726e-13</td>\n",
              "      <td>0.999756</td>\n",
              "      <td>0.084275</td>\n",
              "      <td>0.446027</td>\n",
              "      <td>0.861168</td>\n",
              "      <td>0.958903</td>\n",
              "      <td>0.989270</td>\n",
              "      <td>0.910425</td>\n",
              "      <td>1.000000e+00</td>\n",
              "      <td>0.970298</td>\n",
              "    </tr>\n",
              "    <tr>\n",
              "      <th>3</th>\n",
              "      <td>1.0</td>\n",
              "      <td>0.693029</td>\n",
              "      <td>0.723411</td>\n",
              "      <td>0.941403</td>\n",
              "      <td>0.941545</td>\n",
              "      <td>0.999468</td>\n",
              "      <td>0.998211</td>\n",
              "      <td>1.083221e-14</td>\n",
              "      <td>0.000000</td>\n",
              "      <td>0.976572</td>\n",
              "      <td>...</td>\n",
              "      <td>6.062124e-01</td>\n",
              "      <td>0.999725</td>\n",
              "      <td>0.224806</td>\n",
              "      <td>0.615848</td>\n",
              "      <td>0.881895</td>\n",
              "      <td>0.952116</td>\n",
              "      <td>0.984769</td>\n",
              "      <td>0.869156</td>\n",
              "      <td>8.090573e-11</td>\n",
              "      <td>0.941401</td>\n",
              "    </tr>\n",
              "    <tr>\n",
              "      <th>4</th>\n",
              "      <td>1.0</td>\n",
              "      <td>0.805999</td>\n",
              "      <td>0.825451</td>\n",
              "      <td>0.965993</td>\n",
              "      <td>0.966139</td>\n",
              "      <td>0.999741</td>\n",
              "      <td>0.998624</td>\n",
              "      <td>7.921687e-01</td>\n",
              "      <td>0.000000</td>\n",
              "      <td>0.970367</td>\n",
              "      <td>...</td>\n",
              "      <td>5.060120e-01</td>\n",
              "      <td>0.999770</td>\n",
              "      <td>0.091251</td>\n",
              "      <td>0.975007</td>\n",
              "      <td>0.810128</td>\n",
              "      <td>0.928484</td>\n",
              "      <td>0.978838</td>\n",
              "      <td>0.934337</td>\n",
              "      <td>9.645487e-11</td>\n",
              "      <td>0.965994</td>\n",
              "    </tr>\n",
              "    <tr>\n",
              "      <th>...</th>\n",
              "      <td>...</td>\n",
              "      <td>...</td>\n",
              "      <td>...</td>\n",
              "      <td>...</td>\n",
              "      <td>...</td>\n",
              "      <td>...</td>\n",
              "      <td>...</td>\n",
              "      <td>...</td>\n",
              "      <td>...</td>\n",
              "      <td>...</td>\n",
              "      <td>...</td>\n",
              "      <td>...</td>\n",
              "      <td>...</td>\n",
              "      <td>...</td>\n",
              "      <td>...</td>\n",
              "      <td>...</td>\n",
              "      <td>...</td>\n",
              "      <td>...</td>\n",
              "      <td>...</td>\n",
              "      <td>...</td>\n",
              "      <td>...</td>\n",
              "    </tr>\n",
              "    <tr>\n",
              "      <th>493</th>\n",
              "      <td>0.0</td>\n",
              "      <td>0.789438</td>\n",
              "      <td>0.802268</td>\n",
              "      <td>0.973678</td>\n",
              "      <td>0.973627</td>\n",
              "      <td>0.999703</td>\n",
              "      <td>0.997476</td>\n",
              "      <td>1.926114e-14</td>\n",
              "      <td>0.958580</td>\n",
              "      <td>0.969484</td>\n",
              "      <td>...</td>\n",
              "      <td>5.040080e-01</td>\n",
              "      <td>0.999698</td>\n",
              "      <td>0.109967</td>\n",
              "      <td>0.868627</td>\n",
              "      <td>0.855311</td>\n",
              "      <td>0.959898</td>\n",
              "      <td>0.989466</td>\n",
              "      <td>0.901512</td>\n",
              "      <td>5.404814e-11</td>\n",
              "      <td>0.973685</td>\n",
              "    </tr>\n",
              "    <tr>\n",
              "      <th>494</th>\n",
              "      <td>0.0</td>\n",
              "      <td>0.876384</td>\n",
              "      <td>0.877993</td>\n",
              "      <td>0.977410</td>\n",
              "      <td>0.977558</td>\n",
              "      <td>0.999795</td>\n",
              "      <td>0.998611</td>\n",
              "      <td>1.390889e-14</td>\n",
              "      <td>0.408284</td>\n",
              "      <td>0.972738</td>\n",
              "      <td>...</td>\n",
              "      <td>3.767535e-01</td>\n",
              "      <td>0.999792</td>\n",
              "      <td>0.023367</td>\n",
              "      <td>0.794287</td>\n",
              "      <td>0.837648</td>\n",
              "      <td>0.972121</td>\n",
              "      <td>0.993011</td>\n",
              "      <td>0.949866</td>\n",
              "      <td>6.853912e-11</td>\n",
              "      <td>0.977413</td>\n",
              "    </tr>\n",
              "    <tr>\n",
              "      <th>495</th>\n",
              "      <td>0.0</td>\n",
              "      <td>0.902408</td>\n",
              "      <td>0.905914</td>\n",
              "      <td>0.970585</td>\n",
              "      <td>0.970732</td>\n",
              "      <td>0.999811</td>\n",
              "      <td>0.998763</td>\n",
              "      <td>5.502008e-01</td>\n",
              "      <td>0.110651</td>\n",
              "      <td>0.986105</td>\n",
              "      <td>...</td>\n",
              "      <td>7.194389e-01</td>\n",
              "      <td>0.999793</td>\n",
              "      <td>0.651163</td>\n",
              "      <td>0.609860</td>\n",
              "      <td>0.877065</td>\n",
              "      <td>0.977290</td>\n",
              "      <td>0.993729</td>\n",
              "      <td>0.953307</td>\n",
              "      <td>8.714628e-11</td>\n",
              "      <td>0.970590</td>\n",
              "    </tr>\n",
              "    <tr>\n",
              "      <th>496</th>\n",
              "      <td>0.0</td>\n",
              "      <td>0.807774</td>\n",
              "      <td>0.821728</td>\n",
              "      <td>0.961772</td>\n",
              "      <td>0.961918</td>\n",
              "      <td>0.999694</td>\n",
              "      <td>0.998869</td>\n",
              "      <td>8.483936e-01</td>\n",
              "      <td>0.215976</td>\n",
              "      <td>0.982700</td>\n",
              "      <td>...</td>\n",
              "      <td>7.074148e-01</td>\n",
              "      <td>0.999847</td>\n",
              "      <td>0.215947</td>\n",
              "      <td>0.709289</td>\n",
              "      <td>0.810128</td>\n",
              "      <td>0.967126</td>\n",
              "      <td>0.994186</td>\n",
              "      <td>0.926758</td>\n",
              "      <td>2.127409e-11</td>\n",
              "      <td>0.961776</td>\n",
              "    </tr>\n",
              "    <tr>\n",
              "      <th>497</th>\n",
              "      <td>0.0</td>\n",
              "      <td>0.774229</td>\n",
              "      <td>0.787376</td>\n",
              "      <td>0.957889</td>\n",
              "      <td>0.958034</td>\n",
              "      <td>0.999623</td>\n",
              "      <td>0.998014</td>\n",
              "      <td>1.173780e-14</td>\n",
              "      <td>0.000000</td>\n",
              "      <td>0.972942</td>\n",
              "      <td>...</td>\n",
              "      <td>4.138277e-01</td>\n",
              "      <td>0.999756</td>\n",
              "      <td>0.152824</td>\n",
              "      <td>0.553170</td>\n",
              "      <td>0.830503</td>\n",
              "      <td>0.950636</td>\n",
              "      <td>0.986961</td>\n",
              "      <td>0.917198</td>\n",
              "      <td>3.900546e-11</td>\n",
              "      <td>0.957891</td>\n",
              "    </tr>\n",
              "  </tbody>\n",
              "</table>\n",
              "<p>498 rows × 48 columns</p>\n",
              "</div>\n",
              "      <button class=\"colab-df-convert\" onclick=\"convertToInteractive('df-d088a2dc-0cbb-4d2c-8c55-88cb9c2219aa')\"\n",
              "              title=\"Convert this dataframe to an interactive table.\"\n",
              "              style=\"display:none;\">\n",
              "        \n",
              "  <svg xmlns=\"http://www.w3.org/2000/svg\" height=\"24px\"viewBox=\"0 0 24 24\"\n",
              "       width=\"24px\">\n",
              "    <path d=\"M0 0h24v24H0V0z\" fill=\"none\"/>\n",
              "    <path d=\"M18.56 5.44l.94 2.06.94-2.06 2.06-.94-2.06-.94-.94-2.06-.94 2.06-2.06.94zm-11 1L8.5 8.5l.94-2.06 2.06-.94-2.06-.94L8.5 2.5l-.94 2.06-2.06.94zm10 10l.94 2.06.94-2.06 2.06-.94-2.06-.94-.94-2.06-.94 2.06-2.06.94z\"/><path d=\"M17.41 7.96l-1.37-1.37c-.4-.4-.92-.59-1.43-.59-.52 0-1.04.2-1.43.59L10.3 9.45l-7.72 7.72c-.78.78-.78 2.05 0 2.83L4 21.41c.39.39.9.59 1.41.59.51 0 1.02-.2 1.41-.59l7.78-7.78 2.81-2.81c.8-.78.8-2.07 0-2.86zM5.41 20L4 18.59l7.72-7.72 1.47 1.35L5.41 20z\"/>\n",
              "  </svg>\n",
              "      </button>\n",
              "      \n",
              "  <style>\n",
              "    .colab-df-container {\n",
              "      display:flex;\n",
              "      flex-wrap:wrap;\n",
              "      gap: 12px;\n",
              "    }\n",
              "\n",
              "    .colab-df-convert {\n",
              "      background-color: #E8F0FE;\n",
              "      border: none;\n",
              "      border-radius: 50%;\n",
              "      cursor: pointer;\n",
              "      display: none;\n",
              "      fill: #1967D2;\n",
              "      height: 32px;\n",
              "      padding: 0 0 0 0;\n",
              "      width: 32px;\n",
              "    }\n",
              "\n",
              "    .colab-df-convert:hover {\n",
              "      background-color: #E2EBFA;\n",
              "      box-shadow: 0px 1px 2px rgba(60, 64, 67, 0.3), 0px 1px 3px 1px rgba(60, 64, 67, 0.15);\n",
              "      fill: #174EA6;\n",
              "    }\n",
              "\n",
              "    [theme=dark] .colab-df-convert {\n",
              "      background-color: #3B4455;\n",
              "      fill: #D2E3FC;\n",
              "    }\n",
              "\n",
              "    [theme=dark] .colab-df-convert:hover {\n",
              "      background-color: #434B5C;\n",
              "      box-shadow: 0px 1px 3px 1px rgba(0, 0, 0, 0.15);\n",
              "      filter: drop-shadow(0px 1px 2px rgba(0, 0, 0, 0.3));\n",
              "      fill: #FFFFFF;\n",
              "    }\n",
              "  </style>\n",
              "\n",
              "      <script>\n",
              "        const buttonEl =\n",
              "          document.querySelector('#df-d088a2dc-0cbb-4d2c-8c55-88cb9c2219aa button.colab-df-convert');\n",
              "        buttonEl.style.display =\n",
              "          google.colab.kernel.accessAllowed ? 'block' : 'none';\n",
              "\n",
              "        async function convertToInteractive(key) {\n",
              "          const element = document.querySelector('#df-d088a2dc-0cbb-4d2c-8c55-88cb9c2219aa');\n",
              "          const dataTable =\n",
              "            await google.colab.kernel.invokeFunction('convertToInteractive',\n",
              "                                                     [key], {});\n",
              "          if (!dataTable) return;\n",
              "\n",
              "          const docLinkHtml = 'Like what you see? Visit the ' +\n",
              "            '<a target=\"_blank\" href=https://colab.research.google.com/notebooks/data_table.ipynb>data table notebook</a>'\n",
              "            + ' to learn more about interactive tables.';\n",
              "          element.innerHTML = '';\n",
              "          dataTable['output_type'] = 'display_data';\n",
              "          await google.colab.output.renderOutput(dataTable, element);\n",
              "          const docLink = document.createElement('div');\n",
              "          docLink.innerHTML = docLinkHtml;\n",
              "          element.appendChild(docLink);\n",
              "        }\n",
              "      </script>\n",
              "    </div>\n",
              "  </div>\n",
              "  "
            ]
          },
          "metadata": {}
        }
      ]
    },
    {
      "cell_type": "markdown",
      "source": [
        "#Standaryzacja\n",
        "https://www.geeksforgeeks.org/data-normalization-with-pandas/"
      ],
      "metadata": {
        "id": "gbplYyDxHfk1"
      }
    },
    {
      "cell_type": "code",
      "source": [
        "for i in data_normalized.columns:\n",
        "  if i == 'Bankrupt?':\n",
        "    pass\n",
        "  else:\n",
        "    data_normalized[i] = (data_normalized[i] - data_normalized[i].mean()) / data_normalized[i].std()\n",
        "data_standardised = data_normalized.copy()"
      ],
      "metadata": {
        "id": "PLptqQF0Hodg"
      },
      "execution_count": 302,
      "outputs": []
    },
    {
      "cell_type": "markdown",
      "metadata": {
        "id": "Xn2Yxnz7Gy0s"
      },
      "source": [
        "**Określenie zmiennej zależnej Y**"
      ]
    },
    {
      "cell_type": "code",
      "execution_count": 303,
      "metadata": {
        "id": "Ng90d78RGyZM"
      },
      "outputs": [],
      "source": [
        "y= data_standardised.iloc[:,0].values"
      ]
    },
    {
      "cell_type": "markdown",
      "metadata": {
        "id": "bksB-5SNHGoH"
      },
      "source": [
        "**Określenie zmiennych niezależnych X**\n",
        "\n",
        "\n",
        "1.   Wybór zmiennych niezależnych -PCA\n",
        "\n"
      ]
    },
    {
      "cell_type": "markdown",
      "source": [
        "Sprawdzanie korelację miedzy zmiennymi"
      ],
      "metadata": {
        "id": "5eG79vbW2kX0"
      }
    },
    {
      "cell_type": "code",
      "source": [
        "correlation={}\n",
        "for x in data_standardised.columns:\n",
        "  correlation.update({x:abs(data_standardised['Bankrupt?'].corr(data_standardised[x]))})\n"
      ],
      "metadata": {
        "id": "yOy349mL2no9"
      },
      "execution_count": 304,
      "outputs": []
    },
    {
      "cell_type": "code",
      "source": [
        "\n",
        "sort_orders = sorted(correlation.items(), key=lambda x: x[1], reverse=True)\n",
        "\n",
        "for i in sort_orders:\n",
        "\tprint(i[0], i[1])"
      ],
      "metadata": {
        "colab": {
          "base_uri": "https://localhost:8080/"
        },
        "id": "yuIeQqEu5eUC",
        "outputId": "0efb7d5a-5d61-499f-81c0-c86c7e215724"
      },
      "execution_count": 305,
      "outputs": [
        {
          "output_type": "stream",
          "name": "stdout",
          "text": [
            "Bankrupt? 1.0\n",
            "Current Liability to Assets 0.6254566640084431\n",
            "Net Income to Total Assets 0.5890818149740206\n",
            "Retained Earnings to Total Assets 0.5761931018683746\n",
            "Total income/Total expense 0.5656227753840227\n",
            "ROA(B) before interest and depreciation after tax 0.5627898826959389\n",
            "Per Share Net profit before tax (Yuan ¥) 0.5623649278724334\n",
            "ROA(C) before interest and depreciation before interest 0.5450669064926584\n",
            "Net Value Per Share (B) 0.5103339063283133\n",
            "Net Value Per Share (A) 0.5078367661145242\n",
            "Net Value Per Share (C) 0.5028921783787492\n",
            "Non-industry income and expenditure/revenue 0.49986192421900333\n",
            "Operating Profit Rate 0.47581255860403426\n",
            "Cash flow rate 0.46060441684893766\n",
            "Operating Funds to Liability 0.45831037280574993\n",
            "Operating Profit Per Share (Yuan ¥) 0.45464046274524994\n",
            "Total Asset Growth Rate 0.3774377211019251\n",
            "Quick Assets/Current Liability 0.3476058892397907\n",
            "Operating profit per person 0.3345119595328333\n",
            "Current Assets/Total Assets 0.3265580337127624\n",
            "Working capitcal Turnover Rate 0.3141534598050632\n",
            "Current Liability to Liability 0.30722587713200494\n",
            "Total debt/Total net worth 0.28564070524718543\n",
            "Cash Reinvestment % 0.28085026186697987\n",
            "Gross Profit to Sales 0.2525311945514807\n",
            "Operating Gross Margin 0.25251546166791755\n",
            "Realized Sales Gross Margin 0.24676721773752328\n",
            "Quick Asset Turnover Rate 0.24135513785795415\n",
            "Operating Profit Growth Rate 0.2400133767690125\n",
            "Total Asset Return Growth Rate Ratio 0.22559383813424266\n",
            "Current Asset Turnover Rate 0.2129827352449553\n",
            "Equity to Long-term Liability 0.21196616140453461\n",
            "Cash Flow to Total Assets 0.20924213820605267\n",
            "Quick Assets/Total Assets 0.18994623829779794\n",
            "Total Asset Turnover 0.17126299779521806\n",
            "Revenue per person 0.1531747804421855\n",
            "Allocation rate per person 0.15185946624821497\n",
            "Operating Expense Rate 0.12738983844981638\n",
            "Cash Flow to Liability 0.12490841978062699\n",
            "Cash Turnover Rate 0.12112177354276607\n",
            "Revenue Per Share (Yuan ¥) 0.08238259380983377\n",
            "Total assets to GNP price 0.08212464417016344\n",
            "Cash/Total Assets 0.08162402245239085\n",
            "Long-term Liability to Current Assets 0.07423840788463693\n",
            "Realized Sales Gross Profit Growth Rate 0.05259624294881594\n",
            "Research and development expense rate 0.044550585141232946\n",
            "Cash/Current Liability 0.026039712591388403\n",
            "Contingent liabilities/Net worth 0.023478166192094578\n"
          ]
        }
      ]
    },
    {
      "cell_type": "code",
      "source": [
        "wykres =pd.DataFrame(abs(data_standardised.corr()['Bankrupt?'].drop('Bankrupt?')*100).sort_values(\n",
        "ascending=False)).plot.bar(figsize = (10,8)).figure.savefig('file.png')\n"
      ],
      "metadata": {
        "colab": {
          "base_uri": "https://localhost:8080/",
          "height": 1000
        },
        "id": "Tux50hFpkry2",
        "outputId": "1826bf8f-ec71-444c-8df6-29c32cd923c4"
      },
      "execution_count": 306,
      "outputs": [
        {
          "output_type": "display_data",
          "data": {
            "text/plain": [
              "<Figure size 1000x800 with 1 Axes>"
            ],
            "image/png": "[encoded data removed]"
          },
          "metadata": {}
        }
      ]
    },
    {
      "cell_type": "markdown",
      "source": [
        "Usuwamy z zmiennych baranych pod uwagę zmienne których korelacja z minną objaśnianą jest poniżej 0,1"
      ],
      "metadata": {
        "id": "XbUfD6egi-SV"
      }
    },
    {
      "cell_type": "code",
      "source": [
        "sort_orders= dict(sort_orders)\n",
        "keys_to_drop=[]\n",
        "\n",
        "for k in sort_orders.keys():\n",
        "  if sort_orders.get(k) <= 0.1:\n",
        "    keys_to_drop.append(k)\n",
        "keys_to_drop"
      ],
      "metadata": {
        "colab": {
          "base_uri": "https://localhost:8080/"
        },
        "id": "7lTxR6o4_uqL",
        "outputId": "39caee18-c371-49bc-b9f1-daafaac0e3a2"
      },
      "execution_count": 307,
      "outputs": [
        {
          "output_type": "execute_result",
          "data": {
            "text/plain": [
              "['Revenue Per Share (Yuan ¥)',\n",
              " 'Total assets to GNP price',\n",
              " 'Cash/Total Assets',\n",
              " 'Long-term Liability to Current Assets',\n",
              " 'Realized Sales Gross Profit Growth Rate',\n",
              " 'Research and development expense rate',\n",
              " 'Cash/Current Liability',\n",
              " 'Contingent liabilities/Net worth']"
            ]
          },
          "metadata": {},
          "execution_count": 307
        }
      ]
    },
    {
      "cell_type": "markdown",
      "source": [
        "Sprawdzamy ile zmiennych powinnyśmy uwzględnić w PCA"
      ],
      "metadata": {
        "id": "ELCWfdza-e4u"
      }
    },
    {
      "cell_type": "code",
      "execution_count": 308,
      "metadata": {
        "colab": {
          "base_uri": "https://localhost:8080/",
          "height": 569
        },
        "id": "giqxlmxoGk8I",
        "outputId": "365d05a2-751e-48ad-d64e-099f549c7dc1"
      },
      "outputs": [
        {
          "output_type": "display_data",
          "data": {
            "text/plain": [
              "<Figure size 700x500 with 1 Axes>"
            ],
            "image/png": "[encoded data removed]"
          },
          "metadata": {}
        },
        {
          "output_type": "stream",
          "name": "stdout",
          "text": [
            "              0             1             2             3             4\n",
            "0 -7.426063e+07 -2.749396e+09  1.324083e+09 -3.430619e+09  1.964347e+08\n",
            "1  3.532515e+08 -3.766228e+09  3.080852e+09 -1.918933e+09 -5.982474e+08\n",
            "2 -4.678150e+09 -2.393140e+08 -1.619692e+09 -8.106014e+08 -2.201132e+09\n",
            "3  4.691551e+09 -3.167590e+09 -3.829257e+09 -5.533621e+08  7.848283e+08\n",
            "4  5.786707e+09  4.446026e+09 -1.184175e+09 -5.935264e+08 -2.496464e+08\n"
          ]
        }
      ],
      "source": [
        "exclude_filter = ~data_bankructwo.columns.isin(['Unnamed: 0', 'Bankrupt?','Revenue Per Share (Yuan ¥)',\n",
        " 'Total assets to GNP price',\n",
        " 'Cash/Total Assets',\n",
        " 'Long-term Liability to Current Assets',\n",
        " 'Realized Sales Gross Profit Growth Rate',\n",
        " 'Research and development expense rate',\n",
        " 'Cash/Current Liability',\n",
        " 'Contingent liabilities/Net worth'])\n",
        "\n",
        "pca = PCA().fit(data_bankructwo.loc[:, exclude_filter])\n",
        "plt.plot(np.cumsum(pca.explained_variance_ratio_))\n",
        "plt.xlabel('Liczba Komponentów')\n",
        "plt.ylabel('Skumulowana wyjaśniona wariancja')\n",
        "plt.gcf().set_size_inches(7, 5)\n",
        "plt.show()\n",
        "\n",
        "pca = PCA(svd_solver='full', n_components=0.95)\n",
        "principal_components = pca.fit_transform(data_bankructwo.loc[:, exclude_filter])\n",
        "principal_df = pd.DataFrame(data=principal_components)\n",
        "\n",
        "print(principal_df.head())\n",
        "\n"
      ]
    },
    {
      "cell_type": "markdown",
      "metadata": {
        "id": "jAdjLHtbS7Lz"
      },
      "source": [
        "Na wykresie widać, że 5 pierwszych czynników może wyjaśnić ponad 95% całkowitej wariancji"
      ]
    },
    {
      "cell_type": "code",
      "execution_count": 309,
      "metadata": {
        "id": "S7N5ooP2SI3e"
      },
      "outputs": [],
      "source": [
        "# kolumny do wykluczenia (te na których nie chcemy PCA)\n",
        "exclude_filter = ~data_standardised.columns.isin(['Bankrupt?','Revenue Per Share (Yuan ¥)',\n",
        " 'Total assets to GNP price',\n",
        " 'Cash/Total Assets',\n",
        " 'Long-term Liability to Current Assets',\n",
        " 'Realized Sales Gross Profit Growth Rate',\n",
        " 'Research and development expense rate',\n",
        " 'Cash/Current Liability',\n",
        " 'Contingent liabilities/Net worth'])\n",
        "# liczba głównych składowych\n",
        "pca = PCA(n_components = 5)\n",
        "# przeliczenie\n",
        "principal_components = pca.fit_transform(data_bankructwo.loc[:, exclude_filter])"
      ]
    },
    {
      "cell_type": "markdown",
      "source": [
        "Zmienne które uwzględniamy w modelu"
      ],
      "metadata": {
        "id": "hRygEmi4_Edk"
      }
    },
    {
      "cell_type": "code",
      "execution_count": 310,
      "metadata": {
        "colab": {
          "base_uri": "https://localhost:8080/"
        },
        "id": "43g7BhXWSMjZ",
        "outputId": "6a6fe270-b82b-4d67-fe6e-ac3655699abd"
      },
      "outputs": [
        {
          "output_type": "execute_result",
          "data": {
            "text/plain": [
              "0            0\n",
              "1            0\n",
              "2            0\n",
              "3            0\n",
              "4            0\n",
              "Bankrupt?    0\n",
              "dtype: int64"
            ]
          },
          "metadata": {},
          "execution_count": 310
        }
      ],
      "source": [
        "principal_df = pd.DataFrame(data = principal_components)\n",
        "principal_df['Bankrupt?'] = data_standardised['Bankrupt?']\n",
        "principal_df.isna().sum()"
      ]
    },
    {
      "cell_type": "markdown",
      "source": [
        "**Wektor własny**\n",
        "\n",
        "Badamy jakie zmienne w jakiej cześci zostały uwzględnione przez PCA w danej zmiennej"
      ],
      "metadata": {
        "id": "D0cydK3V0-eG"
      }
    },
    {
      "cell_type": "code",
      "source": [
        "data_bankructwo_col= data_bankructwo.copy()\n",
        "data_bankructwo_col.drop(['Bankrupt?','Revenue Per Share (Yuan ¥)',\n",
        " 'Total assets to GNP price',\n",
        " 'Cash/Total Assets',\n",
        " 'Long-term Liability to Current Assets',\n",
        " 'Realized Sales Gross Profit Growth Rate',\n",
        " 'Research and development expense rate',\n",
        " 'Cash/Current Liability',\n",
        " 'Contingent liabilities/Net worth'],\n",
        "  axis='columns', inplace=True)\n"
      ],
      "metadata": {
        "id": "OOqo80qp0-HE"
      },
      "execution_count": 311,
      "outputs": []
    },
    {
      "cell_type": "markdown",
      "source": [
        "Zmienne które zostały uwzględnione w pierwszej zmiennej wygenerowanej przez PCA"
      ],
      "metadata": {
        "id": "lOOVPnGGYcW0"
      }
    },
    {
      "cell_type": "code",
      "source": [
        "lista=pca.components_\n",
        "nazwy_col = list(data_bankructwo_col.columns)\n",
        "zmienna_1= lista[0].tolist()\n",
        "\n",
        "# Stworzenie słownika z nazwami kolumn  i odpowiadającymi im wartościami\n",
        "wektor_wlasny1= dict(zip(nazwy_col , zmienna_1))\n",
        "\n",
        "#Zaokrąglenie wartości do 10 miejsc po przecinku\n",
        "for key in wektor_wlasny1:\n",
        "    wektor_wlasny1[key] = round(wektor_wlasny1[key], 10)\n",
        "\n",
        "#Pozostawienie w nowym słowniku jedynie wartości różne od 0\n",
        "wektor_wlasny1_variables= dict(wektor_wlasny1)\n",
        "\n",
        "for key in wektor_wlasny1:\n",
        "  if wektor_wlasny1_variables[key] == 0:\n",
        "    del wektor_wlasny1_variables[key]\n",
        "  else:\n",
        "    pass\n",
        "\n",
        "\n",
        "wektor_wlasny1_variables"
      ],
      "metadata": {
        "colab": {
          "base_uri": "https://localhost:8080/"
        },
        "id": "xKIBidD2OI9-",
        "outputId": "deda2d25-4e63-4ef7-b7f2-67156c4d507d"
      },
      "execution_count": 312,
      "outputs": [
        {
          "output_type": "execute_result",
          "data": {
            "text/plain": [
              "{'Operating Expense Rate': 0.3504657303,\n",
              " 'Total Asset Growth Rate': 0.0403607859,\n",
              " 'Total debt/Total net worth': -0.0019600373,\n",
              " 'Revenue per person': -0.0040203547,\n",
              " 'Allocation rate per person': -0.0019240878,\n",
              " 'Current Asset Turnover Rate': 0.6733457512,\n",
              " 'Quick Asset Turnover Rate': 0.6474816065,\n",
              " 'Cash Turnover Rate': 0.0537972144}"
            ]
          },
          "metadata": {},
          "execution_count": 312
        }
      ]
    },
    {
      "cell_type": "markdown",
      "source": [
        "Zmienne które zostały uwzględnione w drugiej zmiennej wygenerowanej przez PCA"
      ],
      "metadata": {
        "id": "EsgmJbqnZKx4"
      }
    },
    {
      "cell_type": "code",
      "source": [
        "lista=pca.components_\n",
        "nazwy_col = list(data_bankructwo_col.columns)\n",
        "zmienna_2= lista[1].tolist()\n",
        "\n",
        "wektor_wlasny2= dict(zip(nazwy_col , zmienna_2))\n",
        "\n",
        "\n",
        "for key in wektor_wlasny2:\n",
        "    wektor_wlasny2[key] = round(wektor_wlasny2[key], 10)\n",
        "\n",
        "\n",
        "wektor_wlasny2_variables= dict(wektor_wlasny2)\n",
        "\n",
        "for key in wektor_wlasny2:\n",
        "  if wektor_wlasny2_variables[key] == 0:\n",
        "    del wektor_wlasny2_variables[key]\n",
        "  else:\n",
        "    pass\n",
        "\n",
        "\n",
        "wektor_wlasny2_variables"
      ],
      "metadata": {
        "colab": {
          "base_uri": "https://localhost:8080/"
        },
        "id": "x6iw_Oe52ccS",
        "outputId": "ee4d8ced-63ff-4fe1-d75a-b478aa49bf91"
      },
      "execution_count": 313,
      "outputs": [
        {
          "output_type": "execute_result",
          "data": {
            "text/plain": [
              "{'Operating Expense Rate': 0.8746406438,\n",
              " 'Total Asset Growth Rate': -0.0660758771,\n",
              " 'Total debt/Total net worth': -0.0003900198,\n",
              " 'Revenue per person': 5.64873e-05,\n",
              " 'Allocation rate per person': -0.0002087646,\n",
              " 'Current Asset Turnover Rate': -0.0339741645,\n",
              " 'Quick Asset Turnover Rate': -0.4139388625,\n",
              " 'Cash Turnover Rate': -0.241118017}"
            ]
          },
          "metadata": {},
          "execution_count": 313
        }
      ]
    },
    {
      "cell_type": "markdown",
      "source": [
        "Zmienne które zostały uwzględnione w trzeciej zmiennej wygenerowanej przez PCA"
      ],
      "metadata": {
        "id": "hrv14u0pZzz3"
      }
    },
    {
      "cell_type": "code",
      "source": [
        "lista=pca.components_\n",
        "nazwy_col = list(data_bankructwo_col.columns)\n",
        "zmienna_3= lista[2].tolist()\n",
        "\n",
        "wektor_wlasny3= dict(zip(nazwy_col , zmienna_3))\n",
        "\n",
        "\n",
        "for key in wektor_wlasny3:\n",
        "    wektor_wlasny3[key] = round(wektor_wlasny3[key], 10)\n",
        "\n",
        "\n",
        "wektor_wlasny3_variables= dict(wektor_wlasny3)\n",
        "\n",
        "for key in wektor_wlasny3:\n",
        "  if wektor_wlasny3_variables[key] == 0:\n",
        "    del wektor_wlasny3_variables[key]\n",
        "  else:\n",
        "    pass\n",
        "\n",
        "\n",
        "wektor_wlasny3_variables"
      ],
      "metadata": {
        "colab": {
          "base_uri": "https://localhost:8080/"
        },
        "id": "X6PaaFb221_a",
        "outputId": "f2d01f17-8838-4209-c6a2-dc1f883690d2"
      },
      "execution_count": 314,
      "outputs": [
        {
          "output_type": "execute_result",
          "data": {
            "text/plain": [
              "{'Operating Expense Rate': 0.3144399717,\n",
              " 'Total Asset Growth Rate': 0.0279067384,\n",
              " 'Total debt/Total net worth': -0.0005952588,\n",
              " 'Revenue per person': -0.0030671703,\n",
              " 'Allocation rate per person': -0.0011696653,\n",
              " 'Current Asset Turnover Rate': -0.7168921707,\n",
              " 'Quick Asset Turnover Rate': 0.5494060791,\n",
              " 'Cash Turnover Rate': 0.290785426}"
            ]
          },
          "metadata": {},
          "execution_count": 314
        }
      ]
    },
    {
      "cell_type": "markdown",
      "source": [
        "Zmienne które zostały uwzględnione w czwartej zmiennej wygenerowanej przez PCA"
      ],
      "metadata": {
        "id": "P-kKMppBaIVS"
      }
    },
    {
      "cell_type": "code",
      "source": [
        "lista=pca.components_\n",
        "nazwy_col = list(data_bankructwo_col.columns)\n",
        "zmienna_4= lista[3].tolist()\n",
        "\n",
        "wektor_wlasny4= dict(zip(nazwy_col , zmienna_4))\n",
        "\n",
        "\n",
        "for key in wektor_wlasny4:\n",
        "    wektor_wlasny4[key] = round(wektor_wlasny4[key], 10)\n",
        "\n",
        "\n",
        "wektor_wlasny4_variables= dict(wektor_wlasny4)\n",
        "\n",
        "for key in wektor_wlasny4:\n",
        "  if wektor_wlasny4_variables[key] == 0:\n",
        "    del wektor_wlasny4_variables[key]\n",
        "  else:\n",
        "    pass\n",
        "\n",
        "\n",
        "wektor_wlasny4_variables"
      ],
      "metadata": {
        "colab": {
          "base_uri": "https://localhost:8080/"
        },
        "id": "keibd52m3AEE",
        "outputId": "26a0e3c8-bd89-42cd-9f2a-363236f93ac5"
      },
      "execution_count": 315,
      "outputs": [
        {
          "output_type": "execute_result",
          "data": {
            "text/plain": [
              "{'Operating Expense Rate': 0.1137012801,\n",
              " 'Total Asset Growth Rate': 0.1405535788,\n",
              " 'Total debt/Total net worth': 0.0018685522,\n",
              " 'Revenue per person': -0.0042703812,\n",
              " 'Allocation rate per person': -0.0004197706,\n",
              " 'Current Asset Turnover Rate': 0.1741678335,\n",
              " 'Quick Asset Turnover Rate': -0.3271451349,\n",
              " 'Cash Turnover Rate': 0.9110084703}"
            ]
          },
          "metadata": {},
          "execution_count": 315
        }
      ]
    },
    {
      "cell_type": "markdown",
      "source": [
        "Zmienne które zostały uwzględnione w piątej zmiennej wygenerowanej przez PCA"
      ],
      "metadata": {
        "id": "UOqqnqQbac61"
      }
    },
    {
      "cell_type": "code",
      "source": [
        "lista=pca.components_\n",
        "nazwy_col = list(data_bankructwo_col.columns)\n",
        "zmienna_5= lista[4].tolist()\n",
        "\n",
        "wektor_wlasny5= dict(zip(nazwy_col , zmienna_5))\n",
        "\n",
        "\n",
        "for key in wektor_wlasny5:\n",
        "    wektor_wlasny5[key] = round(wektor_wlasny5[key], 10)\n",
        "\n",
        "\n",
        "wektor_wlasny5_variables= dict(wektor_wlasny5)\n",
        "\n",
        "for key in wektor_wlasny5:\n",
        "  if wektor_wlasny5_variables[key] == 0:\n",
        "    del wektor_wlasny5_variables[key]\n",
        "  else:\n",
        "    pass\n",
        "\n",
        "\n",
        "wektor_wlasny5_variables"
      ],
      "metadata": {
        "colab": {
          "base_uri": "https://localhost:8080/"
        },
        "id": "wSerddt33ITx",
        "outputId": "45997673-dfb9-4835-a1b3-ff9933eccc5c"
      },
      "execution_count": 316,
      "outputs": [
        {
          "output_type": "execute_result",
          "data": {
            "text/plain": [
              "{'Operating Expense Rate': -0.0191466654,\n",
              " 'Total Asset Growth Rate': -0.9866193004,\n",
              " 'Total debt/Total net worth': 0.0070289819,\n",
              " 'Revenue per person': -0.0022117842,\n",
              " 'Allocation rate per person': -0.0026435483,\n",
              " 'Current Asset Turnover Rate': 0.0343539405,\n",
              " 'Quick Asset Turnover Rate': 0.0231492236,\n",
              " 'Cash Turnover Rate': 0.1563278435}"
            ]
          },
          "metadata": {},
          "execution_count": 316
        }
      ]
    },
    {
      "cell_type": "markdown",
      "metadata": {
        "id": "tri4Yrw21o93"
      },
      "source": [
        "#Podział danych na testowe i uczące"
      ]
    },
    {
      "cell_type": "code",
      "source": [
        "# Split the data into features (X) and target (y)\n",
        "X = principal_df.drop('Bankrupt?', axis=1)\n",
        "y = principal_df['Bankrupt?']\n",
        "\n",
        "# Split the data into training and test sets\n",
        "X_train, X_test, y_train, y_test = train_test_split(X, y, test_size=0.2,random_state=42)\n",
        "\n",
        "# Scale the features using StandardScaler\n",
        "scaler = StandardScaler()\n",
        "X_train = scaler.fit_transform(X_train)\n",
        "X_test = scaler.transform(X_test)"
      ],
      "metadata": {
        "id": "1M8H06l-IZEs"
      },
      "execution_count": 317,
      "outputs": []
    },
    {
      "cell_type": "code",
      "source": [
        "# Przygotowanie zbiorów treningowych i testowych dla danych bez redukcji wymiarowości\n",
        "X_2 = data_standardised.loc[:, exclude_filter]\n",
        "y_2 = data_standardised['Bankrupt?']\n",
        "# Split the data into training and test sets\n",
        "X_train_2, X_test_2, y_train_2, y_test_2 = train_test_split(X_2, y_2, test_size=0.2, random_state=42)"
      ],
      "metadata": {
        "id": "yCiZLIJDm_fm"
      },
      "execution_count": 318,
      "outputs": []
    },
    {
      "cell_type": "markdown",
      "source": [
        "Liczebność klas nie jest zbalansowana. W związku z tym miara dokładnośći(accuracy) modelu nie będzie dobrym sposobem na ocenę modeli. Lepszą miarą oceny skuteczności modelu w przypadku niezbalansowanych liczebności klas jest miara F1 będąca średnią harmoniczną czułości (recall) i precyzji (precision)."
      ],
      "metadata": {
        "id": "dOfot_kTnoUj"
      }
    },
    {
      "cell_type": "code",
      "source": [
        "principal_df['Bankrupt?'].value_counts(normalize= True).plot(kind= 'bar')\n",
        "plt.xlabel(\"Klasy\")\n",
        "plt.ylabel(\"Częstość\")\n",
        "plt.title(\"Zbalansowanie klas\");"
      ],
      "metadata": {
        "colab": {
          "base_uri": "https://localhost:8080/",
          "height": 480
        },
        "id": "5xDjzNponPP7",
        "outputId": "ef3507cb-5b96-401f-83a2-64390d4a6ceb"
      },
      "execution_count": 319,
      "outputs": [
        {
          "output_type": "display_data",
          "data": {
            "text/plain": [
              "<Figure size 640x480 with 1 Axes>"
            ],
            "image/png": "[encoded data removed]"
          },
          "metadata": {}
        }
      ]
    },
    {
      "cell_type": "markdown",
      "metadata": {
        "id": "_xc402czjmr1"
      },
      "source": [
        "# Modele wyuczone na danych po PCA"
      ]
    },
    {
      "cell_type": "markdown",
      "metadata": {
        "id": "82gIrCs5jmr1"
      },
      "source": [
        "##Logistic Regression - regresja logistyczna.\n",
        "Jeden z podstawowych modeli służących do klasyfikacji binarnej.\n"
      ]
    },
    {
      "cell_type": "code",
      "execution_count": 320,
      "metadata": {
        "id": "Jgo1v8mojmr2",
        "outputId": "c1030d26-26cb-4995-cca7-402ee5f1aa25",
        "colab": {
          "base_uri": "https://localhost:8080/"
        }
      },
      "outputs": [
        {
          "output_type": "stream",
          "name": "stdout",
          "text": [
            "Fitting 5 folds for each of 120 candidates, totalling 600 fits\n",
            "Najlepsze parametry : {'C': 0.2, 'solver': 'lbfgs', 'tol': 5}\n",
            "Najlepszy wynik : 0.6309670950561244\n",
            "Najlepszy model : LogisticRegression(C=0.2, class_weight='balanced', tol=5)\n"
          ]
        }
      ],
      "source": [
        "clf_lg = LogisticRegression(class_weight='balanced',penalty='l2')\n",
        "\n",
        "param_dist_lg = {\n",
        "    'solver':['newton-cg', 'lbfgs', 'liblinear'],\n",
        "    \"tol\":[0.0001,0.001,0.01,0.05,0.1,1,5,10],\n",
        "    \"C\":[0.01,0.1,0.2,0.5,1]\n",
        "}\n",
        "\n",
        "grid_lg = GridSearchCV(estimator=clf_lg, param_grid=param_dist_lg, scoring='f1', n_jobs=-1, cv=5, verbose=4 )\n",
        "grid_lg.fit(X_train, y_train)\n",
        "\n",
        "best_params = grid_lg.best_params_\n",
        "print(\"Najlepsze parametry : {}\".format(best_params))\n",
        "print(\"Najlepszy wynik : {}\".format(grid_lg.best_score_))\n",
        "print(\"Najlepszy model : {}\".format(grid_lg.best_estimator_))"
      ]
    },
    {
      "cell_type": "code",
      "execution_count": 321,
      "metadata": {
        "id": "z-7RvvHljmr3",
        "outputId": "15e86392-8208-4486-84c4-17946a03c307",
        "colab": {
          "base_uri": "https://localhost:8080/"
        }
      },
      "outputs": [
        {
          "output_type": "stream",
          "name": "stdout",
          "text": [
            "Miara dokładności train:  0.6758793969849246\n",
            "Miara dokładności:  0.66\n",
            "Miara F1 train:  0.6465753424657533\n",
            "Miara F1:  0.6304347826086957\n"
          ]
        }
      ],
      "source": [
        "clf_lg = LogisticRegression(penalty='l2',solver=best_params.get('solver'), C=best_params.get('C'),class_weight='balanced',tol=best_params.get('tol')).fit(X_train,y_train) #uczenie modelu\n",
        "y_pred_lg = clf_lg.predict(X_test) # predykcja zbioru testowego\n",
        "y_pred_lg_train = clf_lg.predict(X_train)\n",
        "#dokładność predykcji modelu\n",
        "print(\"Miara dokładności train: \",accuracy_score(y_train, y_pred_lg_train))\n",
        "print(\"Miara dokładności: \",accuracy_score(y_test, y_pred_lg))\n",
        "#średnia ważona f1-score dla wszystkich klas\n",
        "print(\"Miara F1 train: \",f1_score(y_train, y_pred_lg_train))\n",
        "print(\"Miara F1: \",f1_score(y_test, y_pred_lg))"
      ]
    },
    {
      "cell_type": "code",
      "execution_count": 322,
      "metadata": {
        "id": "jJWVCLPUjmr6",
        "outputId": "ae006b73-c1ff-4b10-c379-6e720aa3f311",
        "colab": {
          "base_uri": "https://localhost:8080/",
          "height": 472
        }
      },
      "outputs": [
        {
          "output_type": "display_data",
          "data": {
            "text/plain": [
              "<Figure size 640x480 with 2 Axes>"
            ],
            "image/png": "[encoded data removed]"
          },
          "metadata": {}
        }
      ],
      "source": [
        "plt.figure()\n",
        "matrix_lg = confusion_matrix(y_test, y_pred_lg)\n",
        "ax= plt.subplot()\n",
        "sns.heatmap(matrix_lg, annot=True, fmt='g', ax=ax,cmap='Greens')\n",
        "ax.set_xlabel('Sklasyfikowane etykiety');ax.set_ylabel('Prawdziwe etykiety')\n",
        "ax.set_title(f'Macierz pomyłek modelu {type(clf_lg).__name__}');\n",
        "ax.xaxis.set_ticklabels(clf_lg.classes_); ax.yaxis.set_ticklabels(clf_lg.classes_);"
      ]
    },
    {
      "cell_type": "markdown",
      "metadata": {
        "id": "bsHOcGrkjmr7"
      },
      "source": [
        "##Support Vector Machines - Wektory nośne\n",
        "Algorytm, którego działanie polega na odnalezieniu hiperpłaszczyzny najlepiej oddzielającej dwie klasy na n-wymiarowej płaszczyźnie."
      ]
    },
    {
      "cell_type": "code",
      "execution_count": 323,
      "metadata": {
        "id": "6Uw9pbs_jmr7",
        "outputId": "bbc04bc7-dfc3-4158-d37c-0ce5ea602a06",
        "colab": {
          "base_uri": "https://localhost:8080/"
        }
      },
      "outputs": [
        {
          "output_type": "stream",
          "name": "stdout",
          "text": [
            "Fitting 5 folds for each of 30 candidates, totalling 150 fits\n",
            "Najlepsze parametry : {'C': 6, 'gamma': 'scale', 'kernel': 'rbf'}\n",
            "Najlepszy wynik : 0.6264447756251035\n",
            "Najlepszy model : SVC(C=6)\n"
          ]
        }
      ],
      "source": [
        "svc=SVC()\n",
        "\n",
        "param_dist_svc = {\n",
        "    \"gamma\":['scale','auto',0.0001,0.01,1],\n",
        "    \"C\":[1,5,6],\n",
        "    \"kernel\":['rbf','poly']\n",
        "}\n",
        "\n",
        "grid_svc = GridSearchCV(estimator=svc, param_grid=param_dist_svc, scoring='f1', n_jobs=-1, cv=5, verbose=4 )\n",
        "grid_svc.fit(X_train, y_train)\n",
        "\n",
        "best_params=grid_svc.best_params_\n",
        "print(\"Najlepsze parametry : {}\".format(grid_svc.best_params_))\n",
        "print(\"Najlepszy wynik : {}\".format(grid_svc.best_score_))\n",
        "print(\"Najlepszy model : {}\".format(grid_svc.best_estimator_))"
      ]
    },
    {
      "cell_type": "code",
      "execution_count": 324,
      "metadata": {
        "id": "GW_Mm3sjjmr8",
        "colab": {
          "base_uri": "https://localhost:8080/"
        },
        "outputId": "7949824e-5589-4214-aead-9ccf764e68cc"
      },
      "outputs": [
        {
          "output_type": "stream",
          "name": "stdout",
          "text": [
            "Miara dokładności train:  0.7939698492462312\n",
            "Miara dokładności:  0.69\n",
            "Miara F1 train:  0.740506329113924\n",
            "Miara F1:  0.6265060240963854\n"
          ]
        }
      ],
      "source": [
        "svc=SVC(C=best_params.get('C'),gamma=best_params.get('gamma'),kernel=best_params.get('kernel'))\n",
        "svc.fit(X_train,y_train)\n",
        "\n",
        "y_pred_svc = svc.predict(X_test) # predykcja zbioru testowego\n",
        "y_pred_svc_train = svc.predict(X_train)\n",
        "#dokładność predykcji modelu\n",
        "print(\"Miara dokładności train: \",accuracy_score(y_train, y_pred_svc_train))\n",
        "print(\"Miara dokładności: \",accuracy_score(y_test, y_pred_svc))\n",
        "#średnia ważona f1-score\n",
        "print(\"Miara F1 train: \",f1_score(y_train, y_pred_svc_train))\n",
        "print(\"Miara F1: \",f1_score(y_test, y_pred_svc))"
      ]
    },
    {
      "cell_type": "code",
      "execution_count": 325,
      "metadata": {
        "id": "TLYIgAS0jmr8",
        "colab": {
          "base_uri": "https://localhost:8080/",
          "height": 472
        },
        "outputId": "a640231f-232f-4991-df70-49b5df6f470d"
      },
      "outputs": [
        {
          "output_type": "display_data",
          "data": {
            "text/plain": [
              "<Figure size 640x480 with 2 Axes>"
            ],
            "image/png": "[encoded data removed]"
          },
          "metadata": {}
        }
      ],
      "source": [
        "plt.figure()\n",
        "matrix_svc = confusion_matrix(y_test, y_pred_svc)\n",
        "ax= plt.subplot()\n",
        "sns.heatmap(matrix_svc, annot=True, fmt='g', ax=ax,cmap='Greens')\n",
        "ax.set_xlabel('Sklasyfikowane etykiety');ax.set_ylabel('Prawdziwe etykiety')\n",
        "ax.set_title(f'Macierz pomyłek modelu {type(svc).__name__}');\n",
        "ax.xaxis.set_ticklabels(svc.classes_); ax.yaxis.set_ticklabels(svc.classes_);"
      ]
    },
    {
      "cell_type": "markdown",
      "metadata": {
        "id": "qk1KktxRjmr9"
      },
      "source": [
        "##Extreme Gradient Boosting - XGBoost\n",
        "Algorytm uczenia zespołowego, wykorzystującego wiele małych, wzmacnianych gradientem drzew decyzyjnych."
      ]
    },
    {
      "cell_type": "code",
      "execution_count": 326,
      "metadata": {
        "id": "T269Y-J7jmr9",
        "colab": {
          "base_uri": "https://localhost:8080/"
        },
        "outputId": "0b512590-eb4f-4da1-fccb-7319504f58d0"
      },
      "outputs": [
        {
          "output_type": "stream",
          "name": "stdout",
          "text": [
            "Fitting 5 folds for each of 72 candidates, totalling 360 fits\n",
            "Najlepsze parametry : {'eta': 0.01, 'gamma': 0, 'max_depth': 4, 'n_estimators': 100}\n",
            "Najlepszy wynik : 0.6674410775995068\n",
            "Najlepszy model : XGBClassifier(base_score=None, booster=None, callbacks=None,\n",
            "              colsample_bylevel=None, colsample_bynode=None,\n",
            "              colsample_bytree=None, early_stopping_rounds=None,\n",
            "              enable_categorical=False, eta=0.01, eval_metric=None,\n",
            "              feature_types=None, gamma=0, gpu_id=None, grow_policy=None,\n",
            "              importance_type=None, interaction_constraints=None,\n",
            "              learning_rate=None, max_bin=None, max_cat_threshold=None,\n",
            "              max_cat_to_onehot=None, max_delta_step=None, max_depth=4,\n",
            "              max_leaves=None, min_child_weight=None, missing=nan,\n",
            "              monotone_constraints=None, n_estimators=100, n_jobs=-1,\n",
            "              num_parallel_tree=None, predictor=None, ...)\n"
          ]
        }
      ],
      "source": [
        "xgb = XGBClassifier(objective='binary:logistic', n_jobs=-1)\n",
        "param_dist_xgb = { #scale_pos_weight\n",
        "    \"eta\":[0,0.01,0.1],\n",
        "    \"gamma\":[0,0.1,0.5,1],\n",
        "    \"max_depth\":[3,4,5],\n",
        "    \"n_estimators\":[50,100]\n",
        "}\n",
        "\n",
        "grid_xgb = GridSearchCV(estimator=xgb, param_grid=param_dist_xgb, scoring='f1', n_jobs=-1, cv=5, verbose=4 )\n",
        "grid_xgb.fit(X_train, y_train)\n",
        "\n",
        "best_params=grid_xgb.best_params_\n",
        "print(\"Najlepsze parametry : {}\".format(grid_xgb.best_params_))\n",
        "print(\"Najlepszy wynik : {}\".format(grid_xgb.best_score_))\n",
        "print(\"Najlepszy model : {}\".format(grid_xgb.best_estimator_))"
      ]
    },
    {
      "cell_type": "code",
      "execution_count": 327,
      "metadata": {
        "id": "Kvjh3EzYjmr-",
        "colab": {
          "base_uri": "https://localhost:8080/"
        },
        "outputId": "f61b0776-d647-4826-caa4-a2df31520eed"
      },
      "outputs": [
        {
          "output_type": "stream",
          "name": "stdout",
          "text": [
            "Miara dokładności train:  0.8391959798994975\n",
            "Miara dokładności:  0.67\n",
            "Miara F1 train:  0.8024691358024691\n",
            "Miara F1:  0.6373626373626373\n"
          ]
        }
      ],
      "source": [
        "xgb = XGBClassifier(max_depth=best_params.get('max_depth') ,n_estimators=best_params.get('n_estimators'),gamma=best_params.get('gamma'),eta=best_params.get('eta')).fit(X_train,y_train)\n",
        "y_pred_xgb = xgb.predict(X_test)\n",
        "y_pred_xgb_train = xgb.predict(X_train)\n",
        "#dokładność predykcji modelu\n",
        "print(\"Miara dokładności train: \",accuracy_score(y_train, y_pred_xgb_train))\n",
        "print(\"Miara dokładności: \",accuracy_score(y_test, y_pred_xgb))\n",
        "# f1-score\n",
        "print(\"Miara F1 train: \",f1_score(y_train, y_pred_xgb_train))\n",
        "print(\"Miara F1: \",f1_score(y_test, y_pred_xgb))"
      ]
    },
    {
      "cell_type": "code",
      "source": [
        "plt.figure()\n",
        "matrix_xgb = confusion_matrix(y_test, y_pred_xgb)\n",
        "ax= plt.subplot()\n",
        "sns.heatmap(matrix_xgb, annot=True, fmt='g', ax=ax,cmap='Greens')\n",
        "ax.set_xlabel('Sklasyfikowane etykiety');ax.set_ylabel('Prawdziwe etykiety')\n",
        "ax.set_title(f'Macierz pomyłek modelu {type(xgb).__name__}');\n",
        "ax.xaxis.set_ticklabels(xgb.classes_); ax.yaxis.set_ticklabels(xgb.classes_);"
      ],
      "metadata": {
        "colab": {
          "base_uri": "https://localhost:8080/",
          "height": 472
        },
        "id": "umGb1VtIt05f",
        "outputId": "ed87d0c8-45ac-45dd-ef20-6438ab421360"
      },
      "execution_count": 328,
      "outputs": [
        {
          "output_type": "display_data",
          "data": {
            "text/plain": [
              "<Figure size 640x480 with 2 Axes>"
            ],
            "image/png": "[encoded data removed]"
          },
          "metadata": {}
        }
      ]
    },
    {
      "cell_type": "code",
      "source": [],
      "metadata": {
        "id": "32FD5b4toKRx"
      },
      "execution_count": 328,
      "outputs": []
    },
    {
      "cell_type": "markdown",
      "metadata": {
        "id": "SaGpCieejmr_"
      },
      "source": [
        "# Modele wyuczone na danych bez PCA"
      ]
    },
    {
      "cell_type": "markdown",
      "metadata": {
        "id": "SfOOCLvYjmsA"
      },
      "source": [
        "##Logistic Regression - regresja logistyczna"
      ]
    },
    {
      "cell_type": "code",
      "source": [
        "clf_lg_2 = LogisticRegression()\n",
        "\n",
        "{\n",
        "    'solver':['newton-cg', 'lbfgs', 'liblinear'],\n",
        "    'penalty':['l2'],\n",
        "    \"tol\":[0.0001,0.001,0.01,0.01,0.1,1,5,10],\n",
        "    \"C\":[0.01,0.1,0.2,0.5,1],\n",
        "    \"class_weight\":[None,'balanced']\n",
        "}\n",
        "\n",
        "best_params=grid_lg.best_params_\n",
        "grid_lg = GridSearchCV(estimator=clf_lg_2, param_grid=param_dist_lg, scoring='f1', n_jobs=-1, cv=5, verbose=4 )\n",
        "grid_lg.fit(X_train_2, y_train_2)\n",
        "\n",
        "best_params=grid_lg.best_params_\n",
        "print(\"Najlepsze parametry : {}\".format(grid_lg.best_params_))\n",
        "print(\"Najlepszy wynik : {}\".format(grid_lg.best_score_))\n",
        "print(\"Najlepszy model : {}\".format(grid_lg.best_estimator_))"
      ],
      "metadata": {
        "colab": {
          "base_uri": "https://localhost:8080/"
        },
        "id": "kFZQ2mr5fndg",
        "outputId": "24fbdfb8-b39d-4406-f109-b07cd1abdb4a"
      },
      "execution_count": 329,
      "outputs": [
        {
          "output_type": "stream",
          "name": "stdout",
          "text": [
            "Fitting 5 folds for each of 120 candidates, totalling 600 fits\n",
            "Najlepsze parametry : {'C': 0.5, 'solver': 'lbfgs', 'tol': 5}\n",
            "Najlepszy wynik : 0.8683694428357805\n",
            "Najlepszy model : LogisticRegression(C=0.5, tol=5)\n"
          ]
        }
      ]
    },
    {
      "cell_type": "code",
      "execution_count": 330,
      "metadata": {
        "id": "0_QE1cX9jmsA",
        "colab": {
          "base_uri": "https://localhost:8080/"
        },
        "outputId": "11efc674-ae35-4a07-990a-4f813d6826ce"
      },
      "outputs": [
        {
          "output_type": "stream",
          "name": "stdout",
          "text": [
            "Miara dokładności:  0.88\n",
            "Miara dokładności train:  0.9095477386934674\n",
            "Miara F1 train:  0.8947368421052632\n",
            "Miara F1:  0.8695652173913044\n"
          ]
        }
      ],
      "source": [
        "clf_lg_2 = LogisticRegression(solver=best_params.get('solver'),C=best_params.get('C'),class_weight=best_params.get('class_weight'),tol=best_params.get('tol')).fit(X_train_2,y_train_2) #uczenie modelu #uczenie modelu\n",
        "y_pred_lg_2 = clf_lg_2.predict(X_test_2) # predykcja zbioru testowego\n",
        "y_pred_lg_train_2 = clf_lg_2.predict(X_train_2)\n",
        "\n",
        "#dokładność predykcji modelu\n",
        "print(\"Miara dokładności: \",accuracy_score(y_test_2, y_pred_lg_2))\n",
        "print(\"Miara dokładności train: \",accuracy_score(y_train_2, y_pred_lg_train_2))\n",
        "#średnia ważona f1-score dla wszystkich klas\n",
        "print(\"Miara F1 train: \",f1_score(y_train_2, y_pred_lg_train_2))\n",
        "print(\"Miara F1: \",f1_score(y_test_2, y_pred_lg_2))"
      ]
    },
    {
      "cell_type": "code",
      "execution_count": 331,
      "metadata": {
        "id": "4U_ID4wojmsB",
        "colab": {
          "base_uri": "https://localhost:8080/",
          "height": 472
        },
        "outputId": "3ea3c856-cd7c-492f-9003-a900282db127"
      },
      "outputs": [
        {
          "output_type": "display_data",
          "data": {
            "text/plain": [
              "<Figure size 640x480 with 2 Axes>"
            ],
            "image/png": "[encoded data removed]"
          },
          "metadata": {}
        }
      ],
      "source": [
        "plt.figure()\n",
        "matrix_lg_2 = confusion_matrix(y_test_2, y_pred_lg_2)\n",
        "ax= plt.subplot()\n",
        "sns.heatmap(matrix_lg_2, annot=True, fmt='g', ax=ax,cmap='Greens')\n",
        "ax.set_xlabel('Sklasyfikowane etykiety');ax.set_ylabel('Prawdziwe etykiety')\n",
        "ax.set_title(f'Macierz pomyłek modelu {type(clf_lg_2).__name__}');\n",
        "ax.xaxis.set_ticklabels(clf_lg_2.classes_); ax.yaxis.set_ticklabels(clf_lg_2.classes_);"
      ]
    },
    {
      "cell_type": "markdown",
      "source": [
        "##Support Vector Machines - Wektory nośne"
      ],
      "metadata": {
        "id": "BhTXah14eVVQ"
      }
    },
    {
      "cell_type": "code",
      "source": [
        "svc_2=SVC()\n",
        "\n",
        "param_dist_svc = {\n",
        "    \"gamma\":[1, 0.1, 0.01, 0.001, 0.0001],\n",
        "    \"C\":[0.1, 1,2],\n",
        "    \"kernel\":['rbf','poly']\n",
        "}\n",
        "\n",
        "grid_svc = GridSearchCV(estimator=svc_2, param_grid=param_dist_svc, scoring='f1', n_jobs=-1, cv=5, verbose=4 )\n",
        "grid_svc.fit(X_train_2, y_train_2)\n",
        "\n",
        "\n",
        "best_params= grid_svc.best_params_\n",
        "print(\"Najlepsze parametry : {}\".format(grid_svc.best_params_))\n",
        "print(\"Najlepszy wynik : {}\".format(grid_svc.best_score_))\n",
        "print(\"Najlepszy model : {}\".format(grid_svc.best_estimator_))"
      ],
      "metadata": {
        "colab": {
          "base_uri": "https://localhost:8080/"
        },
        "id": "RodzOYy-efkn",
        "outputId": "5bbd0a89-0d2e-4aec-8c03-b41c12cab599"
      },
      "execution_count": 332,
      "outputs": [
        {
          "output_type": "stream",
          "name": "stdout",
          "text": [
            "Fitting 5 folds for each of 30 candidates, totalling 150 fits\n",
            "Najlepsze parametry : {'C': 2, 'gamma': 0.01, 'kernel': 'rbf'}\n",
            "Najlepszy wynik : 0.8747999015909464\n",
            "Najlepszy model : SVC(C=2, gamma=0.01)\n"
          ]
        }
      ]
    },
    {
      "cell_type": "code",
      "source": [
        "svc_2=SVC(C=best_params.get('C'),gamma=best_params.get('gamma'),kernel=best_params.get('kernel')).fit(X_train_2,y_train_2)\n",
        "y_pred_svc_2 = svc_2.predict(X_test_2) # predykcja zbioru testowego\n",
        "y_pred_svc_train_2 = svc_2.predict(X_train_2)\n",
        "#dokładność predykcji modelu\n",
        "print(\"Miara dokładności train: \",accuracy_score(y_train_2, y_pred_svc_train_2))\n",
        "print(\"Miara dokładności: \",accuracy_score(y_test_2, y_pred_svc_2))\n",
        "#średnia ważona f1-score\n",
        "print(\"Miara F1 train: \",f1_score(y_train_2, y_pred_svc_train_2))\n",
        "print(\"Miara F1: \",f1_score(y_test_2, y_pred_svc_2))"
      ],
      "metadata": {
        "colab": {
          "base_uri": "https://localhost:8080/"
        },
        "id": "3ESratsDeqKP",
        "outputId": "c2d5474c-1c64-4459-8381-3b6d0da666df"
      },
      "execution_count": 333,
      "outputs": [
        {
          "output_type": "stream",
          "name": "stdout",
          "text": [
            "Miara dokładności train:  0.9396984924623115\n",
            "Miara dokładności:  0.89\n",
            "Miara F1 train:  0.9289940828402367\n",
            "Miara F1:  0.8791208791208792\n"
          ]
        }
      ]
    },
    {
      "cell_type": "code",
      "source": [
        "plt.figure()\n",
        "matrix_svc_2 = confusion_matrix(y_test_2, y_pred_svc_2)\n",
        "ax= plt.subplot()\n",
        "sns.heatmap(matrix_svc_2, annot=True, fmt='g', ax=ax,cmap='Greens')\n",
        "ax.set_xlabel('Sklasyfikowane etykiety');ax.set_ylabel('Prawdziwe etykiety')\n",
        "ax.set_title(f'Macierz pomyłek modelu {type(svc_2).__name__}');\n",
        "ax.xaxis.set_ticklabels(svc_2.classes_); ax.yaxis.set_ticklabels(svc_2.classes_);"
      ],
      "metadata": {
        "colab": {
          "base_uri": "https://localhost:8080/",
          "height": 472
        },
        "id": "vndOJqVpewja",
        "outputId": "f6e8b194-5500-487e-ee82-40e8595bef72"
      },
      "execution_count": 334,
      "outputs": [
        {
          "output_type": "display_data",
          "data": {
            "text/plain": [
              "<Figure size 640x480 with 2 Axes>"
            ],
            "image/png": "[encoded data removed]"
          },
          "metadata": {}
        }
      ]
    },
    {
      "cell_type": "markdown",
      "metadata": {
        "id": "Ak5ekbeSjmso"
      },
      "source": [
        "##Extreme Gradient Boosting - XGBoost"
      ]
    },
    {
      "cell_type": "code",
      "source": [
        "xgb_2 = XGBClassifier(objective='binary:logistic',n_jobs=-1)\n",
        "param_dist_xgb = {\n",
        "    \"eta\":[0.1,0.3],\n",
        "    \"gamma\":[0.1,1],\n",
        "    \"max_depth\":[3,5],\n",
        "    \"n_estimators\":[3,9]\n",
        "}\n",
        "\n",
        "grid_xgb = GridSearchCV(estimator=xgb_2, param_grid=param_dist_xgb, scoring='f1', n_jobs=-1, cv=5, verbose=4 )\n",
        "grid_xgb.fit(X_train_2, y_train_2)\n",
        "\n",
        "best_params=grid_xgb.best_params_\n",
        "print(\"Najlepsze parametry : {}\".format(grid_xgb.best_params_))\n",
        "print(\"Najlepszy wynik : {}\".format(grid_xgb.best_score_))\n",
        "print(\"Najlepszy model : {}\".format(grid_xgb.best_estimator_))"
      ],
      "metadata": {
        "colab": {
          "base_uri": "https://localhost:8080/"
        },
        "id": "IwGB6I82gRfd",
        "outputId": "5754e5b4-61fc-4ee4-9d41-0e70ef13090d"
      },
      "execution_count": 335,
      "outputs": [
        {
          "output_type": "stream",
          "name": "stdout",
          "text": [
            "Fitting 5 folds for each of 16 candidates, totalling 80 fits\n",
            "Najlepsze parametry : {'eta': 0.3, 'gamma': 1, 'max_depth': 5, 'n_estimators': 9}\n",
            "Najlepszy wynik : 0.8593486585300505\n",
            "Najlepszy model : XGBClassifier(base_score=None, booster=None, callbacks=None,\n",
            "              colsample_bylevel=None, colsample_bynode=None,\n",
            "              colsample_bytree=None, early_stopping_rounds=None,\n",
            "              enable_categorical=False, eta=0.3, eval_metric=None,\n",
            "              feature_types=None, gamma=1, gpu_id=None, grow_policy=None,\n",
            "              importance_type=None, interaction_constraints=None,\n",
            "              learning_rate=None, max_bin=None, max_cat_threshold=None,\n",
            "              max_cat_to_onehot=None, max_delta_step=None, max_depth=5,\n",
            "              max_leaves=None, min_child_weight=None, missing=nan,\n",
            "              monotone_constraints=None, n_estimators=9, n_jobs=-1,\n",
            "              num_parallel_tree=None, predictor=None, ...)\n"
          ]
        }
      ]
    },
    {
      "cell_type": "code",
      "execution_count": 336,
      "metadata": {
        "id": "GoHLFsjvjmsp",
        "colab": {
          "base_uri": "https://localhost:8080/"
        },
        "outputId": "bebf0a3f-7815-453b-8660-0cf8feaf0c68"
      },
      "outputs": [
        {
          "output_type": "stream",
          "name": "stdout",
          "text": [
            "Miara dokładności train:  0.9949748743718593\n",
            "Miara dokładności:  0.9\n",
            "Miara F1 train:  0.9942196531791907\n",
            "Miara F1:  0.891304347826087\n"
          ]
        }
      ],
      "source": [
        "xgb_2 = XGBClassifier(max_depth=best_params.get('max_depth') ,n_estimators=best_params.get('n_estimators'),gamma=best_params.get('gamma'),eta=best_params.get('eta')).fit(X_train_2,y_train_2)\n",
        "#xgb_2 = XGBClassifier(max_depth=5, n_estimators=9,gamma=1).fit(X_train_2,y_train_2)\n",
        "y_pred_xgb_2 = xgb_2.predict(X_test_2)\n",
        "y_pred_xgb_train_2 = xgb_2.predict(X_train_2)\n",
        "\n",
        "#dokładność predykcji modelu\n",
        "print(\"Miara dokładności train: \",accuracy_score(y_train_2, y_pred_xgb_train_2))\n",
        "print(\"Miara dokładności: \",accuracy_score(y_test_2, y_pred_xgb_2))\n",
        "# f1-score\n",
        "print(\"Miara F1 train: \",f1_score(y_train_2, y_pred_xgb_train_2))\n",
        "print(\"Miara F1: \",f1_score(y_test_2, y_pred_xgb_2))"
      ]
    },
    {
      "cell_type": "code",
      "execution_count": 337,
      "metadata": {
        "id": "pztsnPIujmsp",
        "colab": {
          "base_uri": "https://localhost:8080/",
          "height": 472
        },
        "outputId": "9c98cca4-f912-40a4-ed58-aa79d727c5c1"
      },
      "outputs": [
        {
          "output_type": "display_data",
          "data": {
            "text/plain": [
              "<Figure size 640x480 with 2 Axes>"
            ],
            "image/png": "[encoded data removed]"
          },
          "metadata": {}
        }
      ],
      "source": [
        "plt.figure()\n",
        "matrix_xgb_2 = confusion_matrix(y_test_2, y_pred_xgb_2)\n",
        "ax= plt.subplot()\n",
        "sns.heatmap(matrix_xgb_2, annot=True, fmt='g', ax=ax,cmap='Greens')\n",
        "ax.set_xlabel('Sklasyfikowane etykiety');ax.set_ylabel('Prawdziwe etykiety')\n",
        "ax.set_title(f'Macierz pomyłek modelu {type(xgb_2).__name__}');\n",
        "ax.xaxis.set_ticklabels(xgb_2.classes_); ax.yaxis.set_ticklabels(xgb_2.classes_);"
      ]
    },
    {
      "cell_type": "markdown",
      "source": [
        "#Porównanie modeli"
      ],
      "metadata": {
        "id": "7PZfi-kDePSK"
      }
    },
    {
      "cell_type": "markdown",
      "source": [],
      "metadata": {
        "id": "Kx5qfSkhyGah"
      }
    },
    {
      "cell_type": "code",
      "source": [
        "modele = [clf_lg,svc,xgb,clf_lg_2,svc_2,xgb_2]\n",
        "predykcje_pca = [y_pred_lg,y_pred_svc,y_pred_xgb]\n",
        "predykcje_nonpca = [y_pred_lg_2,y_pred_svc_2,y_pred_xgb_2]\n",
        "\n",
        "modele_nazwy = ['PCA '+type(clf_lg).__name__,'PCA '+type(svc).__name__,'PCA '+type(xgb).__name__,type(clf_lg_2).__name__,type(svc_2).__name__,type(xgb_2).__name__]\n",
        "dokładność = list(map(lambda x: accuracy_score(y_test, x),predykcje_pca))+list(map(lambda x: accuracy_score(y_test_2, x),predykcje_nonpca))\n",
        "f1 = list(map(lambda x: f1_score(y_test, x),predykcje_pca))+list(map(lambda x: f1_score(y_test_2, x),predykcje_nonpca))\n",
        "recall = list(map(lambda x: recall_score(y_test, x),predykcje_pca))+list(map(lambda x: recall_score(y_test_2, x),predykcje_nonpca))\n",
        "precision = list(map(lambda x: precision_score(y_test, x,pos_label=0),predykcje_pca))+list(map(lambda x: precision_score(y_test_2, x,pos_label=0),predykcje_nonpca))\n",
        "\n",
        "dane_dict = {'Nazwa modelu':modele_nazwy,'Dokładność':dokładność,'F1-Score':f1,'Czułość':recall,'Precyzja':precision}\n",
        "tablica_modele = pd.DataFrame(dane_dict)\n",
        "tablica_modele"
      ],
      "metadata": {
        "id": "GU5ZRHBWyEcy",
        "colab": {
          "base_uri": "https://localhost:8080/",
          "height": 238
        },
        "outputId": "c57f46b8-8fb8-464f-e3f8-7b2b4e4da9c3"
      },
      "execution_count": 338,
      "outputs": [
        {
          "output_type": "execute_result",
          "data": {
            "text/plain": [
              "             Nazwa modelu  Dokładność  F1-Score   Czułość  Precyzja\n",
              "0  PCA LogisticRegression        0.66  0.630435  0.644444  0.698113\n",
              "1                 PCA SVC        0.69  0.626506  0.577778  0.693548\n",
              "2       PCA XGBClassifier        0.67  0.637363  0.644444  0.703704\n",
              "3      LogisticRegression        0.88  0.869565  0.888889  0.905660\n",
              "4                     SVC        0.89  0.879121  0.888889  0.907407\n",
              "5           XGBClassifier        0.90  0.891304  0.911111  0.924528"
            ],
            "text/html": [
              "\n",
              "  <div id=\"df-ad38f069-00e2-48f1-81bf-36ff21e8c628\">\n",
              "    <div class=\"colab-df-container\">\n",
              "      <div>\n",
              "<style scoped>\n",
              "    .dataframe tbody tr th:only-of-type {\n",
              "        vertical-align: middle;\n",
              "    }\n",
              "\n",
              "    .dataframe tbody tr th {\n",
              "        vertical-align: top;\n",
              "    }\n",
              "\n",
              "    .dataframe thead th {\n",
              "        text-align: right;\n",
              "    }\n",
              "</style>\n",
              "<table border=\"1\" class=\"dataframe\">\n",
              "  <thead>\n",
              "    <tr style=\"text-align: right;\">\n",
              "      <th></th>\n",
              "      <th>Nazwa modelu</th>\n",
              "      <th>Dokładność</th>\n",
              "      <th>F1-Score</th>\n",
              "      <th>Czułość</th>\n",
              "      <th>Precyzja</th>\n",
              "    </tr>\n",
              "  </thead>\n",
              "  <tbody>\n",
              "    <tr>\n",
              "      <th>0</th>\n",
              "      <td>PCA LogisticRegression</td>\n",
              "      <td>0.66</td>\n",
              "      <td>0.630435</td>\n",
              "      <td>0.644444</td>\n",
              "      <td>0.698113</td>\n",
              "    </tr>\n",
              "    <tr>\n",
              "      <th>1</th>\n",
              "      <td>PCA SVC</td>\n",
              "      <td>0.69</td>\n",
              "      <td>0.626506</td>\n",
              "      <td>0.577778</td>\n",
              "      <td>0.693548</td>\n",
              "    </tr>\n",
              "    <tr>\n",
              "      <th>2</th>\n",
              "      <td>PCA XGBClassifier</td>\n",
              "      <td>0.67</td>\n",
              "      <td>0.637363</td>\n",
              "      <td>0.644444</td>\n",
              "      <td>0.703704</td>\n",
              "    </tr>\n",
              "    <tr>\n",
              "      <th>3</th>\n",
              "      <td>LogisticRegression</td>\n",
              "      <td>0.88</td>\n",
              "      <td>0.869565</td>\n",
              "      <td>0.888889</td>\n",
              "      <td>0.905660</td>\n",
              "    </tr>\n",
              "    <tr>\n",
              "      <th>4</th>\n",
              "      <td>SVC</td>\n",
              "      <td>0.89</td>\n",
              "      <td>0.879121</td>\n",
              "      <td>0.888889</td>\n",
              "      <td>0.907407</td>\n",
              "    </tr>\n",
              "    <tr>\n",
              "      <th>5</th>\n",
              "      <td>XGBClassifier</td>\n",
              "      <td>0.90</td>\n",
              "      <td>0.891304</td>\n",
              "      <td>0.911111</td>\n",
              "      <td>0.924528</td>\n",
              "    </tr>\n",
              "  </tbody>\n",
              "</table>\n",
              "</div>\n",
              "      <button class=\"colab-df-convert\" onclick=\"convertToInteractive('df-ad38f069-00e2-48f1-81bf-36ff21e8c628')\"\n",
              "              title=\"Convert this dataframe to an interactive table.\"\n",
              "              style=\"display:none;\">\n",
              "        \n",
              "  <svg xmlns=\"http://www.w3.org/2000/svg\" height=\"24px\"viewBox=\"0 0 24 24\"\n",
              "       width=\"24px\">\n",
              "    <path d=\"M0 0h24v24H0V0z\" fill=\"none\"/>\n",
              "    <path d=\"M18.56 5.44l.94 2.06.94-2.06 2.06-.94-2.06-.94-.94-2.06-.94 2.06-2.06.94zm-11 1L8.5 8.5l.94-2.06 2.06-.94-2.06-.94L8.5 2.5l-.94 2.06-2.06.94zm10 10l.94 2.06.94-2.06 2.06-.94-2.06-.94-.94-2.06-.94 2.06-2.06.94z\"/><path d=\"M17.41 7.96l-1.37-1.37c-.4-.4-.92-.59-1.43-.59-.52 0-1.04.2-1.43.59L10.3 9.45l-7.72 7.72c-.78.78-.78 2.05 0 2.83L4 21.41c.39.39.9.59 1.41.59.51 0 1.02-.2 1.41-.59l7.78-7.78 2.81-2.81c.8-.78.8-2.07 0-2.86zM5.41 20L4 18.59l7.72-7.72 1.47 1.35L5.41 20z\"/>\n",
              "  </svg>\n",
              "      </button>\n",
              "      \n",
              "  <style>\n",
              "    .colab-df-container {\n",
              "      display:flex;\n",
              "      flex-wrap:wrap;\n",
              "      gap: 12px;\n",
              "    }\n",
              "\n",
              "    .colab-df-convert {\n",
              "      background-color: #E8F0FE;\n",
              "      border: none;\n",
              "      border-radius: 50%;\n",
              "      cursor: pointer;\n",
              "      display: none;\n",
              "      fill: #1967D2;\n",
              "      height: 32px;\n",
              "      padding: 0 0 0 0;\n",
              "      width: 32px;\n",
              "    }\n",
              "\n",
              "    .colab-df-convert:hover {\n",
              "      background-color: #E2EBFA;\n",
              "      box-shadow: 0px 1px 2px rgba(60, 64, 67, 0.3), 0px 1px 3px 1px rgba(60, 64, 67, 0.15);\n",
              "      fill: #174EA6;\n",
              "    }\n",
              "\n",
              "    [theme=dark] .colab-df-convert {\n",
              "      background-color: #3B4455;\n",
              "      fill: #D2E3FC;\n",
              "    }\n",
              "\n",
              "    [theme=dark] .colab-df-convert:hover {\n",
              "      background-color: #434B5C;\n",
              "      box-shadow: 0px 1px 3px 1px rgba(0, 0, 0, 0.15);\n",
              "      filter: drop-shadow(0px 1px 2px rgba(0, 0, 0, 0.3));\n",
              "      fill: #FFFFFF;\n",
              "    }\n",
              "  </style>\n",
              "\n",
              "      <script>\n",
              "        const buttonEl =\n",
              "          document.querySelector('#df-ad38f069-00e2-48f1-81bf-36ff21e8c628 button.colab-df-convert');\n",
              "        buttonEl.style.display =\n",
              "          google.colab.kernel.accessAllowed ? 'block' : 'none';\n",
              "\n",
              "        async function convertToInteractive(key) {\n",
              "          const element = document.querySelector('#df-ad38f069-00e2-48f1-81bf-36ff21e8c628');\n",
              "          const dataTable =\n",
              "            await google.colab.kernel.invokeFunction('convertToInteractive',\n",
              "                                                     [key], {});\n",
              "          if (!dataTable) return;\n",
              "\n",
              "          const docLinkHtml = 'Like what you see? Visit the ' +\n",
              "            '<a target=\"_blank\" href=https://colab.research.google.com/notebooks/data_table.ipynb>data table notebook</a>'\n",
              "            + ' to learn more about interactive tables.';\n",
              "          element.innerHTML = '';\n",
              "          dataTable['output_type'] = 'display_data';\n",
              "          await google.colab.output.renderOutput(dataTable, element);\n",
              "          const docLink = document.createElement('div');\n",
              "          docLink.innerHTML = docLinkHtml;\n",
              "          element.appendChild(docLink);\n",
              "        }\n",
              "      </script>\n",
              "    </div>\n",
              "  </div>\n",
              "  "
            ]
          },
          "metadata": {},
          "execution_count": 338
        }
      ]
    },
    {
      "cell_type": "code",
      "source": [
        "matrix_list = [matrix_lg,matrix_svc,matrix_xgb,matrix_lg_2,matrix_svc_2,matrix_xgb_2]\n",
        "fig, axn = plt.subplots(2,3,figsize=(20,10))\n",
        "\n",
        "for i, ax in enumerate(axn.flat):\n",
        "    sns.heatmap(matrix_list[i], annot=True, fmt='g', ax=ax,cmap='Greens')\n",
        "    ax.set_xlabel('Sklasyfikowane etykiety');ax.set_ylabel('Prawdziwe etykiety')\n",
        "    ax.set_title(f'Macierz pomyłek modelu {modele_nazwy[i]}');\n",
        "    ax.xaxis.set_ticklabels(modele[i].classes_); ax.yaxis.set_ticklabels(modele[i].classes_);"
      ],
      "metadata": {
        "colab": {
          "base_uri": "https://localhost:8080/",
          "height": 872
        },
        "id": "v0ZRNrGnHLvf",
        "outputId": "54d6faaa-6d1b-41da-9814-f9dfa0b98637"
      },
      "execution_count": 348,
      "outputs": [
        {
          "output_type": "display_data",
          "data": {
            "text/plain": [
              "<Figure size 2000x1000 with 12 Axes>"
            ],
            "image/png": "[encoded data removed]"
          },
          "metadata": {}
        }
      ]
    },
    {
      "cell_type": "markdown",
      "source": [
        "##Ważność atrybutów\n",
        "Ważność atrybutów została wyliczona dla modelu regresji logistycznej oraz XGBoost dla danych bez PCA. Transforamcja danych przez metodę kernel 'rbf' wykorzystywaną w algorytmie wektorów nośnych uniemożliwia znalezienie najważniejszych zmiennych wpływających na skuteczność modelu."
      ],
      "metadata": {
        "id": "RXOv0m3TpQcc"
      }
    },
    {
      "cell_type": "code",
      "source": [
        "figure, axis = plt.subplots(2, 1, figsize=(15,7))\n",
        "ax1 = pd.Series(clf_lg_2.coef_[0], index=X_test_2.columns).nlargest(10).plot(ax=axis[0],kind='barh')\n",
        "ax1.bar_label(ax1.containers[0])\n",
        "ax1.set_title(f'Ważność atrybutów modelu Regresji logistycznej');\n",
        "\n",
        "ax = pd.Series(xgb_2.feature_importances_, index=X_test_2.columns).nlargest(10).plot(ax=axis[1],kind='barh')\n",
        "ax.bar_label(ax.containers[0])\n",
        "ax.set_title(f'Ważność atrybutów modelu XGBoost');"
      ],
      "metadata": {
        "colab": {
          "base_uri": "https://localhost:8080/",
          "height": 622
        },
        "id": "AReSAPwWSDJh",
        "outputId": "29a1cae2-a89f-428c-eea6-777c4d7a1bb9"
      },
      "execution_count": 349,
      "outputs": [
        {
          "output_type": "display_data",
          "data": {
            "text/plain": [
              "<Figure size 1500x700 with 2 Axes>"
            ],
            "image/png": "[encoded data removed]"
          },
          "metadata": {}
        }
      ]
    },
    {
      "cell_type": "markdown",
      "source": [
        "##Wnioski\n",
        "Skuteczniejszymi modelami okazały się modele nauczone z wykorzystaniem danych nieprzetworzonych przez analizę głównych składowych. Wynika to z tego, że każda redukcja wymiaru powoduje zmniejszenie się wartości wariancji.\n",
        "\n",
        "Najskuteczniejszy model jeśli chodzi o miarę f1 oraz dokładność to model XGBoost (f1 = 0.89), model ten również był najdokładnieszy jeśli chodzi o poprawne przewidywanie klasy 1, co pokazuje miara czułości równa"
      ],
      "metadata": {
        "id": "uTafg5EOXV3v"
      }
    }
  ],
  "metadata": {
    "colab": {
      "provenance": [],
      "collapsed_sections": [
        "zYNvNRdiHba7",
        "82gIrCs5jmr1",
        "bsHOcGrkjmr7",
        "qk1KktxRjmr9",
        "SfOOCLvYjmsA",
        "BhTXah14eVVQ",
        "Ak5ekbeSjmso"
      ],
      "gpuType": "T4"
    },
    "kernelspec": {
      "display_name": "Python 3",
      "name": "python3"
    },
    "language_info": {
      "name": "python"
    },
    "accelerator": "GPU"
  },
  "nbformat": 4,
  "nbformat_minor": 0
}